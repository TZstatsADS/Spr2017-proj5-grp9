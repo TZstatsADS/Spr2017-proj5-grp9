{
 "cells": [
  {
   "cell_type": "markdown",
   "metadata": {},
   "source": [
    "# Figures for users and books"
   ]
  },
  {
   "cell_type": "code",
   "execution_count": 118,
   "metadata": {
    "collapsed": false
   },
   "outputs": [],
   "source": [
    "import matplotlib.pyplot as plt\n",
    "import numpy as np"
   ]
  },
  {
   "cell_type": "code",
   "execution_count": 119,
   "metadata": {
    "collapsed": false
   },
   "outputs": [],
   "source": [
    "# The users vector\n",
    "u = [[-0.3,-0.8] ,[0.3,0.9]]\n",
    "np_u = np.array(u)"
   ]
  },
  {
   "cell_type": "code",
   "execution_count": 120,
   "metadata": {
    "collapsed": false
   },
   "outputs": [],
   "source": [
    "# The book vector\n",
    "v = [[-0.7,0.5],[0.3,0.6]]\n",
    "np_v = np.array(v)"
   ]
  },
  {
   "cell_type": "code",
   "execution_count": 121,
   "metadata": {
    "collapsed": false
   },
   "outputs": [
    {
     "data": {
      "image/png": "[encoded data removed]",
      "text/plain": [
       "<matplotlib.figure.Figure at 0x117f89c18>"
      ]
     },
     "metadata": {},
     "output_type": "display_data"
    }
   ],
   "source": [
    "from mpl_toolkits.axes_grid.axislines import SubplotZero\n",
    "\n",
    "if 1:\n",
    "    fig = plt.figure(1)\n",
    "    ax = SubplotZero(fig, 111)\n",
    "    fig.add_subplot(ax)\n",
    "\n",
    "    for direction in [\"xzero\", \"yzero\"]:\n",
    "        ax.axis[direction].set_axisline_style(\"-|>\")\n",
    "        ax.axis[direction].set_visible(True)\n",
    "\n",
    "    for direction in [\"left\", \"right\", \"bottom\", \"top\"]:\n",
    "        ax.axis[direction].set_visible(False)\n",
    "        \n",
    "    x = np.linspace(-1.2, 1.2, 2)\n",
    "    ax.plot(x,x,'w')\n",
    "\n",
    "    # The axis texts\n",
    "    ax.text(1.5,-0.2,'realistic',fontsize=14)\n",
    "    ax.text(-2,-0.2,\"unrealistic\",fontsize=14)\n",
    "    ax.text(-0.2,1.7,'serious',fontsize=14)\n",
    "    ax.text(-0.2,-1.7,\"funny\",fontsize=14)\n",
    "    \n",
    "    # The vector of books\n",
    "    ax.text(v[0][0],v[0][1],'book1',style='italic',bbox={'facecolor':'red','alpha':0.5,'pad':4})\n",
    "    ax.text(v[1][0],v[1][1],'book2',style='italic',bbox={'facecolor':'red','alpha':0.5,'pad':4})\n",
    "    \n",
    "    # The vector of users\n",
    "    ax.text(u[0][0],u[0][1],'user1',style='italic',bbox={'facecolor':'yellow','alpha':0.5,'pad':4})\n",
    "    ax.text(u[1][0],u[1][1],'user2',style='italic',bbox={'facecolor':'yellow','alpha':0.5,'pad':4})\n",
    "\n",
    "    plt.show()"
   ]
  }
 ],
 "metadata": {
  "kernelspec": {
   "display_name": "Python 3",
   "language": "python",
   "name": "python3"
  },
  "language_info": {
   "codemirror_mode": {
    "name": "ipython",
    "version": 3
   },
   "file_extension": ".py",
   "mimetype": "text/x-python",
   "name": "python",
   "nbconvert_exporter": "python",
   "pygments_lexer": "ipython3",
   "version": "3.6.0"
  }
 },
 "nbformat": 4,
 "nbformat_minor": 2
}
