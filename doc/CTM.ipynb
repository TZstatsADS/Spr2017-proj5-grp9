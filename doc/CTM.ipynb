{
 "cells": [
  {
   "cell_type": "markdown",
   "metadata": {},
   "source": [
    "# Collaborative Topic Regression"
   ]
  },
  {
   "cell_type": "code",
   "execution_count": 1,
   "metadata": {
    "collapsed": true
   },
   "outputs": [],
   "source": [
    "import numpy as np\n",
    "from random import sample"
   ]
  },
  {
   "cell_type": "code",
   "execution_count": 4,
   "metadata": {
    "collapsed": true
   },
   "outputs": [],
   "source": [
    "def ctm(R_dict,Theta,n_U,n_epoch=20,batch_size=50,lambda_u=0.002,lambda_v=0.2,alpha=0.002):\n",
    "    '''\n",
    "    input: R_dict, {(i,j): Rij} maps ith user and jth item to non-zero rating i,j\n",
    "           Theta, JxK matrix, jth row is a K-dim topic vector for jth item\n",
    "           n_U, number of unique users in R_dict\n",
    "           n_epoch, number of iterations\n",
    "           lambda_u, regularization parameter for U\n",
    "           lambda_v, regularization parameter for V\n",
    "           alpha, learning rate\n",
    "           \n",
    "    output: U, a IxK matrix, each row is a K-dim representation for ith user\n",
    "            V, a JxK matrix, each row is a K-dim representation for jth item\n",
    "            U_id, user ids\n",
    "            V_id, item ids\n",
    "    '''\n",
    "    n_V,K = Theta.shape # get dimension of parameters\n",
    "    U = np.random.rand(n_U,K)\n",
    "    V = Theta.copy() # initialize parameters\n",
    "    N = len(R_dict)\n",
    "    pairs = R_dict.keys()\n",
    "    \n",
    "    if N<batch_size:\n",
    "        batch_size = 1\n",
    "    \n",
    "    for t in range(n_epoch):\n",
    "        delta = 0 # change in gradient\n",
    "        to_use = sample(pairs, batch_size)\n",
    "        for i,j in to_use: \n",
    "                r = R_dict[(i,j)]\n",
    "                u,v = U[i,:],V[j,:]\n",
    "                theta = Theta[j,:]\n",
    "                \n",
    "                gu = 2*(u.dot(v.T)-r)*v+2*lambda_u*u\n",
    "                gv = 2*(v.dot(u.T)-r.T)*u+2*lambda_v*(v-theta) # calculate gradient\n",
    "                u -= alpha*gu\n",
    "                v -= alpha*gv # update parameters\n",
    "                \n",
    "                delta += (np.linalg.norm(gu)+np.linalg.norm(gv)) # calculate change in gradient\n",
    "                U[i,:] = u\n",
    "                V[j,:] = v\n",
    "        \n",
    "        if delta < 0.001:\n",
    "            break\n",
    "    return (U,V)"
   ]
  },
  {
   "cell_type": "markdown",
   "metadata": {},
   "source": [
    "# example"
   ]
  },
  {
   "cell_type": "code",
   "execution_count": 6,
   "metadata": {},
   "outputs": [
    {
     "data": {
      "text/plain": [
       "5.7035805547427936"
      ]
     },
     "execution_count": 6,
     "metadata": {},
     "output_type": "execute_result"
    }
   ],
   "source": [
    "n = 5\n",
    "np.random.seed(59)\n",
    "R = np.random.randint(0,5,size=(n,n))\n",
    "R_dict = {}\n",
    "for i in range(n):\n",
    "    for j in range(n):\n",
    "        if R[i,j]!=0:\n",
    "            R_dict[(i,j)] = R[i,j]\n",
    "\n",
    "Theta = np.random.rand(n,50)\n",
    "\n",
    "U,V = ctm(R_dict,Theta,n,n_epoch=1000)\n",
    "np.sum((U.dot(V.T)-R)**2)/len(R_dict)"
   ]
  },
  {
   "cell_type": "code",
   "execution_count": 11,
   "metadata": {
    "scrolled": true
   },
   "outputs": [
    {
     "name": "stdout",
     "output_type": "stream",
     "text": [
      "10 loops, best of 3: 30.6 ms per loop\n"
     ]
    }
   ],
   "source": [
    "# To make it converge quick we should take average topic distribution of all the books a costumer has read as his or her initial feature\n",
    "% timeit U,V = ctm(R_dict,Theta,n,n_epoch=1000)"
   ]
  },
  {
   "cell_type": "markdown",
   "metadata": {},
   "source": [
    "Estimated Rating"
   ]
  },
  {
   "cell_type": "code",
   "execution_count": 9,
   "metadata": {
    "scrolled": true
   },
   "outputs": [
    {
     "data": {
      "text/plain": [
       "array([[ 1.3,  3.9,  2.9,  1.1,  3.9],\n",
       "       [ 2.7,  5.8,  3. ,  1.7,  4.7],\n",
       "       [ 1.2,  3.8,  2.2,  1. ,  3. ],\n",
       "       [ 2.1,  2.1,  2.3,  3.5,  1.1],\n",
       "       [ 2. ,  5.2,  1.4,  2. ,  3.8]])"
      ]
     },
     "execution_count": 9,
     "metadata": {},
     "output_type": "execute_result"
    }
   ],
   "source": [
    "U.dot(V.T).round(1)"
   ]
  },
  {
   "cell_type": "markdown",
   "metadata": {},
   "source": [
    "True Rating"
   ]
  },
  {
   "cell_type": "code",
   "execution_count": 10,
   "metadata": {},
   "outputs": [
    {
     "data": {
      "text/plain": [
       "array([[1, 4, 3, 1, 0],\n",
       "       [3, 0, 3, 1, 0],\n",
       "       [1, 4, 2, 1, 3],\n",
       "       [2, 2, 2, 4, 1],\n",
       "       [2, 0, 1, 2, 0]])"
      ]
     },
     "execution_count": 10,
     "metadata": {},
     "output_type": "execute_result"
    }
   ],
   "source": [
    "R"
   ]
  },
  {
   "cell_type": "code",
   "execution_count": 330,
   "metadata": {
    "collapsed": true
   },
   "outputs": [
    {
     "data": {
      "text/plain": [
       "'\\ndef ctm_matrix(R,Theta,U_batch_size=50,V_batch_size=40,n_epoch=20,lambda_u=0.002,lambda_v=0.2,alpha=0.0002):\\n    I,J = R.shape\\n    K = Theta.shape[1] # get dimension of parameters\\n    \\n    U = np.random.rand(I,K)\\n    V = Theta.copy() # initialize parameters\\n    \\n    n_U = int(np.ceil(I/(U_batch_size*1.0)))\\n    n_V = int(np.ceil(J/(V_batch_size*1.0)))# number of batches to be iterated\\n    \\n    for t in range(n_epoch):\\n        delta = 0 # change in gradient\\n        for u_th in range(n_U):\\n            for v_th in range(n_V): # for each mini_batch, do\\n                r = R[U_batch_size*(u_th):U_batch_size*(u_th+1),V_batch_size*(v_th):V_batch_size*(v_th+1)] \\n                u = U[U_batch_size*(u_th):U_batch_size*(u_th+1),:]\\n                v = V[V_batch_size*(v_th):V_batch_size*(v_th+1),:]\\n                theta = Theta[V_batch_size*(v_th):V_batch_size*(v_th+1),:] # get sub parameters\\n                \\n                gu = 2*(u.dot(v.T)-r).dot(v)+2*lambda_u*u\\n                gv = 2*(v.dot(u.T)-r.T).dot(u)+2*lambda_v*(v-theta) # calculate gradient\\n                u -= alpha*gu\\n                v -= alpha*gv # update parameters\\n                \\n                delta += (np.linalg.norm(gu)+np.linalg.norm(gv)) # calculate change in gradient\\n                U[U_batch_size*(u_th):U_batch_size*(u_th+1),:] = u\\n                V[V_batch_size*(v_th):V_batch_size*(v_th+1),:] = v\\n        \\n        if delta < 0.001:\\n            break\\n    return (U,V)\\n\\n'"
      ]
     },
     "execution_count": 330,
     "metadata": {},
     "output_type": "execute_result"
    }
   ],
   "source": [
    "'''\n",
    "def ctm_matrix(R,Theta,U_batch_size=50,V_batch_size=40,n_epoch=20,lambda_u=0.002,lambda_v=0.2,alpha=0.0002):\n",
    "    I,J = R.shape\n",
    "    K = Theta.shape[1] # get dimension of parameters\n",
    "    \n",
    "    U = np.random.rand(I,K)\n",
    "    V = Theta.copy() # initialize parameters\n",
    "    \n",
    "    n_U = int(np.ceil(I/(U_batch_size*1.0)))\n",
    "    n_V = int(np.ceil(J/(V_batch_size*1.0)))# number of batches to be iterated\n",
    "    \n",
    "    for t in range(n_epoch):\n",
    "        delta = 0 # change in gradient\n",
    "        for u_th in range(n_U):\n",
    "            for v_th in range(n_V): # for each mini_batch, do\n",
    "                r = R[U_batch_size*(u_th):U_batch_size*(u_th+1),V_batch_size*(v_th):V_batch_size*(v_th+1)] \n",
    "                u = U[U_batch_size*(u_th):U_batch_size*(u_th+1),:]\n",
    "                v = V[V_batch_size*(v_th):V_batch_size*(v_th+1),:]\n",
    "                theta = Theta[V_batch_size*(v_th):V_batch_size*(v_th+1),:] # get sub parameters\n",
    "                \n",
    "                gu = 2*(u.dot(v.T)-r).dot(v)+2*lambda_u*u\n",
    "                gv = 2*(v.dot(u.T)-r.T).dot(u)+2*lambda_v*(v-theta) # calculate gradient\n",
    "                u -= alpha*gu\n",
    "                v -= alpha*gv # update parameters\n",
    "                \n",
    "                delta += (np.linalg.norm(gu)+np.linalg.norm(gv)) # calculate change in gradient\n",
    "                U[U_batch_size*(u_th):U_batch_size*(u_th+1),:] = u\n",
    "                V[V_batch_size*(v_th):V_batch_size*(v_th+1),:] = v\n",
    "        \n",
    "        if delta < 0.001:\n",
    "            break\n",
    "    return (U,V)\n",
    "\n",
    "'''"
   ]
  },
  {
   "cell_type": "markdown",
   "metadata": {
    "collapsed": true
   },
   "source": [
    "# Spark Version CTM"
   ]
  },
  {
   "cell_type": "code",
   "execution_count": null,
   "metadata": {
    "collapsed": true
   },
   "outputs": [],
   "source": [
    "from __future__ import print_function\n",
    "\n",
    "import numpy as np\n",
    "from numpy.random import rand\n",
    "from numpy import matrix\n",
    "from pyspark.sql import SparkSession"
   ]
  },
  {
   "cell_type": "code",
   "execution_count": null,
   "metadata": {
    "collapsed": true
   },
   "outputs": [],
   "source": []
  },
  {
   "cell_type": "code",
   "execution_count": null,
   "metadata": {
    "collapsed": true
   },
   "outputs": [],
   "source": []
  },
  {
   "cell_type": "code",
   "execution_count": null,
   "metadata": {
    "collapsed": true
   },
   "outputs": [],
   "source": []
  },
  {
   "cell_type": "code",
   "execution_count": null,
   "metadata": {
    "collapsed": true
   },
   "outputs": [],
   "source": []
  },
  {
   "cell_type": "code",
   "execution_count": null,
   "metadata": {
    "collapsed": true
   },
   "outputs": [],
   "source": []
  },
  {
   "cell_type": "code",
   "execution_count": null,
   "metadata": {
    "collapsed": true
   },
   "outputs": [],
   "source": []
  },
  {
   "cell_type": "code",
   "execution_count": null,
   "metadata": {
    "collapsed": true
   },
   "outputs": [],
   "source": []
  }
 ],
 "metadata": {
  "kernelspec": {
   "display_name": "Python 2",
   "language": "python",
   "name": "python2"
  },
  "language_info": {
   "codemirror_mode": {
    "name": "ipython",
    "version": 2
   },
   "file_extension": ".py",
   "mimetype": "text/x-python",
   "name": "python",
   "nbconvert_exporter": "python",
   "pygments_lexer": "ipython2",
   "version": "2.7.13"
  }
 },
 "nbformat": 4,
 "nbformat_minor": 2
}
