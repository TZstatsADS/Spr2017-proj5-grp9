{
 "cells": [
  {
   "cell_type": "markdown",
   "metadata": {
    "collapsed": true
   },
   "source": [
    "# Setup Environment"
   ]
  },
  {
   "cell_type": "code",
   "execution_count": 16,
   "metadata": {
    "collapsed": false
   },
   "outputs": [],
   "source": [
    "import findspark\n",
    "findspark.init('/Users/Zoe/spark-2.1.0-bin-hadoop2.7/')\n",
    "from pyspark import SparkContext \n",
    "from pyspark.sql import SQLContext \n",
    "from pyspark.mllib.recommendation import ALS\n",
    "sc = SparkContext(appName=\"BuildProductRecommendations\")\n",
    "sqlContext = SQLContext(sc)"
   ]
  },
  {
   "cell_type": "markdown",
   "metadata": {
    "collapsed": false
   },
   "source": [
    "# Read Data"
   ]
  },
  {
   "cell_type": "code",
   "execution_count": 2,
   "metadata": {
    "collapsed": false
   },
   "outputs": [],
   "source": [
    "import pandas as pd\n",
    "import gzip\n",
    "\n",
    "def parse(path):\n",
    "    g = gzip.open(path, 'rb')\n",
    "    for l in g:\n",
    "        yield eval(l)\n",
    "\n",
    "def getDF(path,n_rows=10):\n",
    "    i = 0\n",
    "    df = {}\n",
    "    for d in parse(path):\n",
    "        if i < n_rows:\n",
    "            df[i] = d \n",
    "            i += 1\n",
    "        else:\n",
    "            break\n",
    "    return pd.DataFrame.from_dict(df, orient='index')"
   ]
  },
  {
   "cell_type": "markdown",
   "metadata": {},
   "source": [
    "## Sampling data "
   ]
  },
  {
   "cell_type": "code",
   "execution_count": 3,
   "metadata": {
    "collapsed": false
   },
   "outputs": [
    {
     "name": "stdout",
     "output_type": "stream",
     "text": [
      "elapsed time is: 15.1039409637\n"
     ]
    }
   ],
   "source": [
    "# calculate reading time\n",
    "from time import time\n",
    "start = time()\n",
    "# df = getDF('reviews_Kindle_Store_5.json.gz',982619)\n",
    "n_prod_review_df = getDF('reviews_Kindle_Store_5.json.gz',80000)\n",
    "end = time()\n",
    "print('elapsed time is: %s' % (end - start))"
   ]
  },
  {
   "cell_type": "code",
   "execution_count": 4,
   "metadata": {
    "collapsed": false
   },
   "outputs": [
    {
     "data": {
      "text/html": [
       "<div>\n",
       "<table border=\"1\" class=\"dataframe\">\n",
       "  <thead>\n",
       "    <tr style=\"text-align: right;\">\n",
       "      <th></th>\n",
       "      <th>reviewerID</th>\n",
       "      <th>asin</th>\n",
       "      <th>reviewerName</th>\n",
       "      <th>helpful</th>\n",
       "      <th>unixReviewTime</th>\n",
       "      <th>reviewText</th>\n",
       "      <th>overall</th>\n",
       "      <th>reviewTime</th>\n",
       "      <th>summary</th>\n",
       "    </tr>\n",
       "  </thead>\n",
       "  <tbody>\n",
       "    <tr>\n",
       "      <th>0</th>\n",
       "      <td>A1F6404F1VG29J</td>\n",
       "      <td>B000F83SZQ</td>\n",
       "      <td>Avidreader</td>\n",
       "      <td>[0, 0]</td>\n",
       "      <td>1399248000</td>\n",
       "      <td>I enjoy vintage books and movies so I enjoyed ...</td>\n",
       "      <td>5.0</td>\n",
       "      <td>05 5, 2014</td>\n",
       "      <td>Nice vintage story</td>\n",
       "    </tr>\n",
       "    <tr>\n",
       "      <th>1</th>\n",
       "      <td>AN0N05A9LIJEQ</td>\n",
       "      <td>B000F83SZQ</td>\n",
       "      <td>critters</td>\n",
       "      <td>[2, 2]</td>\n",
       "      <td>1388966400</td>\n",
       "      <td>This book is a reissue of an old one; the auth...</td>\n",
       "      <td>4.0</td>\n",
       "      <td>01 6, 2014</td>\n",
       "      <td>Different...</td>\n",
       "    </tr>\n",
       "    <tr>\n",
       "      <th>2</th>\n",
       "      <td>A795DMNCJILA6</td>\n",
       "      <td>B000F83SZQ</td>\n",
       "      <td>dot</td>\n",
       "      <td>[2, 2]</td>\n",
       "      <td>1396569600</td>\n",
       "      <td>This was a fairly interesting read.  It had ol...</td>\n",
       "      <td>4.0</td>\n",
       "      <td>04 4, 2014</td>\n",
       "      <td>Oldie</td>\n",
       "    </tr>\n",
       "  </tbody>\n",
       "</table>\n",
       "</div>"
      ],
      "text/plain": [
       "       reviewerID        asin reviewerName helpful  unixReviewTime  \\\n",
       "0  A1F6404F1VG29J  B000F83SZQ   Avidreader  [0, 0]      1399248000   \n",
       "1   AN0N05A9LIJEQ  B000F83SZQ     critters  [2, 2]      1388966400   \n",
       "2   A795DMNCJILA6  B000F83SZQ          dot  [2, 2]      1396569600   \n",
       "\n",
       "                                          reviewText  overall  reviewTime  \\\n",
       "0  I enjoy vintage books and movies so I enjoyed ...      5.0  05 5, 2014   \n",
       "1  This book is a reissue of an old one; the auth...      4.0  01 6, 2014   \n",
       "2  This was a fairly interesting read.  It had ol...      4.0  04 4, 2014   \n",
       "\n",
       "              summary  \n",
       "0  Nice vintage story  \n",
       "1        Different...  \n",
       "2               Oldie  "
      ]
     },
     "execution_count": 4,
     "metadata": {},
     "output_type": "execute_result"
    }
   ],
   "source": [
    "n_prod_review_df.head(3)"
   ]
  },
  {
   "cell_type": "markdown",
   "metadata": {},
   "source": [
    "# Transform data format"
   ]
  },
  {
   "cell_type": "code",
   "execution_count": 5,
   "metadata": {
    "collapsed": false,
    "scrolled": true
   },
   "outputs": [],
   "source": [
    "n_prod_review_df['reviewTime'] = pd.to_datetime(n_prod_review_df['reviewTime'], format='%m %d, %Y')"
   ]
  },
  {
   "cell_type": "code",
   "execution_count": 6,
   "metadata": {
    "collapsed": false,
    "scrolled": true
   },
   "outputs": [],
   "source": [
    "n_prod_review_df['reviewYear'] = n_prod_review_df.reviewTime.dt.year\n",
    "n_prod_review_df['reviewMonth'] = n_prod_review_df.reviewTime.dt.month\n",
    "n_prod_review_df['reviewDay'] = n_prod_review_df.reviewTime.dt.day"
   ]
  },
  {
   "cell_type": "code",
   "execution_count": 7,
   "metadata": {
    "collapsed": false
   },
   "outputs": [
    {
     "data": {
      "text/html": [
       "<div>\n",
       "<table border=\"1\" class=\"dataframe\">\n",
       "  <thead>\n",
       "    <tr style=\"text-align: right;\">\n",
       "      <th></th>\n",
       "      <th>reviewerID</th>\n",
       "      <th>asin</th>\n",
       "      <th>reviewerName</th>\n",
       "      <th>helpful</th>\n",
       "      <th>unixReviewTime</th>\n",
       "      <th>reviewText</th>\n",
       "      <th>overall</th>\n",
       "      <th>reviewTime</th>\n",
       "      <th>summary</th>\n",
       "      <th>reviewYear</th>\n",
       "      <th>reviewMonth</th>\n",
       "      <th>reviewDay</th>\n",
       "    </tr>\n",
       "  </thead>\n",
       "  <tbody>\n",
       "    <tr>\n",
       "      <th>0</th>\n",
       "      <td>A1F6404F1VG29J</td>\n",
       "      <td>B000F83SZQ</td>\n",
       "      <td>Avidreader</td>\n",
       "      <td>[0, 0]</td>\n",
       "      <td>1399248000</td>\n",
       "      <td>I enjoy vintage books and movies so I enjoyed ...</td>\n",
       "      <td>5.0</td>\n",
       "      <td>2014-05-05</td>\n",
       "      <td>Nice vintage story</td>\n",
       "      <td>2014</td>\n",
       "      <td>5</td>\n",
       "      <td>5</td>\n",
       "    </tr>\n",
       "    <tr>\n",
       "      <th>1</th>\n",
       "      <td>AN0N05A9LIJEQ</td>\n",
       "      <td>B000F83SZQ</td>\n",
       "      <td>critters</td>\n",
       "      <td>[2, 2]</td>\n",
       "      <td>1388966400</td>\n",
       "      <td>This book is a reissue of an old one; the auth...</td>\n",
       "      <td>4.0</td>\n",
       "      <td>2014-01-06</td>\n",
       "      <td>Different...</td>\n",
       "      <td>2014</td>\n",
       "      <td>1</td>\n",
       "      <td>6</td>\n",
       "    </tr>\n",
       "  </tbody>\n",
       "</table>\n",
       "</div>"
      ],
      "text/plain": [
       "       reviewerID        asin reviewerName helpful  unixReviewTime  \\\n",
       "0  A1F6404F1VG29J  B000F83SZQ   Avidreader  [0, 0]      1399248000   \n",
       "1   AN0N05A9LIJEQ  B000F83SZQ     critters  [2, 2]      1388966400   \n",
       "\n",
       "                                          reviewText  overall reviewTime  \\\n",
       "0  I enjoy vintage books and movies so I enjoyed ...      5.0 2014-05-05   \n",
       "1  This book is a reissue of an old one; the auth...      4.0 2014-01-06   \n",
       "\n",
       "              summary  reviewYear  reviewMonth  reviewDay  \n",
       "0  Nice vintage story        2014            5          5  \n",
       "1        Different...        2014            1          6  "
      ]
     },
     "execution_count": 7,
     "metadata": {},
     "output_type": "execute_result"
    }
   ],
   "source": [
    "n_prod_review_df.head(2)"
   ]
  },
  {
   "cell_type": "code",
   "execution_count": 8,
   "metadata": {
    "collapsed": false,
    "scrolled": false
   },
   "outputs": [
    {
     "name": "stdout",
     "output_type": "stream",
     "text": [
      "I enjoy vintage books and movies so I enjoyed reading this book.  The plot was unusual.  Don't think killing someone in self-defense but leaving the scene and the body without notifying the police or hitting someone in the jaw to knock them out would wash today.Still it was a good read for me.\n"
     ]
    }
   ],
   "source": [
    "print(n_prod_review_df.head(2)['reviewText'].tolist()[0])"
   ]
  },
  {
   "cell_type": "code",
   "execution_count": 9,
   "metadata": {
    "collapsed": false
   },
   "outputs": [
    {
     "name": "stdout",
     "output_type": "stream",
     "text": [
      "This book is a reissue of an old one; the author was born in 1910. It's of the era of, say, Nero Wolfe. The introduction was quite interesting, explaining who the author was and why he's been forgotten; I'd never heard of him.The language is a little dated at times, like calling a gun a &#34;heater.&#34;  I also made good use of my Fire's dictionary to look up words like &#34;deshabille&#34; and &#34;Canarsie.&#34; Still, it was well worth a look-see.\n"
     ]
    }
   ],
   "source": [
    "print(n_prod_review_df.head(2)['reviewText'].tolist()[1])"
   ]
  },
  {
   "cell_type": "markdown",
   "metadata": {},
   "source": [
    "# Explore data in Pandas"
   ]
  },
  {
   "cell_type": "code",
   "execution_count": 10,
   "metadata": {
    "collapsed": false
   },
   "outputs": [
    {
     "name": "stderr",
     "output_type": "stream",
     "text": [
      "/Users/Zoe/anaconda/envs/NN_tutorial/lib/python2.7/site-packages/IPython/html.py:14: ShimWarning: The `IPython.html` package has been deprecated. You should import from `notebook` instead. `IPython.html.widgets` has moved to `ipywidgets`.\n",
      "  \"`IPython.html.widgets` has moved to `ipywidgets`.\", ShimWarning)\n"
     ]
    }
   ],
   "source": [
    "import matplotlib.pyplot as plt\n",
    "import matplotlib\n",
    "import seaborn as sns\n",
    "color = sns.color_palette()\n",
    "#matplotlib.style.use('ggplot')\n",
    "%matplotlib inline"
   ]
  },
  {
   "cell_type": "code",
   "execution_count": 12,
   "metadata": {
    "collapsed": false,
    "scrolled": true
   },
   "outputs": [
    {
     "data": {
      "text/plain": [
       "[<matplotlib.lines.Line2D at 0x10fdeaed0>]"
      ]
     },
     "execution_count": 12,
     "metadata": {},
     "output_type": "execute_result"
    },
    {
     "data": {
      "image/png": "[encoded data removed]",
      "text/plain": [
       "<matplotlib.figure.Figure at 0x1100a1fd0>"
      ]
     },
     "metadata": {},
     "output_type": "display_data"
    }
   ],
   "source": [
    "avg_rate = n_prod_review_df.groupby('reviewYear')['overall'].mean()\n",
    "plt.ylabel('average rate',fontsize=15)\n",
    "plt.xlabel('year',fontsize=15)\n",
    "plt.title('Average Rating by Year',fontsize=20)\n",
    "plt.plot(avg_rate.index,avg_rate)"
   ]
  },
  {
   "cell_type": "code",
   "execution_count": 17,
   "metadata": {
    "collapsed": false
   },
   "outputs": [
    {
     "data": {
      "text/plain": [
       "[<matplotlib.lines.Line2D at 0x10fdd2fd0>]"
      ]
     },
     "execution_count": 17,
     "metadata": {},
     "output_type": "execute_result"
    },
    {
     "data": {
      "image/png": "[encoded data removed]",
      "text/plain": [
       "<matplotlib.figure.Figure at 0x10f5c5350>"
      ]
     },
     "metadata": {},
     "output_type": "display_data"
    }
   ],
   "source": [
    "avg_rate = n_prod_review_df.groupby('reviewMonth')['overall'].mean()\n",
    "plt.ylabel('average rate',fontsize=15)\n",
    "plt.xlabel('month',fontsize=15)\n",
    "plt.title('Average Rating by Month',fontsize=20)\n",
    "plt.plot(avg_rate.index,avg_rate,color=color[1])"
   ]
  },
  {
   "cell_type": "code",
   "execution_count": 21,
   "metadata": {
    "collapsed": false,
    "scrolled": true
   },
   "outputs": [
    {
     "data": {
      "text/plain": [
       "<matplotlib.text.Text at 0x1105838d0>"
      ]
     },
     "execution_count": 21,
     "metadata": {},
     "output_type": "execute_result"
    },
    {
     "data": {
      "image/png": "[encoded data removed]",
      "text/plain": [
       "<matplotlib.figure.Figure at 0x10f5f1fd0>"
      ]
     },
     "metadata": {},
     "output_type": "display_data"
    }
   ],
   "source": [
    "n_prod_review_df.groupby('asin')['overall'].mean().hist(color=color[2])\n",
    "plt.xlabel('Rating',fontsize=15)\n",
    "plt.ylabel('Frequency',fontsize=15)\n",
    "plt.title('Rating Distribution',fontsize=20)"
   ]
  },
  {
   "cell_type": "code",
   "execution_count": 22,
   "metadata": {
    "collapsed": false
   },
   "outputs": [
    {
     "data": {
      "text/plain": [
       "<matplotlib.text.Text at 0x10f2b3850>"
      ]
     },
     "execution_count": 22,
     "metadata": {},
     "output_type": "execute_result"
    },
    {
     "data": {
      "image/png": "[encoded data removed]",
      "text/plain": [
       "<matplotlib.figure.Figure at 0x10f745790>"
      ]
     },
     "metadata": {},
     "output_type": "display_data"
    }
   ],
   "source": [
    "n_prod_review_df[['reviewerID','asin','reviewTime','reviewYear']].T.apply(lambda x: x.nunique(), axis=1).plot.bar(color=color[3])\n",
    "plt.xlabel('Attibutes',fontsize=15)\n",
    "plt.ylabel('Number of Counts',fontsize=15)\n",
    "plt.title('Number of Unique items in each category')"
   ]
  },
  {
   "cell_type": "code",
   "execution_count": 24,
   "metadata": {
    "collapsed": false
   },
   "outputs": [
    {
     "data": {
      "text/plain": [
       "<matplotlib.text.Text at 0x10ebe4790>"
      ]
     },
     "execution_count": 24,
     "metadata": {},
     "output_type": "execute_result"
    },
    {
     "data": {
      "image/png": "[encoded data removed]",
      "text/plain": [
       "<matplotlib.figure.Figure at 0x10d7dd750>"
      ]
     },
     "metadata": {},
     "output_type": "display_data"
    }
   ],
   "source": [
    "n_prod_review_df.groupby('reviewYear')['overall'].count().plot.bar(color=color[4])\n",
    "plt.xlabel('Year of Review',fontsize=15)\n",
    "plt.ylabel('Number of Counts',fontsize=15)\n",
    "plt.title('Number of Reviews in Each Year',fontsize=20)"
   ]
  },
  {
   "cell_type": "code",
   "execution_count": 25,
   "metadata": {
    "collapsed": false
   },
   "outputs": [
    {
     "data": {
      "text/plain": [
       "<matplotlib.text.Text at 0x117f7a790>"
      ]
     },
     "execution_count": 25,
     "metadata": {},
     "output_type": "execute_result"
    },
    {
     "data": {
      "image/png": "[encoded data removed]",
      "text/plain": [
       "<matplotlib.figure.Figure at 0x1180b0bd0>"
      ]
     },
     "metadata": {},
     "output_type": "display_data"
    }
   ],
   "source": [
    "n_prod_review_df.groupby('reviewMonth')['overall'].count().plot.bar(color=color[5])\n",
    "plt.xlabel('Month of Review',fontsize=15)\n",
    "plt.ylabel('Number of Counts',fontsize=15)\n",
    "plt.title('Number of Reviews in Each Month',fontsize=20)"
   ]
  },
  {
   "cell_type": "code",
   "execution_count": null,
   "metadata": {
    "collapsed": true
   },
   "outputs": [],
   "source": []
  },
  {
   "cell_type": "code",
   "execution_count": null,
   "metadata": {
    "collapsed": true
   },
   "outputs": [],
   "source": []
  },
  {
   "cell_type": "code",
   "execution_count": null,
   "metadata": {
    "collapsed": true
   },
   "outputs": [],
   "source": []
  },
  {
   "cell_type": "code",
   "execution_count": null,
   "metadata": {
    "collapsed": true
   },
   "outputs": [],
   "source": []
  },
  {
   "cell_type": "code",
   "execution_count": null,
   "metadata": {
    "collapsed": true
   },
   "outputs": [],
   "source": []
  },
  {
   "cell_type": "code",
   "execution_count": null,
   "metadata": {
    "collapsed": true
   },
   "outputs": [],
   "source": []
  },
  {
   "cell_type": "code",
   "execution_count": null,
   "metadata": {
    "collapsed": true
   },
   "outputs": [],
   "source": []
  },
  {
   "cell_type": "markdown",
   "metadata": {},
   "source": [
    "# Scale-up in Spark"
   ]
  },
  {
   "cell_type": "markdown",
   "metadata": {},
   "source": [
    "### data type\n",
    "all = [ \"DataType\", \"NullType\", \"StringType\", \"BinaryType\", \"BooleanType\", \"DateType\", \"TimestampType\", \"DecimalType\", \"DoubleType\", \"FloatType\", \"ByteType\", \"IntegerType\", \"LongType\", \"ShortType\", \"ArrayType\", \"MapType\", \"StructField\", \"StructType\"]"
   ]
  },
  {
   "cell_type": "code",
   "execution_count": 21,
   "metadata": {
    "collapsed": true
   },
   "outputs": [],
   "source": [
    "from pyspark.sql.types import *"
   ]
  },
  {
   "cell_type": "code",
   "execution_count": 22,
   "metadata": {
    "collapsed": false
   },
   "outputs": [],
   "source": [
    "schema = StructType([StructField('overall', FloatType(), True),\n",
    "                     StructField('unixReviewTime', IntegerType(), True),\n",
    "                     StructField('reviewTime', StringType(), True)])\n",
    "n_prod_review_rdd = sqlContext.createDataFrame(n_prod_review_df[['overall','unixReviewTime','reviewTime']],schema).rdd"
   ]
  },
  {
   "cell_type": "code",
   "execution_count": null,
   "metadata": {
    "collapsed": true
   },
   "outputs": [],
   "source": []
  }
 ],
 "metadata": {
  "kernelspec": {
   "display_name": "Python 2",
   "language": "python",
   "name": "python2"
  },
  "language_info": {
   "codemirror_mode": {
    "name": "ipython",
    "version": 2
   },
   "file_extension": ".py",
   "mimetype": "text/x-python",
   "name": "python",
   "nbconvert_exporter": "python",
   "pygments_lexer": "ipython2",
   "version": "2.7.13"
  }
 },
 "nbformat": 4,
 "nbformat_minor": 0
}
