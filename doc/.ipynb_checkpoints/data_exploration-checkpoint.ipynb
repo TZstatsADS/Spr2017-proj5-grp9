{
 "cells": [
  {
   "cell_type": "code",
   "execution_count": 1,
   "metadata": {
    "collapsed": true
   },
   "outputs": [],
   "source": [
    "import graphlab as gl"
   ]
  },
  {
   "cell_type": "code",
   "execution_count": 2,
   "metadata": {
    "scrolled": true
   },
   "outputs": [
    {
     "name": "stdout",
     "output_type": "stream",
     "text": [
      "This non-commercial license of GraphLab Create for academic use is assigned to zm2245@columbia.edu and will expire on April 20, 2018.\n"
     ]
    },
    {
     "name": "stderr",
     "output_type": "stream",
     "text": [
      "[INFO] graphlab.cython.cy_server: GraphLab Create v2.1 started. Logging: /tmp/graphlab_server_1492741054.log\n"
     ]
    },
    {
     "data": {
      "text/html": [
       "<pre>Finished parsing file /Users/Zoe/Documents/Spring2017/GR5243/MyPrjs/localData/prj5/meta_Kindle_Store.json</pre>"
      ],
      "text/plain": [
       "Finished parsing file /Users/Zoe/Documents/Spring2017/GR5243/MyPrjs/localData/prj5/meta_Kindle_Store.json"
      ]
     },
     "metadata": {},
     "output_type": "display_data"
    },
    {
     "data": {
      "text/html": [
       "<pre>Parsing completed. Parsed 100 lines in 1.5603 secs.</pre>"
      ],
      "text/plain": [
       "Parsing completed. Parsed 100 lines in 1.5603 secs."
      ]
     },
     "metadata": {},
     "output_type": "display_data"
    },
    {
     "name": "stdout",
     "output_type": "stream",
     "text": [
      "------------------------------------------------------\n",
      "Inferred types from first 100 line(s) of file as \n",
      "column_type_hints=[dict]\n",
      "If parsing fails due to incorrect types, you can correct\n",
      "the inferred type list above and pass it to read_csv in\n",
      "the column_type_hints argument\n",
      "------------------------------------------------------\n"
     ]
    },
    {
     "data": {
      "text/html": [
       "<pre>Read 34790 lines. Lines per second: 12213.2</pre>"
      ],
      "text/plain": [
       "Read 34790 lines. Lines per second: 12213.2"
      ]
     },
     "metadata": {},
     "output_type": "display_data"
    },
    {
     "data": {
      "text/html": [
       "<pre>Read 158032 lines. Lines per second: 17138.8</pre>"
      ],
      "text/plain": [
       "Read 158032 lines. Lines per second: 17138.8"
      ]
     },
     "metadata": {},
     "output_type": "display_data"
    },
    {
     "data": {
      "text/html": [
       "<pre>Read 276927 lines. Lines per second: 17596.6</pre>"
      ],
      "text/plain": [
       "Read 276927 lines. Lines per second: 17596.6"
      ]
     },
     "metadata": {},
     "output_type": "display_data"
    },
    {
     "data": {
      "text/html": [
       "<pre>Read 389473 lines. Lines per second: 17261.8</pre>"
      ],
      "text/plain": [
       "Read 389473 lines. Lines per second: 17261.8"
      ]
     },
     "metadata": {},
     "output_type": "display_data"
    },
    {
     "data": {
      "text/html": [
       "<pre>Finished parsing file /Users/Zoe/Documents/Spring2017/GR5243/MyPrjs/localData/prj5/meta_Kindle_Store.json</pre>"
      ],
      "text/plain": [
       "Finished parsing file /Users/Zoe/Documents/Spring2017/GR5243/MyPrjs/localData/prj5/meta_Kindle_Store.json"
      ]
     },
     "metadata": {},
     "output_type": "display_data"
    },
    {
     "data": {
      "text/html": [
       "<pre>Parsing completed. Parsed 434702 lines in 23.6793 secs.</pre>"
      ],
      "text/plain": [
       "Parsing completed. Parsed 434702 lines in 23.6793 secs."
      ]
     },
     "metadata": {},
     "output_type": "display_data"
    }
   ],
   "source": [
    "meta = gl.SFrame.read_json('../../localData/prj5/meta_Kindle_Store.json', orient='lines')"
   ]
  },
  {
   "cell_type": "code",
   "execution_count": 4,
   "metadata": {
    "scrolled": true
   },
   "outputs": [
    {
     "data": {
      "text/html": [
       "<div style=\"max-height:1000px;max-width:1500px;overflow:auto;\"><table frame=\"box\" rules=\"cols\">\n",
       "    <tr>\n",
       "        <th style=\"padding-left: 1em; padding-right: 1em; text-align: center\">asin</th>\n",
       "        <th style=\"padding-left: 1em; padding-right: 1em; text-align: center\">brand</th>\n",
       "        <th style=\"padding-left: 1em; padding-right: 1em; text-align: center\">categories</th>\n",
       "        <th style=\"padding-left: 1em; padding-right: 1em; text-align: center\">description</th>\n",
       "        <th style=\"padding-left: 1em; padding-right: 1em; text-align: center\">imUrl</th>\n",
       "        <th style=\"padding-left: 1em; padding-right: 1em; text-align: center\">price</th>\n",
       "    </tr>\n",
       "    <tr>\n",
       "        <td style=\"padding-left: 1em; padding-right: 1em; text-align: center; vertical-align: top\">1603420304</td>\n",
       "        <td style=\"padding-left: 1em; padding-right: 1em; text-align: center; vertical-align: top\">None</td>\n",
       "        <td style=\"padding-left: 1em; padding-right: 1em; text-align: center; vertical-align: top\">[[Books, Cookbooks, Food<br>&amp; Wine, Quick &amp; Easy], ...</td>\n",
       "        <td style=\"padding-left: 1em; padding-right: 1em; text-align: center; vertical-align: top\">In less time and for less<br>money than it takes to ...</td>\n",
       "        <td style=\"padding-left: 1em; padding-right: 1em; text-align: center; vertical-align: top\">http://ecx.images-amazon.<br>com/images/I/51IEqPrF ...</td>\n",
       "        <td style=\"padding-left: 1em; padding-right: 1em; text-align: center; vertical-align: top\">7.69</td>\n",
       "    </tr>\n",
       "    <tr>\n",
       "        <td style=\"padding-left: 1em; padding-right: 1em; text-align: center; vertical-align: top\">B0002IQ15S</td>\n",
       "        <td style=\"padding-left: 1em; padding-right: 1em; text-align: center; vertical-align: top\">None</td>\n",
       "        <td style=\"padding-left: 1em; padding-right: 1em; text-align: center; vertical-align: top\">[[Kindle Store, Kindle<br>Accessories, Power ...</td>\n",
       "        <td style=\"padding-left: 1em; padding-right: 1em; text-align: center; vertical-align: top\">This universal DC adapter<br>powers/charges portable ...</td>\n",
       "        <td style=\"padding-left: 1em; padding-right: 1em; text-align: center; vertical-align: top\">http://ecx.images-amazon.<br>com/images/I/21QFJM28 ...</td>\n",
       "        <td style=\"padding-left: 1em; padding-right: 1em; text-align: center; vertical-align: top\">19.99</td>\n",
       "    </tr>\n",
       "    <tr>\n",
       "        <td style=\"padding-left: 1em; padding-right: 1em; text-align: center; vertical-align: top\">B000F83SZQ</td>\n",
       "        <td style=\"padding-left: 1em; padding-right: 1em; text-align: center; vertical-align: top\">None</td>\n",
       "        <td style=\"padding-left: 1em; padding-right: 1em; text-align: center; vertical-align: top\">[[Books, Literature &amp;<br>Fiction], [Books, ...</td>\n",
       "        <td style=\"padding-left: 1em; padding-right: 1em; text-align: center; vertical-align: top\">None</td>\n",
       "        <td style=\"padding-left: 1em; padding-right: 1em; text-align: center; vertical-align: top\">http://ecx.images-amazon.<br>com/images/I/51yLqHe% ...</td>\n",
       "        <td style=\"padding-left: 1em; padding-right: 1em; text-align: center; vertical-align: top\">0.0</td>\n",
       "    </tr>\n",
       "    <tr>\n",
       "        <td style=\"padding-left: 1em; padding-right: 1em; text-align: center; vertical-align: top\">B000F83TEQ</td>\n",
       "        <td style=\"padding-left: 1em; padding-right: 1em; text-align: center; vertical-align: top\">None</td>\n",
       "        <td style=\"padding-left: 1em; padding-right: 1em; text-align: center; vertical-align: top\">[[Books, Literature &amp;<br>Fiction], [Books, ...</td>\n",
       "        <td style=\"padding-left: 1em; padding-right: 1em; text-align: center; vertical-align: top\">None</td>\n",
       "        <td style=\"padding-left: 1em; padding-right: 1em; text-align: center; vertical-align: top\">http://ecx.images-amazon.<br>com/images/I/2136NBNV ...</td>\n",
       "        <td style=\"padding-left: 1em; padding-right: 1em; text-align: center; vertical-align: top\">None</td>\n",
       "    </tr>\n",
       "    <tr>\n",
       "        <td style=\"padding-left: 1em; padding-right: 1em; text-align: center; vertical-align: top\">B000F83STC</td>\n",
       "        <td style=\"padding-left: 1em; padding-right: 1em; text-align: center; vertical-align: top\">None</td>\n",
       "        <td style=\"padding-left: 1em; padding-right: 1em; text-align: center; vertical-align: top\">[[Books, Literature &amp;<br>Fiction, Erotica], ...</td>\n",
       "        <td style=\"padding-left: 1em; padding-right: 1em; text-align: center; vertical-align: top\">None</td>\n",
       "        <td style=\"padding-left: 1em; padding-right: 1em; text-align: center; vertical-align: top\">http://g-ecx.images-amazo<br>n.com/images/G/01/x-s ...</td>\n",
       "        <td style=\"padding-left: 1em; padding-right: 1em; text-align: center; vertical-align: top\">None</td>\n",
       "    </tr>\n",
       "</table>\n",
       "<table frame=\"box\" rules=\"cols\">\n",
       "    <tr>\n",
       "        <th style=\"padding-left: 1em; padding-right: 1em; text-align: center\">related</th>\n",
       "        <th style=\"padding-left: 1em; padding-right: 1em; text-align: center\">salesRank</th>\n",
       "        <th style=\"padding-left: 1em; padding-right: 1em; text-align: center\">title</th>\n",
       "    </tr>\n",
       "    <tr>\n",
       "        <td style=\"padding-left: 1em; padding-right: 1em; text-align: center; vertical-align: top\">{'also_viewed':<br>['B001OLRKLQ', ...</td>\n",
       "        <td style=\"padding-left: 1em; padding-right: 1em; text-align: center; vertical-align: top\">None</td>\n",
       "        <td style=\"padding-left: 1em; padding-right: 1em; text-align: center; vertical-align: top\">None</td>\n",
       "    </tr>\n",
       "    <tr>\n",
       "        <td style=\"padding-left: 1em; padding-right: 1em; text-align: center; vertical-align: top\">{'also_viewed':<br>['B00511PS3C', ...</td>\n",
       "        <td style=\"padding-left: 1em; padding-right: 1em; text-align: center; vertical-align: top\">{}</td>\n",
       "        <td style=\"padding-left: 1em; padding-right: 1em; text-align: center; vertical-align: top\">Mobility IGO AUTOPOWER<br>3000 SERIES ( PS0221- ...</td>\n",
       "    </tr>\n",
       "    <tr>\n",
       "        <td style=\"padding-left: 1em; padding-right: 1em; text-align: center; vertical-align: top\">{'also_bought':<br>['B0080H1C0W', ...</td>\n",
       "        <td style=\"padding-left: 1em; padding-right: 1em; text-align: center; vertical-align: top\">None</td>\n",
       "        <td style=\"padding-left: 1em; padding-right: 1em; text-align: center; vertical-align: top\">None</td>\n",
       "    </tr>\n",
       "    <tr>\n",
       "        <td style=\"padding-left: 1em; padding-right: 1em; text-align: center; vertical-align: top\">{'also_bought':<br>['B00IS81LFO', ...</td>\n",
       "        <td style=\"padding-left: 1em; padding-right: 1em; text-align: center; vertical-align: top\">None</td>\n",
       "        <td style=\"padding-left: 1em; padding-right: 1em; text-align: center; vertical-align: top\">None</td>\n",
       "    </tr>\n",
       "    <tr>\n",
       "        <td style=\"padding-left: 1em; padding-right: 1em; text-align: center; vertical-align: top\">None</td>\n",
       "        <td style=\"padding-left: 1em; padding-right: 1em; text-align: center; vertical-align: top\">None</td>\n",
       "        <td style=\"padding-left: 1em; padding-right: 1em; text-align: center; vertical-align: top\">None</td>\n",
       "    </tr>\n",
       "</table>\n",
       "[5 rows x 9 columns]<br/>\n",
       "</div>"
      ],
      "text/plain": [
       "Columns:\n",
       "\tasin\tstr\n",
       "\tbrand\tstr\n",
       "\tcategories\tlist\n",
       "\tdescription\tstr\n",
       "\timUrl\tstr\n",
       "\tprice\tfloat\n",
       "\trelated\tdict\n",
       "\tsalesRank\tdict\n",
       "\ttitle\tstr\n",
       "\n",
       "Rows: 5\n",
       "\n",
       "Data:\n",
       "+------------+-------+-------------------------------+\n",
       "|    asin    | brand |           categories          |\n",
       "+------------+-------+-------------------------------+\n",
       "| 1603420304 |  None | [[Books, Cookbooks, Food &... |\n",
       "| B0002IQ15S |  None | [[Kindle Store, Kindle Acc... |\n",
       "| B000F83SZQ |  None | [[Books, Literature & Fict... |\n",
       "| B000F83TEQ |  None | [[Books, Literature & Fict... |\n",
       "| B000F83STC |  None | [[Books, Literature & Fict... |\n",
       "+------------+-------+-------------------------------+\n",
       "+-------------------------------+-------------------------------+-------+\n",
       "|          description          |             imUrl             | price |\n",
       "+-------------------------------+-------------------------------+-------+\n",
       "| In less time and for less ... | http://ecx.images-amazon.c... |  7.69 |\n",
       "| This universal DC adapter ... | http://ecx.images-amazon.c... | 19.99 |\n",
       "|              None             | http://ecx.images-amazon.c... |  0.0  |\n",
       "|              None             | http://ecx.images-amazon.c... |  None |\n",
       "|              None             | http://g-ecx.images-amazon... |  None |\n",
       "+-------------------------------+-------------------------------+-------+\n",
       "+-------------------------------+-----------+-------------------------------+\n",
       "|            related            | salesRank |             title             |\n",
       "+-------------------------------+-----------+-------------------------------+\n",
       "| {'also_viewed': ['B001OLRK... |    None   |              None             |\n",
       "| {'also_viewed': ['B00511PS... |     {}    | Mobility IGO AUTOPOWER 300... |\n",
       "| {'also_bought': ['B0080H1C... |    None   |              None             |\n",
       "| {'also_bought': ['B00IS81L... |    None   |              None             |\n",
       "|              None             |    None   |              None             |\n",
       "+-------------------------------+-----------+-------------------------------+\n",
       "[5 rows x 9 columns]"
      ]
     },
     "execution_count": 4,
     "metadata": {},
     "output_type": "execute_result"
    }
   ],
   "source": [
    "meta.head(5)"
   ]
  },
  {
   "cell_type": "code",
   "execution_count": null,
   "metadata": {
    "collapsed": true
   },
   "outputs": [],
   "source": [
    "meta.show()"
   ]
  },
  {
   "cell_type": "code",
   "execution_count": 5,
   "metadata": {
    "scrolled": true
   },
   "outputs": [
    {
     "data": {
      "text/html": [
       "<pre>Finished parsing file /Users/Zoe/Documents/Spring2017/GR5243/MyPrjs/localData/prj5/reviews_Kindle_Store.json</pre>"
      ],
      "text/plain": [
       "Finished parsing file /Users/Zoe/Documents/Spring2017/GR5243/MyPrjs/localData/prj5/reviews_Kindle_Store.json"
      ]
     },
     "metadata": {},
     "output_type": "display_data"
    },
    {
     "data": {
      "text/html": [
       "<pre>Parsing completed. Parsed 100 lines in 1.3891 secs.</pre>"
      ],
      "text/plain": [
       "Parsing completed. Parsed 100 lines in 1.3891 secs."
      ]
     },
     "metadata": {},
     "output_type": "display_data"
    },
    {
     "name": "stdout",
     "output_type": "stream",
     "text": [
      "------------------------------------------------------\n",
      "Inferred types from first 100 line(s) of file as \n",
      "column_type_hints=[dict]\n",
      "If parsing fails due to incorrect types, you can correct\n",
      "the inferred type list above and pass it to read_csv in\n",
      "the column_type_hints argument\n",
      "------------------------------------------------------\n"
     ]
    },
    {
     "data": {
      "text/html": [
       "<pre>Read 73750 lines. Lines per second: 32722.5</pre>"
      ],
      "text/plain": [
       "Read 73750 lines. Lines per second: 32722.5"
      ]
     },
     "metadata": {},
     "output_type": "display_data"
    },
    {
     "data": {
      "text/html": [
       "<pre>Read 370288 lines. Lines per second: 49298.8</pre>"
      ],
      "text/plain": [
       "Read 370288 lines. Lines per second: 49298.8"
      ]
     },
     "metadata": {},
     "output_type": "display_data"
    },
    {
     "data": {
      "text/html": [
       "<pre>Read 682265 lines. Lines per second: 50871.3</pre>"
      ],
      "text/plain": [
       "Read 682265 lines. Lines per second: 50871.3"
      ]
     },
     "metadata": {},
     "output_type": "display_data"
    },
    {
     "data": {
      "text/html": [
       "<pre>Read 990624 lines. Lines per second: 51510.8</pre>"
      ],
      "text/plain": [
       "Read 990624 lines. Lines per second: 51510.8"
      ]
     },
     "metadata": {},
     "output_type": "display_data"
    },
    {
     "data": {
      "text/html": [
       "<pre>Read 1230466 lines. Lines per second: 48295.9</pre>"
      ],
      "text/plain": [
       "Read 1230466 lines. Lines per second: 48295.9"
      ]
     },
     "metadata": {},
     "output_type": "display_data"
    },
    {
     "data": {
      "text/html": [
       "<pre>Read 1390771 lines. Lines per second: 40916.1</pre>"
      ],
      "text/plain": [
       "Read 1390771 lines. Lines per second: 40916.1"
      ]
     },
     "metadata": {},
     "output_type": "display_data"
    },
    {
     "data": {
      "text/html": [
       "<pre>Read 1716670 lines. Lines per second: 42621.7</pre>"
      ],
      "text/plain": [
       "Read 1716670 lines. Lines per second: 42621.7"
      ]
     },
     "metadata": {},
     "output_type": "display_data"
    },
    {
     "data": {
      "text/html": [
       "<pre>Read 2032853 lines. Lines per second: 44649.5</pre>"
      ],
      "text/plain": [
       "Read 2032853 lines. Lines per second: 44649.5"
      ]
     },
     "metadata": {},
     "output_type": "display_data"
    },
    {
     "data": {
      "text/html": [
       "<pre>Read 2332326 lines. Lines per second: 45087</pre>"
      ],
      "text/plain": [
       "Read 2332326 lines. Lines per second: 45087"
      ]
     },
     "metadata": {},
     "output_type": "display_data"
    },
    {
     "data": {
      "text/html": [
       "<pre>Read 2624446 lines. Lines per second: 45284.4</pre>"
      ],
      "text/plain": [
       "Read 2624446 lines. Lines per second: 45284.4"
      ]
     },
     "metadata": {},
     "output_type": "display_data"
    },
    {
     "data": {
      "text/html": [
       "<pre>Read 2910421 lines. Lines per second: 45424.8</pre>"
      ],
      "text/plain": [
       "Read 2910421 lines. Lines per second: 45424.8"
      ]
     },
     "metadata": {},
     "output_type": "display_data"
    },
    {
     "data": {
      "text/html": [
       "<pre>Read 3183230 lines. Lines per second: 45788.8</pre>"
      ],
      "text/plain": [
       "Read 3183230 lines. Lines per second: 45788.8"
      ]
     },
     "metadata": {},
     "output_type": "display_data"
    },
    {
     "data": {
      "text/html": [
       "<pre>Finished parsing file /Users/Zoe/Documents/Spring2017/GR5243/MyPrjs/localData/prj5/reviews_Kindle_Store.json</pre>"
      ],
      "text/plain": [
       "Finished parsing file /Users/Zoe/Documents/Spring2017/GR5243/MyPrjs/localData/prj5/reviews_Kindle_Store.json"
      ]
     },
     "metadata": {},
     "output_type": "display_data"
    },
    {
     "data": {
      "text/html": [
       "<pre>Parsing completed. Parsed 3205467 lines in 69.8236 secs.</pre>"
      ],
      "text/plain": [
       "Parsing completed. Parsed 3205467 lines in 69.8236 secs."
      ]
     },
     "metadata": {},
     "output_type": "display_data"
    }
   ],
   "source": [
    "reviews = gl.SFrame.read_json('../../localData/prj5/reviews_Kindle_Store.json', orient='lines')"
   ]
  },
  {
   "cell_type": "code",
   "execution_count": 6,
   "metadata": {
    "scrolled": true
   },
   "outputs": [
    {
     "data": {
      "text/html": [
       "<div style=\"max-height:1000px;max-width:1500px;overflow:auto;\"><table frame=\"box\" rules=\"cols\">\n",
       "    <tr>\n",
       "        <th style=\"padding-left: 1em; padding-right: 1em; text-align: center\">asin</th>\n",
       "        <th style=\"padding-left: 1em; padding-right: 1em; text-align: center\">helpful</th>\n",
       "        <th style=\"padding-left: 1em; padding-right: 1em; text-align: center\">overall</th>\n",
       "        <th style=\"padding-left: 1em; padding-right: 1em; text-align: center\">reviewText</th>\n",
       "        <th style=\"padding-left: 1em; padding-right: 1em; text-align: center\">reviewTime</th>\n",
       "        <th style=\"padding-left: 1em; padding-right: 1em; text-align: center\">reviewerID</th>\n",
       "        <th style=\"padding-left: 1em; padding-right: 1em; text-align: center\">reviewerName</th>\n",
       "    </tr>\n",
       "    <tr>\n",
       "        <td style=\"padding-left: 1em; padding-right: 1em; text-align: center; vertical-align: top\">1603420304</td>\n",
       "        <td style=\"padding-left: 1em; padding-right: 1em; text-align: center; vertical-align: top\">[0, 0]</td>\n",
       "        <td style=\"padding-left: 1em; padding-right: 1em; text-align: center; vertical-align: top\">4.0</td>\n",
       "        <td style=\"padding-left: 1em; padding-right: 1em; text-align: center; vertical-align: top\">I am well out of college<br>but love this book.   ...</td>\n",
       "        <td style=\"padding-left: 1em; padding-right: 1em; text-align: center; vertical-align: top\">07 13, 2014</td>\n",
       "        <td style=\"padding-left: 1em; padding-right: 1em; text-align: center; vertical-align: top\">A2GZ9GFZV1LWB0</td>\n",
       "        <td style=\"padding-left: 1em; padding-right: 1em; text-align: center; vertical-align: top\">None</td>\n",
       "    </tr>\n",
       "    <tr>\n",
       "        <td style=\"padding-left: 1em; padding-right: 1em; text-align: center; vertical-align: top\">1603420304</td>\n",
       "        <td style=\"padding-left: 1em; padding-right: 1em; text-align: center; vertical-align: top\">[3, 4]</td>\n",
       "        <td style=\"padding-left: 1em; padding-right: 1em; text-align: center; vertical-align: top\">3.0</td>\n",
       "        <td style=\"padding-left: 1em; padding-right: 1em; text-align: center; vertical-align: top\">So, I bought this book a<br>few days ago and have ...</td>\n",
       "        <td style=\"padding-left: 1em; padding-right: 1em; text-align: center; vertical-align: top\">08 19, 2010</td>\n",
       "        <td style=\"padding-left: 1em; padding-right: 1em; text-align: center; vertical-align: top\">A1K7VSUDCVAPW8</td>\n",
       "        <td style=\"padding-left: 1em; padding-right: 1em; text-align: center; vertical-align: top\">5ft2</td>\n",
       "    </tr>\n",
       "    <tr>\n",
       "        <td style=\"padding-left: 1em; padding-right: 1em; text-align: center; vertical-align: top\">1603420304</td>\n",
       "        <td style=\"padding-left: 1em; padding-right: 1em; text-align: center; vertical-align: top\">[0, 0]</td>\n",
       "        <td style=\"padding-left: 1em; padding-right: 1em; text-align: center; vertical-align: top\">4.0</td>\n",
       "        <td style=\"padding-left: 1em; padding-right: 1em; text-align: center; vertical-align: top\">The pros:1. It really<br>teaches you the basic ...</td>\n",
       "        <td style=\"padding-left: 1em; padding-right: 1em; text-align: center; vertical-align: top\">04 6, 2013</td>\n",
       "        <td style=\"padding-left: 1em; padding-right: 1em; text-align: center; vertical-align: top\">A35J5XRE5ZT6H2</td>\n",
       "        <td style=\"padding-left: 1em; padding-right: 1em; text-align: center; vertical-align: top\">810geb</td>\n",
       "    </tr>\n",
       "    <tr>\n",
       "        <td style=\"padding-left: 1em; padding-right: 1em; text-align: center; vertical-align: top\">1603420304</td>\n",
       "        <td style=\"padding-left: 1em; padding-right: 1em; text-align: center; vertical-align: top\">[0, 1]</td>\n",
       "        <td style=\"padding-left: 1em; padding-right: 1em; text-align: center; vertical-align: top\">4.0</td>\n",
       "        <td style=\"padding-left: 1em; padding-right: 1em; text-align: center; vertical-align: top\">got it in good time. i<br>think its a great book ...</td>\n",
       "        <td style=\"padding-left: 1em; padding-right: 1em; text-align: center; vertical-align: top\">09 28, 2010</td>\n",
       "        <td style=\"padding-left: 1em; padding-right: 1em; text-align: center; vertical-align: top\">A3DGZNFSMNWSX5</td>\n",
       "        <td style=\"padding-left: 1em; padding-right: 1em; text-align: center; vertical-align: top\">AfterCsquared</td>\n",
       "    </tr>\n",
       "    <tr>\n",
       "        <td style=\"padding-left: 1em; padding-right: 1em; text-align: center; vertical-align: top\">1603420304</td>\n",
       "        <td style=\"padding-left: 1em; padding-right: 1em; text-align: center; vertical-align: top\">[0, 0]</td>\n",
       "        <td style=\"padding-left: 1em; padding-right: 1em; text-align: center; vertical-align: top\">5.0</td>\n",
       "        <td style=\"padding-left: 1em; padding-right: 1em; text-align: center; vertical-align: top\">I bought this for my<br>friend's birthday,and ...</td>\n",
       "        <td style=\"padding-left: 1em; padding-right: 1em; text-align: center; vertical-align: top\">07 16, 2012</td>\n",
       "        <td style=\"padding-left: 1em; padding-right: 1em; text-align: center; vertical-align: top\">A2CVDQ6H36L4VL</td>\n",
       "        <td style=\"padding-left: 1em; padding-right: 1em; text-align: center; vertical-align: top\">Alexisx3</td>\n",
       "    </tr>\n",
       "</table>\n",
       "<table frame=\"box\" rules=\"cols\">\n",
       "    <tr>\n",
       "        <th style=\"padding-left: 1em; padding-right: 1em; text-align: center\">summary</th>\n",
       "        <th style=\"padding-left: 1em; padding-right: 1em; text-align: center\">unixReviewTime</th>\n",
       "    </tr>\n",
       "    <tr>\n",
       "        <td style=\"padding-left: 1em; padding-right: 1em; text-align: center; vertical-align: top\">Good solid recipes</td>\n",
       "        <td style=\"padding-left: 1em; padding-right: 1em; text-align: center; vertical-align: top\">1405209600</td>\n",
       "    </tr>\n",
       "    <tr>\n",
       "        <td style=\"padding-left: 1em; padding-right: 1em; text-align: center; vertical-align: top\">Okay for true beginners</td>\n",
       "        <td style=\"padding-left: 1em; padding-right: 1em; text-align: center; vertical-align: top\">1282176000</td>\n",
       "    </tr>\n",
       "    <tr>\n",
       "        <td style=\"padding-left: 1em; padding-right: 1em; text-align: center; vertical-align: top\">Worth the money</td>\n",
       "        <td style=\"padding-left: 1em; padding-right: 1em; text-align: center; vertical-align: top\">1365206400</td>\n",
       "    </tr>\n",
       "    <tr>\n",
       "        <td style=\"padding-left: 1em; padding-right: 1em; text-align: center; vertical-align: top\">Good book</td>\n",
       "        <td style=\"padding-left: 1em; padding-right: 1em; text-align: center; vertical-align: top\">1285632000</td>\n",
       "    </tr>\n",
       "    <tr>\n",
       "        <td style=\"padding-left: 1em; padding-right: 1em; text-align: center; vertical-align: top\">Very adorable</td>\n",
       "        <td style=\"padding-left: 1em; padding-right: 1em; text-align: center; vertical-align: top\">1342396800</td>\n",
       "    </tr>\n",
       "</table>\n",
       "[5 rows x 9 columns]<br/>\n",
       "</div>"
      ],
      "text/plain": [
       "Columns:\n",
       "\tasin\tstr\n",
       "\thelpful\tlist\n",
       "\toverall\tfloat\n",
       "\treviewText\tstr\n",
       "\treviewTime\tstr\n",
       "\treviewerID\tstr\n",
       "\treviewerName\tstr\n",
       "\tsummary\tstr\n",
       "\tunixReviewTime\tint\n",
       "\n",
       "Rows: 5\n",
       "\n",
       "Data:\n",
       "+------------+---------+---------+-------------------------------+-------------+\n",
       "|    asin    | helpful | overall |           reviewText          |  reviewTime |\n",
       "+------------+---------+---------+-------------------------------+-------------+\n",
       "| 1603420304 |  [0, 0] |   4.0   | I am well out of college b... | 07 13, 2014 |\n",
       "| 1603420304 |  [3, 4] |   3.0   | So, I bought this book a f... | 08 19, 2010 |\n",
       "| 1603420304 |  [0, 0] |   4.0   | The pros:1. It really teac... |  04 6, 2013 |\n",
       "| 1603420304 |  [0, 1] |   4.0   | got it in good time. i thi... | 09 28, 2010 |\n",
       "| 1603420304 |  [0, 0] |   5.0   | I bought this for my frien... | 07 16, 2012 |\n",
       "+------------+---------+---------+-------------------------------+-------------+\n",
       "+----------------+---------------+-------------------------+----------------+\n",
       "|   reviewerID   |  reviewerName |         summary         | unixReviewTime |\n",
       "+----------------+---------------+-------------------------+----------------+\n",
       "| A2GZ9GFZV1LWB0 |      None     |    Good solid recipes   |   1405209600   |\n",
       "| A1K7VSUDCVAPW8 |      5ft2     | Okay for true beginners |   1282176000   |\n",
       "| A35J5XRE5ZT6H2 |     810geb    |     Worth the money     |   1365206400   |\n",
       "| A3DGZNFSMNWSX5 | AfterCsquared |        Good book        |   1285632000   |\n",
       "| A2CVDQ6H36L4VL |    Alexisx3   |      Very adorable      |   1342396800   |\n",
       "+----------------+---------------+-------------------------+----------------+\n",
       "[5 rows x 9 columns]"
      ]
     },
     "execution_count": 6,
     "metadata": {},
     "output_type": "execute_result"
    }
   ],
   "source": [
    "reviews.head(5)"
   ]
  },
  {
   "cell_type": "code",
   "execution_count": null,
   "metadata": {
    "collapsed": true
   },
   "outputs": [],
   "source": [
    "reviews.show()"
   ]
  },
  {
   "cell_type": "code",
   "execution_count": null,
   "metadata": {
    "collapsed": true
   },
   "outputs": [],
   "source": []
  },
  {
   "cell_type": "code",
   "execution_count": null,
   "metadata": {
    "collapsed": true
   },
   "outputs": [],
   "source": []
  },
  {
   "cell_type": "code",
   "execution_count": null,
   "metadata": {
    "collapsed": true
   },
   "outputs": [],
   "source": []
  },
  {
   "cell_type": "code",
   "execution_count": null,
   "metadata": {
    "collapsed": true
   },
   "outputs": [],
   "source": []
  },
  {
   "cell_type": "code",
   "execution_count": null,
   "metadata": {
    "collapsed": true
   },
   "outputs": [],
   "source": []
  },
  {
   "cell_type": "markdown",
   "metadata": {},
   "source": [
    "Join the `meta` and `review` SFrames to create a master SFrame object."
   ]
  },
  {
   "cell_type": "code",
   "execution_count": null,
   "metadata": {
    "collapsed": true
   },
   "outputs": [],
   "source": [
    "msf.head()"
   ]
  },
  {
   "cell_type": "code",
   "execution_count": null,
   "metadata": {
    "collapsed": true
   },
   "outputs": [],
   "source": [
    "len(msf)"
   ]
  },
  {
   "cell_type": "markdown",
   "metadata": {},
   "source": [
    "** Create tf-idf of review **"
   ]
  },
  {
   "cell_type": "code",
   "execution_count": null,
   "metadata": {
    "collapsed": true
   },
   "outputs": [],
   "source": [
    "msf['tfidf'] = gl.text_analytics.tf_idf(msf['review'])"
   ]
  },
  {
   "cell_type": "code",
   "execution_count": 49,
   "metadata": {
    "collapsed": true
   },
   "outputs": [],
   "source": [
    "msf = gl.load_sframe('meta_data.sf/')"
   ]
  },
  {
   "cell_type": "code",
   "execution_count": 52,
   "metadata": {},
   "outputs": [
    {
     "data": {
      "text/plain": [
       "[['Books', 'Literature & Fiction', 'Genre Fiction', 'Movie Tie-Ins'],\n",
       " ['Books', 'Science Fiction & Fantasy', 'Science Fiction', 'Space Opera'],\n",
       " ['Kindle Store',\n",
       "  'Kindle eBooks',\n",
       "  'Literature & Fiction',\n",
       "  'Genre Fiction',\n",
       "  'Movie Tie-Ins'],\n",
       " ['Kindle Store',\n",
       "  'Kindle eBooks',\n",
       "  'Science Fiction & Fantasy',\n",
       "  'Science Fiction',\n",
       "  'Space Opera'],\n",
       " ['Kindle Store',\n",
       "  'Kindle eBooks',\n",
       "  'Science Fiction & Fantasy',\n",
       "  'Science Fiction',\n",
       "  'TV, Movie, Video Game Adaptations',\n",
       "  'Star Wars']]"
      ]
     },
     "execution_count": 52,
     "metadata": {},
     "output_type": "execute_result"
    }
   ],
   "source": [
    "msf[12]['categories']"
   ]
  },
  {
   "cell_type": "markdown",
   "metadata": {},
   "source": [
    "**Display Product Image**: we can display an image of the product as follows:"
   ]
  },
  {
   "cell_type": "code",
   "execution_count": 36,
   "metadata": {
    "collapsed": true
   },
   "outputs": [],
   "source": [
    "gl.canvas.set_target('browser')\n",
    "imgUrl = reviews[0]['imUrl']\n",
    "img = gl.Image(imgUrl)\n",
    "img.show() # opens external viewer"
   ]
  },
  {
   "cell_type": "markdown",
   "metadata": {},
   "source": [
    "review text + summary, user id, asin, title, rating, upvotes, downvotes, "
   ]
  },
  {
   "cell_type": "code",
   "execution_count": null,
   "metadata": {
    "collapsed": true
   },
   "outputs": [],
   "source": [
    "words = gl.text_analytics.stopwords(lang='en')"
   ]
  }
 ],
 "metadata": {
  "kernelspec": {
   "display_name": "Python 2",
   "language": "python",
   "name": "python2"
  },
  "language_info": {
   "codemirror_mode": {
    "name": "ipython",
    "version": 2
   },
   "file_extension": ".py",
   "mimetype": "text/x-python",
   "name": "python",
   "nbconvert_exporter": "python",
   "pygments_lexer": "ipython2",
   "version": "2.7.13"
  }
 },
 "nbformat": 4,
 "nbformat_minor": 2
}
