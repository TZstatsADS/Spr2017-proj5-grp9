{
 "cells": [
  {
   "cell_type": "code",
   "execution_count": 4,
   "metadata": {
    "collapsed": true
   },
   "outputs": [],
   "source": [
    "import graphlab as gl\n",
    "import numpy as np"
   ]
  },
  {
   "cell_type": "code",
   "execution_count": 5,
   "metadata": {
    "collapsed": false
   },
   "outputs": [
    {
     "name": "stderr",
     "output_type": "stream",
     "text": [
      "[INFO] graphlab.cython.cy_server: GraphLab Create v2.1 started. Logging: /tmp/graphlab_server_1493383788.log\n"
     ]
    },
    {
     "name": "stdout",
     "output_type": "stream",
     "text": [
      "This non-commercial license of GraphLab Create for academic use is assigned to gsimmons17@gsb.columbia.edu and will expire on December 07, 2017.\n"
     ]
    }
   ],
   "source": [
    "msf = gl.load_sframe('../data/kindle_data.sf/')\n",
    "meta = gl.load_sframe('../data/meta_data.sf/')\n",
    "wc = gl.load_sframe('../data/meta_data.sf/')"
   ]
  },
  {
   "cell_type": "markdown",
   "metadata": {},
   "source": [
    "## Section I: Item Similarity Recommender\n",
    "#### We use a pre-built model that usesuser reviews of items with ratings to calculate Jaccard similarity scores "
   ]
  },
  {
   "cell_type": "code",
   "execution_count": 6,
   "metadata": {
    "collapsed": true
   },
   "outputs": [],
   "source": [
    "def isValidImg(url):\n",
    "    if url[-3:]!='jpg':\n",
    "        return False\n",
    "    else:\n",
    "        return True\n",
    "    \n",
    "def getAsinRows(asin):\n",
    "    sf = meta.filter_by(asin, 'asin', exclude=False)\n",
    "    sf['prodImg'] = sf['imUrl'].apply(lambda x: gl.Image(x) if isValidImg(x) else gl.Image(path=None))\n",
    "    return(sf)\n",
    "\n",
    "def getPredefinedRelated(asin):\n",
    "    rel = rel.filter_by(asin,'asin', exclude=False)\n",
    "    search = gl.SArray(rel['bought'].unique())\n",
    "    sf = getAsinRows(search)\n",
    "    return(sf)"
   ]
  },
  {
   "cell_type": "code",
   "execution_count": 7,
   "metadata": {
    "collapsed": true
   },
   "outputs": [],
   "source": [
    "predefined_items = msf['related'].unpack(column_name_prefix='rel')\n",
    "related = gl.SFrame()\n",
    "related['asin'] = msf['asin']\n",
    "related['viewed'] = predefined_items['rel.also_viewed']\n",
    "related['bought'] = predefined_items['rel.buy_after_viewing']"
   ]
  },
  {
   "cell_type": "markdown",
   "metadata": {},
   "source": [
    "This model first computes the similarity between items using the observations of users who have interacted with both items. Given a similarity between item $i$ and $j$, $\\mbox{S}(i,j)$, it scores an item $j$ for user $u$ using a weighted average of the user’s previous observations $I_u$.\n",
    "\n",
    "Jaccard similarity is used to measure the similarity between two set of elements. In the context of recommendation, the Jaccard similarity between two items is computed as\n",
    "\n",
    "$$\n",
    "\\mbox{JS}(i,j) = \\frac{\\mid U_i \\cap U_j \\mid}{\\mid U_i \\cup U_j \\mid}\n",
    "$$\n",
    "\n",
    "where $U_i$ is the set of users who rated item $i$. Jaccard is a good choice when one only has implicit feedbacks of items (e.g., people rated them or not), or when one does not care about how many stars items received."
   ]
  },
  {
   "cell_type": "code",
   "execution_count": 8,
   "metadata": {
    "collapsed": false
   },
   "outputs": [
    {
     "data": {
      "text/html": [
       "<pre>Recsys training: model = item_similarity</pre>"
      ],
      "text/plain": [
       "Recsys training: model = item_similarity"
      ]
     },
     "metadata": {},
     "output_type": "display_data"
    },
    {
     "data": {
      "text/html": [
       "<pre>Warning: Ignoring columns reviewText, reviewTime, reviewerName, summary, unixReviewTime, upvotes, downvotes, tfidf, brand, categories, description, imUrl, price, related, salesRank, title;</pre>"
      ],
      "text/plain": [
       "Warning: Ignoring columns reviewText, reviewTime, reviewerName, summary, unixReviewTime, upvotes, downvotes, tfidf, brand, categories, description, imUrl, price, related, salesRank, title;"
      ]
     },
     "metadata": {},
     "output_type": "display_data"
    },
    {
     "data": {
      "text/html": [
       "<pre>    To use these columns in scoring predictions, use a model that allows the use of additional features.</pre>"
      ],
      "text/plain": [
       "    To use these columns in scoring predictions, use a model that allows the use of additional features."
      ]
     },
     "metadata": {},
     "output_type": "display_data"
    },
    {
     "data": {
      "text/html": [
       "<pre>Preparing data set.</pre>"
      ],
      "text/plain": [
       "Preparing data set."
      ]
     },
     "metadata": {},
     "output_type": "display_data"
    },
    {
     "data": {
      "text/html": [
       "<pre>    Data has 3205467 observations with 1406890 users and 430530 items.</pre>"
      ],
      "text/plain": [
       "    Data has 3205467 observations with 1406890 users and 430530 items."
      ]
     },
     "metadata": {},
     "output_type": "display_data"
    },
    {
     "data": {
      "text/html": [
       "<pre>    Data prepared in: 10.6308s</pre>"
      ],
      "text/plain": [
       "    Data prepared in: 10.6308s"
      ]
     },
     "metadata": {},
     "output_type": "display_data"
    },
    {
     "data": {
      "text/html": [
       "<pre>Training model from provided data.</pre>"
      ],
      "text/plain": [
       "Training model from provided data."
      ]
     },
     "metadata": {},
     "output_type": "display_data"
    },
    {
     "data": {
      "text/html": [
       "<pre>Gathering per-item and per-user statistics.</pre>"
      ],
      "text/plain": [
       "Gathering per-item and per-user statistics."
      ]
     },
     "metadata": {},
     "output_type": "display_data"
    },
    {
     "data": {
      "text/html": [
       "<pre>+--------------------------------+------------+</pre>"
      ],
      "text/plain": [
       "+--------------------------------+------------+"
      ]
     },
     "metadata": {},
     "output_type": "display_data"
    },
    {
     "data": {
      "text/html": [
       "<pre>| Elapsed Time (Item Statistics) | % Complete |</pre>"
      ],
      "text/plain": [
       "| Elapsed Time (Item Statistics) | % Complete |"
      ]
     },
     "metadata": {},
     "output_type": "display_data"
    },
    {
     "data": {
      "text/html": [
       "<pre>+--------------------------------+------------+</pre>"
      ],
      "text/plain": [
       "+--------------------------------+------------+"
      ]
     },
     "metadata": {},
     "output_type": "display_data"
    },
    {
     "data": {
      "text/html": [
       "<pre>| 14.309ms                       | 0          |</pre>"
      ],
      "text/plain": [
       "| 14.309ms                       | 0          |"
      ]
     },
     "metadata": {},
     "output_type": "display_data"
    },
    {
     "data": {
      "text/html": [
       "<pre>| 762.499ms                      | 100        |</pre>"
      ],
      "text/plain": [
       "| 762.499ms                      | 100        |"
      ]
     },
     "metadata": {},
     "output_type": "display_data"
    },
    {
     "data": {
      "text/html": [
       "<pre>+--------------------------------+------------+</pre>"
      ],
      "text/plain": [
       "+--------------------------------+------------+"
      ]
     },
     "metadata": {},
     "output_type": "display_data"
    },
    {
     "data": {
      "text/html": [
       "<pre>Setting up lookup tables.</pre>"
      ],
      "text/plain": [
       "Setting up lookup tables."
      ]
     },
     "metadata": {},
     "output_type": "display_data"
    },
    {
     "data": {
      "text/html": [
       "<pre>Processing data in one pass using sparse lookup tables.</pre>"
      ],
      "text/plain": [
       "Processing data in one pass using sparse lookup tables."
      ]
     },
     "metadata": {},
     "output_type": "display_data"
    },
    {
     "data": {
      "text/html": [
       "<pre>+-------------------------------------+------------------+-----------------+</pre>"
      ],
      "text/plain": [
       "+-------------------------------------+------------------+-----------------+"
      ]
     },
     "metadata": {},
     "output_type": "display_data"
    },
    {
     "data": {
      "text/html": [
       "<pre>| Elapsed Time (Constructing Lookups) | Total % Complete | Items Processed |</pre>"
      ],
      "text/plain": [
       "| Elapsed Time (Constructing Lookups) | Total % Complete | Items Processed |"
      ]
     },
     "metadata": {},
     "output_type": "display_data"
    },
    {
     "data": {
      "text/html": [
       "<pre>+-------------------------------------+------------------+-----------------+</pre>"
      ],
      "text/plain": [
       "+-------------------------------------+------------------+-----------------+"
      ]
     },
     "metadata": {},
     "output_type": "display_data"
    },
    {
     "data": {
      "text/html": [
       "<pre>| 2.28s                               | 0                | 0               |</pre>"
      ],
      "text/plain": [
       "| 2.28s                               | 0                | 0               |"
      ]
     },
     "metadata": {},
     "output_type": "display_data"
    },
    {
     "data": {
      "text/html": [
       "<pre>| 3.29s                               | 17.5             | 75429           |</pre>"
      ],
      "text/plain": [
       "| 3.29s                               | 17.5             | 75429           |"
      ]
     },
     "metadata": {},
     "output_type": "display_data"
    },
    {
     "data": {
      "text/html": [
       "<pre>| 4.29s                               | 27               | 116783          |</pre>"
      ],
      "text/plain": [
       "| 4.29s                               | 27               | 116783          |"
      ]
     },
     "metadata": {},
     "output_type": "display_data"
    },
    {
     "data": {
      "text/html": [
       "<pre>| 5.33s                               | 33               | 142227          |</pre>"
      ],
      "text/plain": [
       "| 5.33s                               | 33               | 142227          |"
      ]
     },
     "metadata": {},
     "output_type": "display_data"
    },
    {
     "data": {
      "text/html": [
       "<pre>| 6.30s                               | 41.75            | 180631          |</pre>"
      ],
      "text/plain": [
       "| 6.30s                               | 41.75            | 180631          |"
      ]
     },
     "metadata": {},
     "output_type": "display_data"
    },
    {
     "data": {
      "text/html": [
       "<pre>| 7.30s                               | 59               | 254310          |</pre>"
      ],
      "text/plain": [
       "| 7.30s                               | 59               | 254310          |"
      ]
     },
     "metadata": {},
     "output_type": "display_data"
    },
    {
     "data": {
      "text/html": [
       "<pre>| 8.30s                               | 64.5             | 278555          |</pre>"
      ],
      "text/plain": [
       "| 8.30s                               | 64.5             | 278555          |"
      ]
     },
     "metadata": {},
     "output_type": "display_data"
    },
    {
     "data": {
      "text/html": [
       "<pre>| 9.31s                               | 66.5             | 286913          |</pre>"
      ],
      "text/plain": [
       "| 9.31s                               | 66.5             | 286913          |"
      ]
     },
     "metadata": {},
     "output_type": "display_data"
    },
    {
     "data": {
      "text/html": [
       "<pre>| 10.32s                              | 67.75            | 292754          |</pre>"
      ],
      "text/plain": [
       "| 10.32s                              | 67.75            | 292754          |"
      ]
     },
     "metadata": {},
     "output_type": "display_data"
    },
    {
     "data": {
      "text/html": [
       "<pre>| 11.32s                              | 69               | 298033          |</pre>"
      ],
      "text/plain": [
       "| 11.32s                              | 69               | 298033          |"
      ]
     },
     "metadata": {},
     "output_type": "display_data"
    },
    {
     "data": {
      "text/html": [
       "<pre>| 12.32s                              | 73.75            | 318456          |</pre>"
      ],
      "text/plain": [
       "| 12.32s                              | 73.75            | 318456          |"
      ]
     },
     "metadata": {},
     "output_type": "display_data"
    },
    {
     "data": {
      "text/html": [
       "<pre>| 13.32s                              | 87.25            | 376343          |</pre>"
      ],
      "text/plain": [
       "| 13.32s                              | 87.25            | 376343          |"
      ]
     },
     "metadata": {},
     "output_type": "display_data"
    },
    {
     "data": {
      "text/html": [
       "<pre>| 14.33s                              | 98               | 422765          |</pre>"
      ],
      "text/plain": [
       "| 14.33s                              | 98               | 422765          |"
      ]
     },
     "metadata": {},
     "output_type": "display_data"
    },
    {
     "data": {
      "text/html": [
       "<pre>| 23.04s                              | 100              | 430530          |</pre>"
      ],
      "text/plain": [
       "| 23.04s                              | 100              | 430530          |"
      ]
     },
     "metadata": {},
     "output_type": "display_data"
    },
    {
     "data": {
      "text/html": [
       "<pre>+-------------------------------------+------------------+-----------------+</pre>"
      ],
      "text/plain": [
       "+-------------------------------------+------------------+-----------------+"
      ]
     },
     "metadata": {},
     "output_type": "display_data"
    },
    {
     "data": {
      "text/html": [
       "<pre>Finalizing lookup tables.</pre>"
      ],
      "text/plain": [
       "Finalizing lookup tables."
      ]
     },
     "metadata": {},
     "output_type": "display_data"
    },
    {
     "data": {
      "text/html": [
       "<pre>Generating candidate set for working with new users.</pre>"
      ],
      "text/plain": [
       "Generating candidate set for working with new users."
      ]
     },
     "metadata": {},
     "output_type": "display_data"
    },
    {
     "data": {
      "text/html": [
       "<pre>Finished training in 24.6209s</pre>"
      ],
      "text/plain": [
       "Finished training in 24.6209s"
      ]
     },
     "metadata": {},
     "output_type": "display_data"
    }
   ],
   "source": [
    "sm = gl.recommender.item_similarity_recommender.create(msf,\n",
    "                                                user_id='reviewerID',\n",
    "                                                item_id='asin',\n",
    "                                                target='overall',\n",
    "                                                only_top_k=50,\n",
    "                                                threshold=0.01)"
   ]
  },
  {
   "cell_type": "markdown",
   "metadata": {},
   "source": [
    "Let's select a book from our product database to test whether the model does a good job of predicting similarity from user interactions"
   ]
  },
  {
   "cell_type": "code",
   "execution_count": 9,
   "metadata": {
    "collapsed": false
   },
   "outputs": [
    {
     "data": {
      "text/html": [
       "<pre>Downloading http://ecx.images-amazon.com/images/I/51Qu6iaoDcL._BO2,204,203,200_PIsitb-sticker-v3-big,TopRight,0,-55_SX278_SY278_PIkin4,BottomRight,1,22_AA300_SH20_OU01_.jpg to /var/tmp/graphlab-galen/16940/b3bd3967-e7dd-4e42-ad95-f2b4f61bcea6.jpg</pre>"
      ],
      "text/plain": [
       "Downloading http://ecx.images-amazon.com/images/I/51Qu6iaoDcL._BO2,204,203,200_PIsitb-sticker-v3-big,TopRight,0,-55_SX278_SY278_PIkin4,BottomRight,1,22_AA300_SH20_OU01_.jpg to /var/tmp/graphlab-galen/16940/b3bd3967-e7dd-4e42-ad95-f2b4f61bcea6.jpg"
      ]
     },
     "metadata": {},
     "output_type": "display_data"
    }
   ],
   "source": [
    "sample_item = meta['asin'][52387]\n",
    "sample = getAsinRows(sample_item)"
   ]
  },
  {
   "cell_type": "code",
   "execution_count": 10,
   "metadata": {
    "collapsed": false
   },
   "outputs": [
    {
     "data": {
      "application/javascript": [
       "$(\"head\").append($(\"<link/>\").attr({\n",
       "  rel:  \"stylesheet\",\n",
       "  type: \"text/css\",\n",
       "  href: \"//cdnjs.cloudflare.com/ajax/libs/font-awesome/4.1.0/css/font-awesome.min.css\"\n",
       "}));\n",
       "$(\"head\").append($(\"<link/>\").attr({\n",
       "  rel:  \"stylesheet\",\n",
       "  type: \"text/css\",\n",
       "  href: \"https://static.turi.com/products/graphlab-create/2.1/canvas/css/canvas.css\"\n",
       "}));\n",
       "\n",
       "            (function(){\n",
       "\n",
       "                var e = null;\n",
       "                if (typeof element == 'undefined') {\n",
       "                    var scripts = document.getElementsByTagName('script');\n",
       "                    var thisScriptTag = scripts[scripts.length-1];\n",
       "                    var parentDiv = thisScriptTag.parentNode;\n",
       "                    e = document.createElement('div');\n",
       "                    parentDiv.appendChild(e);\n",
       "                } else {\n",
       "                    e = element[0];\n",
       "                }\n",
       "\n",
       "                if (typeof requirejs !== 'undefined') {\n",
       "                    // disable load timeout; ipython_app.js is large and can take a while to load.\n",
       "                    requirejs.config({waitSeconds: 0});\n",
       "                }\n",
       "\n",
       "                require(['https://static.turi.com/products/graphlab-create/2.1/canvas/js/ipython_app.js'], function(IPythonApp){\n",
       "                    var app = new IPythonApp();\n",
       "                    app.attachView('sarray','Images', {\"ipython\": true, \"rows\": [{\"format\": \"jpeg\", \"value\": \"image/jpeg;base64,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\\n\", \"height\": 300, \"channels\": 3, \"width\": 300, \"type\": \"image\", \"id\": 4799750288}], \"selected_variable\": {\"name\": [\"<SArray>\"], \"dtype\": \"Image\", \"view_component\": \"Images\", \"view_file\": \"sarray\", \"descriptives\": {\"rows\": 1}, \"type\": \"SArray\", \"view_components\": [\"Images\"]}}, e);\n",
       "                });\n",
       "            })();\n",
       "        "
      ]
     },
     "metadata": {},
     "output_type": "display_data"
    }
   ],
   "source": [
    "gl.canvas.set_target('ipynb')\n",
    "sample['prodImg'].show()"
   ]
  },
  {
   "cell_type": "markdown",
   "metadata": {},
   "source": [
    "Let's look at the description of Conrad's book ``The Mirror of the Sea''"
   ]
  },
  {
   "cell_type": "code",
   "execution_count": 11,
   "metadata": {
    "collapsed": false
   },
   "outputs": [
    {
     "data": {
      "text/plain": [
       "dtype: str\n",
       "Rows: 1\n",
       "['Conrad is regarded as one of the great novelists in English, though he did not speak the language fluently until he was in his twenties (and then always with a marked Polish accent). He wrote stories and novels, predominantly with a nautical setting, that depict trials of the human spirit by the demands of duty and honour. Conrad was a master prose stylist who brought a distinctly non-English tragic sensibility into English literature. While some of his works have a strain of romanticism, he is viewed as a precursor of modernist literature. His narrative style and anti-heroic characters have influenced many authors.']"
      ]
     },
     "execution_count": 11,
     "metadata": {},
     "output_type": "execute_result"
    }
   ],
   "source": [
    "sample['description']"
   ]
  },
  {
   "cell_type": "markdown",
   "metadata": {},
   "source": [
    "Predictions for jaccard similarities are made via:\n",
    "\n",
    "$$ y_{uj} = \\frac{\\sum_{i \\in I_u} \\mbox{SIM}(i,j) r_{ui}}{\\sum_{i \\in I_u} \\mbox{SIM}(i,j)} $$"
   ]
  },
  {
   "cell_type": "code",
   "execution_count": 12,
   "metadata": {
    "collapsed": true
   },
   "outputs": [],
   "source": [
    "similar_items = sm.get_similar_items(sample['asin'])"
   ]
  },
  {
   "cell_type": "markdown",
   "metadata": {},
   "source": [
    "From our calculation, we get a result that includes a similarity score (for $k$ number of similar items), as shown below:"
   ]
  },
  {
   "cell_type": "code",
   "execution_count": 13,
   "metadata": {
    "collapsed": false
   },
   "outputs": [
    {
     "data": {
      "text/html": [
       "<div style=\"max-height:1000px;max-width:1500px;overflow:auto;\"><table frame=\"box\" rules=\"cols\">\n",
       "    <tr>\n",
       "        <th style=\"padding-left: 1em; padding-right: 1em; text-align: center\">asin</th>\n",
       "        <th style=\"padding-left: 1em; padding-right: 1em; text-align: center\">similar</th>\n",
       "        <th style=\"padding-left: 1em; padding-right: 1em; text-align: center\">score</th>\n",
       "        <th style=\"padding-left: 1em; padding-right: 1em; text-align: center\">rank</th>\n",
       "    </tr>\n",
       "    <tr>\n",
       "        <td style=\"padding-left: 1em; padding-right: 1em; text-align: center; vertical-align: top\">B004TPFMI2</td>\n",
       "        <td style=\"padding-left: 1em; padding-right: 1em; text-align: center; vertical-align: top\">B005HKHOG6</td>\n",
       "        <td style=\"padding-left: 1em; padding-right: 1em; text-align: center; vertical-align: top\">0.0769230723381</td>\n",
       "        <td style=\"padding-left: 1em; padding-right: 1em; text-align: center; vertical-align: top\">1</td>\n",
       "    </tr>\n",
       "    <tr>\n",
       "        <td style=\"padding-left: 1em; padding-right: 1em; text-align: center; vertical-align: top\">B004TPFMI2</td>\n",
       "        <td style=\"padding-left: 1em; padding-right: 1em; text-align: center; vertical-align: top\">B0075EV2BK</td>\n",
       "        <td style=\"padding-left: 1em; padding-right: 1em; text-align: center; vertical-align: top\">0.0769230723381</td>\n",
       "        <td style=\"padding-left: 1em; padding-right: 1em; text-align: center; vertical-align: top\">2</td>\n",
       "    </tr>\n",
       "    <tr>\n",
       "        <td style=\"padding-left: 1em; padding-right: 1em; text-align: center; vertical-align: top\">B004TPFMI2</td>\n",
       "        <td style=\"padding-left: 1em; padding-right: 1em; text-align: center; vertical-align: top\">B0082T27MU</td>\n",
       "        <td style=\"padding-left: 1em; padding-right: 1em; text-align: center; vertical-align: top\">0.0769230723381</td>\n",
       "        <td style=\"padding-left: 1em; padding-right: 1em; text-align: center; vertical-align: top\">3</td>\n",
       "    </tr>\n",
       "    <tr>\n",
       "        <td style=\"padding-left: 1em; padding-right: 1em; text-align: center; vertical-align: top\">B004TPFMI2</td>\n",
       "        <td style=\"padding-left: 1em; padding-right: 1em; text-align: center; vertical-align: top\">B0074CUBI8</td>\n",
       "        <td style=\"padding-left: 1em; padding-right: 1em; text-align: center; vertical-align: top\">0.0769230723381</td>\n",
       "        <td style=\"padding-left: 1em; padding-right: 1em; text-align: center; vertical-align: top\">4</td>\n",
       "    </tr>\n",
       "    <tr>\n",
       "        <td style=\"padding-left: 1em; padding-right: 1em; text-align: center; vertical-align: top\">B004TPFMI2</td>\n",
       "        <td style=\"padding-left: 1em; padding-right: 1em; text-align: center; vertical-align: top\">B00C1PCKW8</td>\n",
       "        <td style=\"padding-left: 1em; padding-right: 1em; text-align: center; vertical-align: top\">0.0769230723381</td>\n",
       "        <td style=\"padding-left: 1em; padding-right: 1em; text-align: center; vertical-align: top\">5</td>\n",
       "    </tr>\n",
       "    <tr>\n",
       "        <td style=\"padding-left: 1em; padding-right: 1em; text-align: center; vertical-align: top\">B004TPFMI2</td>\n",
       "        <td style=\"padding-left: 1em; padding-right: 1em; text-align: center; vertical-align: top\">B006OA0WZ8</td>\n",
       "        <td style=\"padding-left: 1em; padding-right: 1em; text-align: center; vertical-align: top\">0.0769230723381</td>\n",
       "        <td style=\"padding-left: 1em; padding-right: 1em; text-align: center; vertical-align: top\">6</td>\n",
       "    </tr>\n",
       "    <tr>\n",
       "        <td style=\"padding-left: 1em; padding-right: 1em; text-align: center; vertical-align: top\">B004TPFMI2</td>\n",
       "        <td style=\"padding-left: 1em; padding-right: 1em; text-align: center; vertical-align: top\">B00INHMNLG</td>\n",
       "        <td style=\"padding-left: 1em; padding-right: 1em; text-align: center; vertical-align: top\">0.0769230723381</td>\n",
       "        <td style=\"padding-left: 1em; padding-right: 1em; text-align: center; vertical-align: top\">7</td>\n",
       "    </tr>\n",
       "    <tr>\n",
       "        <td style=\"padding-left: 1em; padding-right: 1em; text-align: center; vertical-align: top\">B004TPFMI2</td>\n",
       "        <td style=\"padding-left: 1em; padding-right: 1em; text-align: center; vertical-align: top\">B0076795JM</td>\n",
       "        <td style=\"padding-left: 1em; padding-right: 1em; text-align: center; vertical-align: top\">0.0769230723381</td>\n",
       "        <td style=\"padding-left: 1em; padding-right: 1em; text-align: center; vertical-align: top\">8</td>\n",
       "    </tr>\n",
       "    <tr>\n",
       "        <td style=\"padding-left: 1em; padding-right: 1em; text-align: center; vertical-align: top\">B004TPFMI2</td>\n",
       "        <td style=\"padding-left: 1em; padding-right: 1em; text-align: center; vertical-align: top\">B008QO92U6</td>\n",
       "        <td style=\"padding-left: 1em; padding-right: 1em; text-align: center; vertical-align: top\">0.0769230723381</td>\n",
       "        <td style=\"padding-left: 1em; padding-right: 1em; text-align: center; vertical-align: top\">9</td>\n",
       "    </tr>\n",
       "    <tr>\n",
       "        <td style=\"padding-left: 1em; padding-right: 1em; text-align: center; vertical-align: top\">B004TPFMI2</td>\n",
       "        <td style=\"padding-left: 1em; padding-right: 1em; text-align: center; vertical-align: top\">B004UK001K</td>\n",
       "        <td style=\"padding-left: 1em; padding-right: 1em; text-align: center; vertical-align: top\">0.0769230723381</td>\n",
       "        <td style=\"padding-left: 1em; padding-right: 1em; text-align: center; vertical-align: top\">10</td>\n",
       "    </tr>\n",
       "</table>\n",
       "[10 rows x 4 columns]<br/>\n",
       "</div>"
      ],
      "text/plain": [
       "Columns:\n",
       "\tasin\tstr\n",
       "\tsimilar\tstr\n",
       "\tscore\tfloat\n",
       "\trank\tint\n",
       "\n",
       "Rows: 10\n",
       "\n",
       "Data:\n",
       "+------------+------------+-----------------+------+\n",
       "|    asin    |  similar   |      score      | rank |\n",
       "+------------+------------+-----------------+------+\n",
       "| B004TPFMI2 | B005HKHOG6 | 0.0769230723381 |  1   |\n",
       "| B004TPFMI2 | B0075EV2BK | 0.0769230723381 |  2   |\n",
       "| B004TPFMI2 | B0082T27MU | 0.0769230723381 |  3   |\n",
       "| B004TPFMI2 | B0074CUBI8 | 0.0769230723381 |  4   |\n",
       "| B004TPFMI2 | B00C1PCKW8 | 0.0769230723381 |  5   |\n",
       "| B004TPFMI2 | B006OA0WZ8 | 0.0769230723381 |  6   |\n",
       "| B004TPFMI2 | B00INHMNLG | 0.0769230723381 |  7   |\n",
       "| B004TPFMI2 | B0076795JM | 0.0769230723381 |  8   |\n",
       "| B004TPFMI2 | B008QO92U6 | 0.0769230723381 |  9   |\n",
       "| B004TPFMI2 | B004UK001K | 0.0769230723381 |  10  |\n",
       "+------------+------------+-----------------+------+\n",
       "[10 rows x 4 columns]"
      ]
     },
     "execution_count": 13,
     "metadata": {},
     "output_type": "execute_result"
    }
   ],
   "source": [
    "similar_items.head()"
   ]
  },
  {
   "cell_type": "markdown",
   "metadata": {},
   "source": [
    "We can then use the product `asin` identifiers to get images of the books that are similar and show those books"
   ]
  },
  {
   "cell_type": "code",
   "execution_count": 14,
   "metadata": {
    "collapsed": false
   },
   "outputs": [
    {
     "data": {
      "text/plain": [
       "dtype: str\n",
       "Rows: 10\n",
       "['B005HKHOG6', 'B0075EV2BK', 'B0082T27MU', 'B0074CUBI8', 'B00C1PCKW8', 'B006OA0WZ8', 'B00INHMNLG', 'B0076795JM', 'B008QO92U6', 'B004UK001K']"
      ]
     },
     "execution_count": 14,
     "metadata": {},
     "output_type": "execute_result"
    }
   ],
   "source": [
    "similar_items['similar']"
   ]
  },
  {
   "cell_type": "code",
   "execution_count": 15,
   "metadata": {
    "collapsed": false
   },
   "outputs": [
    {
     "data": {
      "text/html": [
       "<pre>Downloading http://ecx.images-amazon.com/images/I/511lCN2cvmL._BO2,204,203,200_PIsitb-sticker-v3-big,TopRight,0,-55_SX278_SY278_PIkin4,BottomRight,1,22_AA300_SH20_OU01_.jpg to /var/tmp/graphlab-galen/16940/0751fcc0-db17-46b4-b93a-32f642782b60.jpg</pre>"
      ],
      "text/plain": [
       "Downloading http://ecx.images-amazon.com/images/I/511lCN2cvmL._BO2,204,203,200_PIsitb-sticker-v3-big,TopRight,0,-55_SX278_SY278_PIkin4,BottomRight,1,22_AA300_SH20_OU01_.jpg to /var/tmp/graphlab-galen/16940/0751fcc0-db17-46b4-b93a-32f642782b60.jpg"
      ]
     },
     "metadata": {},
     "output_type": "display_data"
    },
    {
     "data": {
      "text/html": [
       "<pre>Downloading http://ecx.images-amazon.com/images/I/513sUFSn0iL._BO2,204,203,200_PIsitb-sticker-v3-big,TopRight,0,-55_SX278_SY278_PIkin4,BottomRight,1,22_AA300_SH20_OU01_.jpg to /var/tmp/graphlab-galen/16940/6a435ff3-d8aa-4807-b27d-d06c59412984.jpg</pre>"
      ],
      "text/plain": [
       "Downloading http://ecx.images-amazon.com/images/I/513sUFSn0iL._BO2,204,203,200_PIsitb-sticker-v3-big,TopRight,0,-55_SX278_SY278_PIkin4,BottomRight,1,22_AA300_SH20_OU01_.jpg to /var/tmp/graphlab-galen/16940/6a435ff3-d8aa-4807-b27d-d06c59412984.jpg"
      ]
     },
     "metadata": {},
     "output_type": "display_data"
    },
    {
     "data": {
      "text/html": [
       "<pre>Downloading http://ecx.images-amazon.com/images/I/41qSi5ni2%2BL._BO2,204,203,200_PIsitb-sticker-v3-big,TopRight,0,-55_SX278_SY278_PIkin4,BottomRight,1,22_AA300_SH20_OU01_.jpg to /var/tmp/graphlab-galen/16940/19026dd8-d050-48d2-ab89-e50536d9c4c7.jpg</pre>"
      ],
      "text/plain": [
       "Downloading http://ecx.images-amazon.com/images/I/41qSi5ni2%2BL._BO2,204,203,200_PIsitb-sticker-v3-big,TopRight,0,-55_SX278_SY278_PIkin4,BottomRight,1,22_AA300_SH20_OU01_.jpg to /var/tmp/graphlab-galen/16940/19026dd8-d050-48d2-ab89-e50536d9c4c7.jpg"
      ]
     },
     "metadata": {},
     "output_type": "display_data"
    },
    {
     "data": {
      "text/html": [
       "<pre>Downloading http://ecx.images-amazon.com/images/I/513ZTNg6QjL._BO2,204,203,200_PIsitb-sticker-v3-big,TopRight,0,-55_SX278_SY278_PIkin4,BottomRight,1,22_AA300_SH20_OU01_.jpg to /var/tmp/graphlab-galen/16940/56369d24-f536-4c67-8563-420a6a7df037.jpg</pre>"
      ],
      "text/plain": [
       "Downloading http://ecx.images-amazon.com/images/I/513ZTNg6QjL._BO2,204,203,200_PIsitb-sticker-v3-big,TopRight,0,-55_SX278_SY278_PIkin4,BottomRight,1,22_AA300_SH20_OU01_.jpg to /var/tmp/graphlab-galen/16940/56369d24-f536-4c67-8563-420a6a7df037.jpg"
      ]
     },
     "metadata": {},
     "output_type": "display_data"
    },
    {
     "data": {
      "text/html": [
       "<pre>Downloading http://ecx.images-amazon.com/images/I/41rAlNF%2BNGL._BO2,204,203,200_PIsitb-sticker-v3-big,TopRight,0,-55_SX278_SY278_PIkin4,BottomRight,1,22_AA300_SH20_OU01_.jpg to /var/tmp/graphlab-galen/16940/ffee1bbd-ef7a-4c86-8751-06ffb4c4121e.jpg</pre>"
      ],
      "text/plain": [
       "Downloading http://ecx.images-amazon.com/images/I/41rAlNF%2BNGL._BO2,204,203,200_PIsitb-sticker-v3-big,TopRight,0,-55_SX278_SY278_PIkin4,BottomRight,1,22_AA300_SH20_OU01_.jpg to /var/tmp/graphlab-galen/16940/ffee1bbd-ef7a-4c86-8751-06ffb4c4121e.jpg"
      ]
     },
     "metadata": {},
     "output_type": "display_data"
    },
    {
     "data": {
      "text/html": [
       "<pre>Downloading http://ecx.images-amazon.com/images/I/51gNdYR4-lL._BO2,204,203,200_PIsitb-sticker-v3-big,TopRight,0,-55_SX278_SY278_PIkin4,BottomRight,1,22_AA300_SH20_OU01_.jpg to /var/tmp/graphlab-galen/16940/34adfc4f-97ac-4410-98b1-553cb013189b.jpg</pre>"
      ],
      "text/plain": [
       "Downloading http://ecx.images-amazon.com/images/I/51gNdYR4-lL._BO2,204,203,200_PIsitb-sticker-v3-big,TopRight,0,-55_SX278_SY278_PIkin4,BottomRight,1,22_AA300_SH20_OU01_.jpg to /var/tmp/graphlab-galen/16940/34adfc4f-97ac-4410-98b1-553cb013189b.jpg"
      ]
     },
     "metadata": {},
     "output_type": "display_data"
    },
    {
     "data": {
      "text/html": [
       "<pre>Downloading http://ecx.images-amazon.com/images/I/41FrOBmbwYL._BO2,204,203,200_PIsitb-sticker-v3-big,TopRight,0,-55_SX278_SY278_PIkin4,BottomRight,1,22_AA300_SH20_OU01_.jpg to /var/tmp/graphlab-galen/16940/aa1af0ec-f1fa-49b8-aaf7-3d603d62cfa9.jpg</pre>"
      ],
      "text/plain": [
       "Downloading http://ecx.images-amazon.com/images/I/41FrOBmbwYL._BO2,204,203,200_PIsitb-sticker-v3-big,TopRight,0,-55_SX278_SY278_PIkin4,BottomRight,1,22_AA300_SH20_OU01_.jpg to /var/tmp/graphlab-galen/16940/aa1af0ec-f1fa-49b8-aaf7-3d603d62cfa9.jpg"
      ]
     },
     "metadata": {},
     "output_type": "display_data"
    },
    {
     "data": {
      "text/html": [
       "<pre>Downloading http://ecx.images-amazon.com/images/I/51CkTD3gZSL._BO2,204,203,200_PIsitb-sticker-v3-big,TopRight,0,-55_SX278_SY278_PIkin4,BottomRight,1,22_AA300_SH20_OU01_.jpg to /var/tmp/graphlab-galen/16940/d3931fc0-984a-4d56-b612-5f166795888d.jpg</pre>"
      ],
      "text/plain": [
       "Downloading http://ecx.images-amazon.com/images/I/51CkTD3gZSL._BO2,204,203,200_PIsitb-sticker-v3-big,TopRight,0,-55_SX278_SY278_PIkin4,BottomRight,1,22_AA300_SH20_OU01_.jpg to /var/tmp/graphlab-galen/16940/d3931fc0-984a-4d56-b612-5f166795888d.jpg"
      ]
     },
     "metadata": {},
     "output_type": "display_data"
    },
    {
     "data": {
      "text/html": [
       "<pre>Downloading http://ecx.images-amazon.com/images/I/51w7sj0uZmL._BO2,204,203,200_PIsitb-sticker-v3-big,TopRight,0,-55_SX278_SY278_PIkin4,BottomRight,1,22_AA300_SH20_OU01_.jpg to /var/tmp/graphlab-galen/16940/d694eb9c-3172-448c-9ec1-4614797f709c.jpg</pre>"
      ],
      "text/plain": [
       "Downloading http://ecx.images-amazon.com/images/I/51w7sj0uZmL._BO2,204,203,200_PIsitb-sticker-v3-big,TopRight,0,-55_SX278_SY278_PIkin4,BottomRight,1,22_AA300_SH20_OU01_.jpg to /var/tmp/graphlab-galen/16940/d694eb9c-3172-448c-9ec1-4614797f709c.jpg"
      ]
     },
     "metadata": {},
     "output_type": "display_data"
    },
    {
     "data": {
      "text/html": [
       "<pre>Downloading http://ecx.images-amazon.com/images/I/41-PTpeUGfL._BO2,204,203,200_PIsitb-sticker-v3-big,TopRight,0,-55_SX278_SY278_PIkin4,BottomRight,1,22_AA300_SH20_OU01_.jpg to /var/tmp/graphlab-galen/16940/2692b83b-4eae-4066-a172-92f9e24fe50f.jpg</pre>"
      ],
      "text/plain": [
       "Downloading http://ecx.images-amazon.com/images/I/41-PTpeUGfL._BO2,204,203,200_PIsitb-sticker-v3-big,TopRight,0,-55_SX278_SY278_PIkin4,BottomRight,1,22_AA300_SH20_OU01_.jpg to /var/tmp/graphlab-galen/16940/2692b83b-4eae-4066-a172-92f9e24fe50f.jpg"
      ]
     },
     "metadata": {},
     "output_type": "display_data"
    }
   ],
   "source": [
    "related_items = getAsinRows(similar_items['similar'])"
   ]
  },
  {
   "cell_type": "code",
   "execution_count": 16,
   "metadata": {
    "collapsed": false
   },
   "outputs": [
    {
     "data": {
      "application/javascript": [
       "$(\"head\").append($(\"<link/>\").attr({\n",
       "  rel:  \"stylesheet\",\n",
       "  type: \"text/css\",\n",
       "  href: \"//cdnjs.cloudflare.com/ajax/libs/font-awesome/4.1.0/css/font-awesome.min.css\"\n",
       "}));\n",
       "$(\"head\").append($(\"<link/>\").attr({\n",
       "  rel:  \"stylesheet\",\n",
       "  type: \"text/css\",\n",
       "  href: \"https://static.turi.com/products/graphlab-create/2.1/canvas/css/canvas.css\"\n",
       "}));\n",
       "\n",
       "            (function(){\n",
       "\n",
       "                var e = null;\n",
       "                if (typeof element == 'undefined') {\n",
       "                    var scripts = document.getElementsByTagName('script');\n",
       "                    var thisScriptTag = scripts[scripts.length-1];\n",
       "                    var parentDiv = thisScriptTag.parentNode;\n",
       "                    e = document.createElement('div');\n",
       "                    parentDiv.appendChild(e);\n",
       "                } else {\n",
       "                    e = element[0];\n",
       "                }\n",
       "\n",
       "                if (typeof requirejs !== 'undefined') {\n",
       "                    // disable load timeout; ipython_app.js is large and can take a while to load.\n",
       "                    requirejs.config({waitSeconds: 0});\n",
       "                }\n",
       "\n",
       "                require(['https://static.turi.com/products/graphlab-create/2.1/canvas/js/ipython_app.js'], function(IPythonApp){\n",
       "                    var app = new IPythonApp();\n",
       "                    app.attachView('sarray','Images', {\"ipython\": true, \"rows\": [{\"format\": \"jpeg\", \"value\": \"image/jpeg;base64,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\\n\", \"height\": 300, \"channels\": 3, \"width\": 300, \"type\": \"image\", \"id\": 4799752592}, {\"format\": \"jpeg\", \"value\": \"image/jpeg;base64,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\\n\", \"height\": 300, \"channels\": 3, \"width\": 300, \"type\": \"image\", \"id\": 4799750288}, {\"format\": \"jpeg\", \"value\": \"image/jpeg;base64,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\\n\", \"height\": 300, \"channels\": 3, \"width\": 300, \"type\": \"image\", \"id\": 4799752144}, {\"format\": \"jpeg\", \"value\": \"image/jpeg;base64,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\\n\", \"height\": 300, \"channels\": 3, \"width\": 300, \"type\": \"image\", \"id\": 4799751888}, {\"format\": \"jpeg\", \"value\": \"image/jpeg;base64,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\\n\", \"height\": 300, \"channels\": 3, \"width\": 300, \"type\": \"image\", \"id\": 4799752016}, {\"format\": \"jpeg\", \"value\": \"image/jpeg;base64,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\\n\", \"height\": 300, \"channels\": 3, \"width\": 300, \"type\": \"image\", \"id\": 4799752720}, {\"format\": \"jpeg\", \"value\": \"image/jpeg;base64,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\\n\", \"height\": 300, \"channels\": 3, \"width\": 300, \"type\": \"image\", \"id\": 4799753168}, {\"format\": \"jpeg\", \"value\": \"image/jpeg;base64,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\\n\", \"height\": 300, \"channels\": 3, \"width\": 300, \"type\": \"image\", \"id\": 4799753232}, {\"format\": \"jpeg\", \"value\": \"image/jpeg;base64,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\\n\", \"height\": 300, \"channels\": 3, \"width\": 300, \"type\": \"image\", \"id\": 4799753296}, {\"format\": \"jpeg\", \"value\": \"image/jpeg;base64,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\\n\", \"height\": 300, \"channels\": 3, \"width\": 300, \"type\": \"image\", \"id\": 4799753360}], \"selected_variable\": {\"name\": [\"<SArray>\"], \"dtype\": \"Image\", \"view_component\": \"Images\", \"view_file\": \"sarray\", \"descriptives\": {\"rows\": 10}, \"type\": \"SArray\", \"view_components\": [\"Images\"]}}, e);\n",
       "                });\n",
       "            })();\n",
       "        "
      ]
     },
     "metadata": {},
     "output_type": "display_data"
    }
   ],
   "source": [
    "related_items['prodImg'].show()"
   ]
  },
  {
   "cell_type": "markdown",
   "metadata": {},
   "source": [
    "A quick glance at the novels reveals that there are several books from Ted Hughes recommended.  Like Conrad, Hughes is also an English novelist.  His wikipedia biography includes this description of his work:\n",
    "\n",
    ">Hughes's earlier poetic work is rooted in nature and, in particular, the innocent savagery of animals, an interest from an early age. He wrote frequently of the mixture of beauty and violence in the natural world.[57] Animals serve as a metaphor for his view on life: animals live out a struggle for the survival of the fittest in the same way that humans strive for ascendancy and success. Examples can be seen in the poems \"Hawk Roosting\" and \"Jaguar\".[57]\n",
    "\n",
    ">The West Riding dialect of Hughes's childhood remained a staple of his poetry, his lexicon lending a texture that is concrete, terse, emphatic, economical yet powerful. The manner of speech renders the hard facts of things and wards off self-indulgence.[14]\n",
    "\n",
    ">Hughes's later work is deeply reliant upon myth and the British bardic tradition, heavily inflected with a modernist, Jungian and ecological viewpoint.[57] He re-worked classical and archetypal myth working with a conception of the dark sub-conscious.[57]\n",
    "\n",
    "*Source: [https://en.wikipedia.org/wiki/Ted_Hughes](https://en.wikipedia.org/wiki/Ted_Hughes)"
   ]
  },
  {
   "cell_type": "markdown",
   "metadata": {},
   "source": [
    "## Section II: [ZiWei]"
   ]
  },
  {
   "cell_type": "markdown",
   "metadata": {},
   "source": [
    "Get an SArray of the concatenated text in the `summary`, `reviewText`, and `description` fields."
   ]
  },
  {
   "cell_type": "code",
   "execution_count": 21,
   "metadata": {
    "collapsed": true
   },
   "outputs": [],
   "source": [
    "docs = msf.apply(lambda x: str(x['summary']) + ' ' + str(x['reviewText']) + ' ' + str(x['description']))"
   ]
  },
  {
   "cell_type": "markdown",
   "metadata": {},
   "source": [
    "Create a function to count words from a `docs` SArray that outputs a `docs_sf` SFrame with associated word counts"
   ]
  },
  {
   "cell_type": "code",
   "execution_count": 26,
   "metadata": {
    "collapsed": true
   },
   "outputs": [],
   "source": [
    "def get_word_frequency(docs):\n",
    "    \"\"\"\n",
    "    Returns the frequency of occurrence of words in an SArray of documents\n",
    "    Args:\n",
    "    docs: An SArray (of dtype str) of documents\n",
    "    Returns:\n",
    "    An SFrame with the following columns:\n",
    "     'word'      : Word used\n",
    "     'count'     : Number of times the word occured in all documents.\n",
    "     'frequency' : Relative frequency of the word in the set of input documents.\n",
    "    \"\"\"\n",
    "\n",
    "    # Use the count_words function to count the number of words.\n",
    "    docs_sf = gl.SFrame()\n",
    "    docs_sf['words'] = gl.text_analytics.count_words(docs)\n",
    "\n",
    "    # Stack the dictionary into individual word-count pairs.\n",
    "    docs_sf = docs_sf.stack('words', \n",
    "                         new_column_name=['word', 'count'])\n",
    "\n",
    "    # Count the number of unique words (remove None values)\n",
    "    docs_sf = docs_sf.groupby('word', {'count': gl.aggregate.SUM('count')})\n",
    "    docs_sf['frequency'] = docs_sf['count'] / docs_sf[\"count\"].sum()\n",
    "    return docs_sf"
   ]
  },
  {
   "cell_type": "code",
   "execution_count": null,
   "metadata": {
    "collapsed": true
   },
   "outputs": [],
   "source": [
    "docs_sf = get_word_frequency(docs)"
   ]
  },
  {
   "cell_type": "code",
   "execution_count": null,
   "metadata": {
    "collapsed": true
   },
   "outputs": [],
   "source": [
    "def predict(document_bow, word_topic_counts, topic_counts, vocab,\n",
    "            alpha=0.1, beta=0.01, num_burnin=5):\n",
    "    \"\"\"\n",
    "    Make predictions for a single document.\n",
    "    Parameters\n",
    "    ----------\n",
    "    document_bow : dict\n",
    "        Dictionary with words as keys and document frequencies as counts.\n",
    "    word_topic_counts : numpy array, num_vocab x num_topics\n",
    "        Number of times a given word has ever been assigned to a topic.\n",
    "    topic_counts : numpy vector of length num_topics\n",
    "        Number of times any word has been assigned to a topic.\n",
    "    vocab : dict\n",
    "        Words are keys and unique integer is the value.\n",
    "    alpha : float\n",
    "        Hyperparameter. See topic_model docs.\n",
    "    beta : float\n",
    "        Hyperparameter. See topic_model docs.\n",
    "    num_burnin : int\n",
    "        Number of iterations of Gibbs sampling to perform at predict time.\n",
    "    Returns\n",
    "    -------\n",
    "    out : numpy array of length num_topics\n",
    "        Probabilities that the document belongs to each topic.\n",
    "    \"\"\"\n",
    "    num_vocab, num_topics = word_topic_counts.shape\n",
    "\n",
    "    # proportion of each topic in this test doc\n",
    "    doc_topic_counts = np.zeros(num_topics)\n",
    "    # Assignment of each unique word\n",
    "    doc_topic_assignments = []\n",
    "\n",
    "    # Initialize assignments and counts\n",
    "    # NB: we are assuming document_bow doesn't change.\n",
    "    for i, (word, freq) in enumerate(document_bow.iteritems()):\n",
    "        if word not in vocab:  # skip words not present in training set\n",
    "            continue\n",
    "        topic = np.random.randint(0, num_topics-1)\n",
    "        doc_topic_assignments.append(topic)\n",
    "        doc_topic_counts[topic] += freq\n",
    "\n",
    "    # Sample topic assignments for the test document\n",
    "    for burnin in range(num_burnin):\n",
    "        for i, (word, freq) in enumerate(document_bow.iteritems()):\n",
    "            if word not in vocab:\n",
    "                continue\n",
    "            word_id = vocab[word]\n",
    "\n",
    "            # Get old topic and decrement counts\n",
    "            topic = doc_topic_assignments[i]\n",
    "            doc_topic_counts[topic] -= freq\n",
    "\n",
    "            # Sample a new topic\n",
    "            gamma = np.zeros(num_topics)  # store probabilities\n",
    "            for k in range(num_topics):\n",
    "                gamma[k] = (doc_topic_counts[k] + alpha) * (word_topic_counts[word_id, k] + beta) / (topic_counts[k] + num_vocab * beta)\n",
    "            gamma = gamma / gamma.sum()  # normalize to probabilities\n",
    "            topic = np.random.choice(num_topics, 1, p=gamma)\n",
    "\n",
    "            # Use new topic to increment counts\n",
    "            doc_topic_assignments[i] = topic\n",
    "            doc_topic_counts[topic] += freq\n",
    "\n",
    "    # Create predictions\n",
    "    predictions = np.zeros(num_topics)\n",
    "    total_doc_topic_counts = doc_topic_counts.sum()\n",
    "    for k in range(num_topics):\n",
    "        predictions[k] = (doc_topic_counts[k] + alpha) / (total_doc_topic_counts + num_topics * alpha)\n",
    "    return predictions / predictions.sum()\n",
    "\n",
    "\n",
    "    if __name__ == '__main__':\n",
    "    docs = gl.SFrame({'text': [{'first': 5, 'doc': 1}, {'second': 3, 'doc': 5}]})\n",
    "    m = gl.topic_model.create(docs)\n",
    "\n",
    "    # Get test document in bag of words format\n",
    "    document_bow = docs['text'][0]\n",
    "\n",
    "    # Input: Global parameters from trained model\n",
    "\n",
    "    # Number of times each word in the vocabulary has ever been assigned to topic k (in any document). You can make an approximate version of this by multiplying m['topics'] by some large number (e.g. number of tokens in corpus) that indicates how strong you \"believe\" in these topics. Make it into counts by flooring it to an integer.\n",
    "    prior_strength = 1000000\n",
    "    word_topic_counts = np.array(m['topics']['topic_probabilities'])\n",
    "    word_topic_counts = np.floor(prior_strength * word_topic_counts)\n",
    "\n",
    "    # Number of times any word as been assigned to each topic.\n",
    "    topic_counts = word_topic_counts.sum(0)\n",
    "\n",
    "    # Get vocabulary lookup\n",
    "    num_topics = m['num_topics']\n",
    "    vocab = {}\n",
    "    for i, w in enumerate(m['topics']['vocabulary']):\n",
    "        vocab[w] = i\n",
    "    num_vocab = len(vocab)\n",
    "\n",
    "    # Make prediction on test document\n",
    "    probs = predict(document_bow, word_topic_counts, topic_counts, vocab)"
   ]
  },
  {
   "cell_type": "code",
   "execution_count": 16,
   "metadata": {
    "collapsed": false
   },
   "outputs": [
    {
     "name": "stdout",
     "output_type": "stream",
     "text": [
      "Okay for true beginners\n",
      "So, I bought this book a few days ago and have tried three recipes so far.  The first was a total flop.  There must be an error, but be forewarned, do NOT make the Blueberry Coffee Cake as it comes out as inedible mush--WAY too much water.  The other two recipes (mac and cheese and grilled cheese with tomato) were decent for quick lunches or dinners.  They were average in taste, but considering the short amount of time it took to make them, I'm okay with that.  All in all, it's a nice idea book to get creative with everyday ingredients, but with errors and only average taste, I give it three stars.\n",
      "In less time and for less money than it takes to order pizza, you can make it yourself!Three harried but heatlh-conscious college students compiled and tested this collection of more than 200 tasty, hearty, inexpensive recipes anyone can cook -- yes, anyone!Whether you're short on cash, fearful of fat, counting your calories, or just miss home cooking, The Healthy College Cookbook offers everything you need to make good food yourself.\n"
     ]
    }
   ],
   "source": [
    "print msf[1]['summary']\n",
    "print msf[1]['reviewText']\n",
    "print msf[1]['description']"
   ]
  },
  {
   "cell_type": "code",
   "execution_count": 8,
   "metadata": {
    "collapsed": true
   },
   "outputs": [],
   "source": [
    "wc = gl.text_analytics.count_words(docs, to_lower=True)"
   ]
  },
  {
   "cell_type": "code",
   "execution_count": 13,
   "metadata": {
    "collapsed": false
   },
   "outputs": [
    {
     "ename": "ToolkitError",
     "evalue": "Input data is not an SFrame. If it is a Pandas DataFrame, you may use the to_sframe() function to convert it to an SFrame.",
     "output_type": "error",
     "traceback": [
      "\u001b[0;31m---------------------------------------------------------------------------\u001b[0m",
      "\u001b[0;31mToolkitError\u001b[0m                              Traceback (most recent call last)",
      "\u001b[0;32m<ipython-input-13-0457887f7cbe>\u001b[0m in \u001b[0;36m<module>\u001b[0;34m()\u001b[0m\n\u001b[1;32m      2\u001b[0m \u001b[0;34m\u001b[0m\u001b[0m\n\u001b[1;32m      3\u001b[0m \u001b[0;31m# Fit and transform the data.\u001b[0m\u001b[0;34m\u001b[0m\u001b[0;34m\u001b[0m\u001b[0m\n\u001b[0;32m----> 4\u001b[0;31m \u001b[0mtransformed_sf\u001b[0m \u001b[0;34m=\u001b[0m \u001b[0mtrimmer\u001b[0m\u001b[0;34m.\u001b[0m\u001b[0mfit_transform\u001b[0m\u001b[0;34m(\u001b[0m\u001b[0mwc\u001b[0m\u001b[0;34m)\u001b[0m\u001b[0;34m\u001b[0m\u001b[0m\n\u001b[0m",
      "\u001b[0;32m/Users/galen/anaconda/envs/gl-env/lib/python2.7/site-packages/graphlab/toolkits/feature_engineering/_doc_utils.pyc\u001b[0m in \u001b[0;36mfit_transform\u001b[0;34m(self, data)\u001b[0m\n\u001b[1;32m     31\u001b[0m \u001b[0;34m\u001b[0m\u001b[0m\n\u001b[1;32m     32\u001b[0m \u001b[0;32mdef\u001b[0m \u001b[0mfit_transform\u001b[0m\u001b[0;34m(\u001b[0m\u001b[0mself\u001b[0m\u001b[0;34m,\u001b[0m \u001b[0mdata\u001b[0m\u001b[0;34m)\u001b[0m\u001b[0;34m:\u001b[0m\u001b[0;34m\u001b[0m\u001b[0m\n\u001b[0;32m---> 33\u001b[0;31m     \u001b[0;32mreturn\u001b[0m \u001b[0mTransformer\u001b[0m\u001b[0;34m.\u001b[0m\u001b[0mfit_transform\u001b[0m\u001b[0;34m(\u001b[0m\u001b[0mself\u001b[0m\u001b[0;34m,\u001b[0m \u001b[0mdata\u001b[0m\u001b[0;34m)\u001b[0m\u001b[0;34m\u001b[0m\u001b[0m\n\u001b[0m\u001b[1;32m     34\u001b[0m \u001b[0;34m\u001b[0m\u001b[0m\n\u001b[1;32m     35\u001b[0m \u001b[0;32mdef\u001b[0m \u001b[0mrepublish_docs\u001b[0m\u001b[0;34m(\u001b[0m\u001b[0mcls\u001b[0m\u001b[0;34m)\u001b[0m\u001b[0;34m:\u001b[0m\u001b[0;34m\u001b[0m\u001b[0m\n",
      "\u001b[0;32m/Users/galen/anaconda/envs/gl-env/lib/python2.7/site-packages/graphlab/toolkits/feature_engineering/_feature_engineering.pyc\u001b[0m in \u001b[0;36mfit_transform\u001b[0;34m(self, data)\u001b[0m\n\u001b[1;32m    319\u001b[0m         \u001b[0;34m{\u001b[0m\u001b[0mexamples\u001b[0m\u001b[0;34m}\u001b[0m\u001b[0;34m\u001b[0m\u001b[0m\n\u001b[1;32m    320\u001b[0m         \"\"\"\n\u001b[0;32m--> 321\u001b[0;31m         \u001b[0m_raise_error_if_not_sframe\u001b[0m\u001b[0;34m(\u001b[0m\u001b[0mdata\u001b[0m\u001b[0;34m,\u001b[0m \u001b[0;34m\"data\"\u001b[0m\u001b[0;34m)\u001b[0m\u001b[0;34m\u001b[0m\u001b[0m\n\u001b[0m\u001b[1;32m    322\u001b[0m         \u001b[0m_mt\u001b[0m\u001b[0;34m.\u001b[0m\u001b[0m_get_metric_tracker\u001b[0m\u001b[0;34m(\u001b[0m\u001b[0;34m)\u001b[0m\u001b[0;34m.\u001b[0m\u001b[0mtrack\u001b[0m\u001b[0;34m(\u001b[0m\u001b[0mself\u001b[0m\u001b[0;34m.\u001b[0m\u001b[0m__class__\u001b[0m\u001b[0;34m.\u001b[0m\u001b[0m__module__\u001b[0m \u001b[0;34m+\u001b[0m \u001b[0;34m'.fit_transform'\u001b[0m\u001b[0;34m)\u001b[0m\u001b[0;34m\u001b[0m\u001b[0m\n\u001b[1;32m    323\u001b[0m         \u001b[0;32mreturn\u001b[0m \u001b[0mself\u001b[0m\u001b[0;34m.\u001b[0m\u001b[0m__proxy__\u001b[0m\u001b[0;34m.\u001b[0m\u001b[0mfit_transform\u001b[0m\u001b[0;34m(\u001b[0m\u001b[0mdata\u001b[0m\u001b[0;34m)\u001b[0m\u001b[0;34m\u001b[0m\u001b[0m\n",
      "\u001b[0;32m/Users/galen/anaconda/envs/gl-env/lib/python2.7/site-packages/graphlab/toolkits/_internal_utils.pyc\u001b[0m in \u001b[0;36m_raise_error_if_not_sframe\u001b[0;34m(dataset, variable_name)\u001b[0m\n\u001b[1;32m    395\u001b[0m \u001b[0;34m\u001b[0m\u001b[0m\n\u001b[1;32m    396\u001b[0m     \u001b[0;32mif\u001b[0m \u001b[0;32mnot\u001b[0m \u001b[0misinstance\u001b[0m\u001b[0;34m(\u001b[0m\u001b[0mdataset\u001b[0m\u001b[0;34m,\u001b[0m \u001b[0m_SFrame\u001b[0m\u001b[0;34m)\u001b[0m\u001b[0;34m:\u001b[0m\u001b[0;34m\u001b[0m\u001b[0m\n\u001b[0;32m--> 397\u001b[0;31m       \u001b[0;32mraise\u001b[0m \u001b[0mToolkitError\u001b[0m\u001b[0;34m(\u001b[0m\u001b[0merr_msg\u001b[0m \u001b[0;34m%\u001b[0m \u001b[0mvariable_name\u001b[0m\u001b[0;34m)\u001b[0m\u001b[0;34m\u001b[0m\u001b[0m\n\u001b[0m\u001b[1;32m    398\u001b[0m \u001b[0;34m\u001b[0m\u001b[0m\n\u001b[1;32m    399\u001b[0m \u001b[0;32mdef\u001b[0m \u001b[0m_raise_error_if_sframe_empty\u001b[0m\u001b[0;34m(\u001b[0m\u001b[0mdataset\u001b[0m\u001b[0;34m,\u001b[0m \u001b[0mvariable_name\u001b[0m\u001b[0;34m=\u001b[0m\u001b[0;34m\"SFrame\"\u001b[0m\u001b[0;34m)\u001b[0m\u001b[0;34m:\u001b[0m\u001b[0;34m\u001b[0m\u001b[0m\n",
      "\u001b[0;31mToolkitError\u001b[0m: Input data is not an SFrame. If it is a Pandas DataFrame, you may use the to_sframe() function to convert it to an SFrame."
     ]
    }
   ],
   "source": [
    "trimmer = gl.toolkits.feature_engineering.RareWordTrimmer(threshold=2)\n",
    "\n",
    "# Fit and transform the data.\n",
    "transformed_sf = trimmer.fit_transform(wc)"
   ]
  },
  {
   "cell_type": "code",
   "execution_count": 11,
   "metadata": {
    "collapsed": false,
    "scrolled": true
   },
   "outputs": [
    {
     "data": {
      "text/plain": [
       "3205467"
      ]
     },
     "execution_count": 11,
     "metadata": {},
     "output_type": "execute_result"
    }
   ],
   "source": [
    "len(wc)"
   ]
  },
  {
   "cell_type": "code",
   "execution_count": null,
   "metadata": {
    "collapsed": true
   },
   "outputs": [],
   "source": [
    "# Use the count_words function to count the number of words.\n",
    "docs_sf = gl.SFrame()\n",
    "docs_sf['words'] = gl.text_analytics.count_words(docs)\n",
    "\n",
    "# Stack the dictionary into individual word-count pairs.\n",
    "docs_sf = docs_sf.stack('words', \n",
    "                     new_column_name=['word', 'count'])\n",
    "\n",
    "# Count the number of unique words (remove None values)\n",
    "docs_sf = docs_sf.groupby('word', {'count': gl.aggregate.SUM('count')})\n",
    "docs_sf['frequency'] = docs_sf['count'] / docs_sf[\"count\"].sum()"
   ]
  },
  {
   "cell_type": "code",
   "execution_count": null,
   "metadata": {
    "collapsed": true
   },
   "outputs": [],
   "source": []
  },
  {
   "cell_type": "markdown",
   "metadata": {},
   "source": [
    "# Run CTM with Spark"
   ]
  },
  {
   "cell_type": "code",
   "execution_count": 1,
   "metadata": {
    "collapsed": true
   },
   "outputs": [],
   "source": [
    "import findspark\n",
    "findspark.init('/Users/Zoe/spark-2.1.0-bin-hadoop2.7/')\n",
    "from pyspark.sql import SparkSession\n",
    "\n",
    "from pyspark.context import SparkContext\n",
    "sc = SparkContext('local')\n",
    "spark = SparkSession(sc)"
   ]
  },
  {
   "cell_type": "markdown",
   "metadata": {},
   "source": [
    "## Prepare data"
   ]
  },
  {
   "cell_type": "code",
   "execution_count": 2,
   "metadata": {
    "collapsed": true
   },
   "outputs": [],
   "source": [
    "review_df = spark.read.json(\"/Users/Zoe/Documents/Spring2017/GR5243/MyPrjs/localData/prj5/reviews_Kindle_Store.json\")\n",
    "#meta_df = spark.read.json(\"/Users/Zoe/Documents/Spring2017/GR5243/MyPrjs/localData/prj5/meta_Kindle_Store.json\")"
   ]
  },
  {
   "cell_type": "code",
   "execution_count": 3,
   "metadata": {
    "collapsed": true
   },
   "outputs": [],
   "source": [
    "df = review_df.select(review_df.asin,review_df.overall,review_df.reviewerID)"
   ]
  },
  {
   "cell_type": "code",
   "execution_count": 6,
   "metadata": {
    "collapsed": true
   },
   "outputs": [],
   "source": [
    "review_df = 0\n",
    "meta_df = 0"
   ]
  },
  {
   "cell_type": "code",
   "execution_count": 5,
   "metadata": {
    "collapsed": false
   },
   "outputs": [
    {
     "data": {
      "text/plain": [
       "[Row(asin=u'1603420304', overall=4.0, reviewerID=u'A2GZ9GFZV1LWB0'),\n",
       " Row(asin=u'1603420304', overall=3.0, reviewerID=u'A1K7VSUDCVAPW8'),\n",
       " Row(asin=u'1603420304', overall=4.0, reviewerID=u'A35J5XRE5ZT6H2'),\n",
       " Row(asin=u'1603420304', overall=4.0, reviewerID=u'A3DGZNFSMNWSX5'),\n",
       " Row(asin=u'1603420304', overall=5.0, reviewerID=u'A2CVDQ6H36L4VL')]"
      ]
     },
     "execution_count": 5,
     "metadata": {},
     "output_type": "execute_result"
    }
   ],
   "source": [
    "df.take(5)"
   ]
  },
  {
   "cell_type": "code",
   "execution_count": 7,
   "metadata": {
    "collapsed": true
   },
   "outputs": [],
   "source": [
    "asins_code = df.select('asin').distinct().rdd.zipWithIndex()\n",
    "users_code = df.select('reviewerID').distinct().rdd.zipWithIndex()"
   ]
  },
  {
   "cell_type": "code",
   "execution_count": 8,
   "metadata": {
    "collapsed": true
   },
   "outputs": [],
   "source": [
    "asins_df = spark.createDataFrame(asins_code.map(lambda r: (r[0][0],r[1])),['asin','item'])\n",
    "users_df = spark.createDataFrame(users_code.map(lambda r: (r[0][0],r[1])),['reviewerID','user'])"
   ]
  },
  {
   "cell_type": "code",
   "execution_count": 9,
   "metadata": {
    "collapsed": true
   },
   "outputs": [],
   "source": [
    "Ratings = df.select(df.asin,df.overall,df.reviewerID).join(asins_df,\"asin\").join(users_df,\"reviewerID\")"
   ]
  },
  {
   "cell_type": "code",
   "execution_count": 10,
   "metadata": {
    "collapsed": true
   },
   "outputs": [],
   "source": [
    "Ratings = Ratings.select(Ratings.user, Ratings.item, Ratings.overall.alias('rating'))"
   ]
  },
  {
   "cell_type": "code",
   "execution_count": 19,
   "metadata": {
    "collapsed": true
   },
   "outputs": [],
   "source": [
    "row1 = Ratings.agg({\"user\": \"max\", \"item\":\"max\"}).collect()"
   ]
  },
  {
   "cell_type": "code",
   "execution_count": 20,
   "metadata": {
    "collapsed": false
   },
   "outputs": [
    {
     "data": {
      "text/plain": [
       "[Row(max(item)=430529, max(user)=1406889)]"
      ]
     },
     "execution_count": 20,
     "metadata": {},
     "output_type": "execute_result"
    }
   ],
   "source": [
    "row1"
   ]
  },
  {
   "cell_type": "code",
   "execution_count": 12,
   "metadata": {
    "collapsed": true
   },
   "outputs": [],
   "source": [
    "ItemTopics = spark.read.load('/Users/Zoe/Documents/Spring2017/GR5243/MyPrjs/localData/prj5/predictions.csv', \n",
    "                      format='com.databricks.spark.csv', \n",
    "                      header='true', \n",
    "                      inferSchema='true')"
   ]
  },
  {
   "cell_type": "code",
   "execution_count": 13,
   "metadata": {
    "collapsed": true
   },
   "outputs": [],
   "source": [
    "ItemTopicsRDD = asins_df.join(ItemTopics,\"asin\").drop(\"asin\").rdd.map(lambda r: (r[0],[r[i] for i in range(1,51)]))"
   ]
  },
  {
   "cell_type": "code",
   "execution_count": 14,
   "metadata": {
    "collapsed": true
   },
   "outputs": [],
   "source": [
    "ItemTopics = spark.createDataFrame(ItemTopicsRDD,['item','topic'])"
   ]
  },
  {
   "cell_type": "code",
   "execution_count": 23,
   "metadata": {
    "collapsed": true
   },
   "outputs": [],
   "source": [
    "Full = Ratings.join(ItemTopics, \"item\")"
   ]
  },
  {
   "cell_type": "code",
   "execution_count": 24,
   "metadata": {
    "collapsed": true
   },
   "outputs": [],
   "source": [
    "subFull = Full.limit(20)"
   ]
  },
  {
   "cell_type": "code",
   "execution_count": null,
   "metadata": {
    "collapsed": true
   },
   "outputs": [],
   "source": [
    "subFull.collect()"
   ]
  },
  {
   "cell_type": "code",
   "execution_count": null,
   "metadata": {
    "collapsed": true
   },
   "outputs": [],
   "source": []
  },
  {
   "cell_type": "markdown",
   "metadata": {},
   "source": [
    "## Train CTM on Data"
   ]
  },
  {
   "cell_type": "code",
   "execution_count": 15,
   "metadata": {
    "collapsed": true
   },
   "outputs": [],
   "source": [
    "from pyspark.sql.functions import collect_list\n",
    "from time import time\n",
    "import numpy as np\n",
    "from numpy.random import rand\n",
    "from numpy import matrix"
   ]
  },
  {
   "cell_type": "code",
   "execution_count": 22,
   "metadata": {
    "collapsed": true
   },
   "outputs": [],
   "source": [
    "def CTM_train(Full,I,J,K,LAMBDA,max_iter=10,n_partition=6):\n",
    "    '''\n",
    "    '''\n",
    "    \n",
    "    # define update functions\n",
    "    def updateU(i,v_ind,R,V,LAMBDA):\n",
    "        '''\n",
    "        '''\n",
    "        r = v_ind.shape[0]\n",
    "        K = V.shape[1]\n",
    "    \n",
    "        A = V[v_ind,:].T.dot(V[v_ind,:]) + LAMBDA*r*np.eye(K)\n",
    "        b = V[v_ind,:].T.dot(R).T\n",
    "        \n",
    "        return (np.linalg.solve(A, b)).T\n",
    "    \n",
    "    def updateV(j,u_ind,R,U,LAMBDA,Th):\n",
    "        '''\n",
    "        '''\n",
    "        r = u_ind.shape[0]\n",
    "        K = U.shape[1]\n",
    "    \n",
    "        A = U[u_ind,:].T.dot(U[u_ind,:]) + LAMBDA*r*np.eye(K)\n",
    "        b = U[u_ind,:].T.dot(R).T + LAMBDA*r*Th.reshape([K,1])\n",
    "    \n",
    "        return (np.linalg.solve(A, b)).T\n",
    "    \n",
    "    print('pre-compute block information...')\n",
    "    Full = Full.repartition(n_partition)\n",
    "    U_map = Full.groupBy(\"user\").agg(collect_list(\"item\").alias('items'),collect_list(\"rating\").alias('ratings')).sort('user')\n",
    "    V_map = Full.groupBy(\"item\").agg(collect_list(\"user\").alias('users'),collect_list(\"rating\").alias('ratings'), first('topic').alias('topic')).sort('item')\n",
    "    U_map = U_map.repartition(n_partition)\n",
    "    V_map = V_map.repartition(n_partition)\n",
    "    \n",
    "    print('initialize parameters...')\n",
    "    U = matrix(rand(I,K))\n",
    "    V = matrix(rand(J,K))\n",
    "    \n",
    "    Us = sc.broadcast(U)\n",
    "    Vs = sc.broadcast(V)\n",
    "    \n",
    "    print('update parameters...')\n",
    "    for i in range(max_iter):\n",
    "        \n",
    "        \n",
    "        st = time()\n",
    "        U = U_map.rdd.map(lambda r: updateU(r[0],np.array(r[1]),np.array(r[2]),Vs.value,LAMBDA)).reduce(lambda a,b: np.vstack((a,b)))\n",
    "        Us = sc.broadcast(U)\n",
    "        \n",
    "        \n",
    "        V = V_map.rdd.map(lambda r: updateV(r[0],np.array(r[1]),np.array(r[2]),Us.value,LAMBDA,np.array(r[3]))).reduce(lambda a,b: np.vstack((a,b)))\n",
    "        Vs = sc.broadcast(V)\n",
    "        ed = time()\n",
    "        \n",
    "        \n",
    "        print('Finish iteration round: '+str(i)+', use time: '+str(round(ed-st,4))+'s.\\n')\n",
    "    \n",
    "    return (U,V)        "
   ]
  },
  {
   "cell_type": "code",
   "execution_count": 21,
   "metadata": {
    "collapsed": false,
    "scrolled": true
   },
   "outputs": [
    {
     "name": "stdout",
     "output_type": "stream",
     "text": [
      "pre-compute block information...\n",
      "initialize parameters...\n",
      "update parameters...\n"
     ]
    },
    {
     "ename": "Py4JJavaError",
     "evalue": "An error occurred while calling z:org.apache.spark.api.python.PythonRDD.collectAndServe.\n: org.apache.spark.SparkException: Job aborted due to stage failure: Task 2 in stage 64.0 failed 1 times, most recent failure: Lost task 2.0 in stage 64.0 (TID 4507, localhost, executor driver): TaskResultLost (result lost from block manager)\nDriver stacktrace:\n\tat org.apache.spark.scheduler.DAGScheduler.org$apache$spark$scheduler$DAGScheduler$$failJobAndIndependentStages(DAGScheduler.scala:1435)\n\tat org.apache.spark.scheduler.DAGScheduler$$anonfun$abortStage$1.apply(DAGScheduler.scala:1423)\n\tat org.apache.spark.scheduler.DAGScheduler$$anonfun$abortStage$1.apply(DAGScheduler.scala:1422)\n\tat scala.collection.mutable.ResizableArray$class.foreach(ResizableArray.scala:59)\n\tat scala.collection.mutable.ArrayBuffer.foreach(ArrayBuffer.scala:48)\n\tat org.apache.spark.scheduler.DAGScheduler.abortStage(DAGScheduler.scala:1422)\n\tat org.apache.spark.scheduler.DAGScheduler$$anonfun$handleTaskSetFailed$1.apply(DAGScheduler.scala:802)\n\tat org.apache.spark.scheduler.DAGScheduler$$anonfun$handleTaskSetFailed$1.apply(DAGScheduler.scala:802)\n\tat scala.Option.foreach(Option.scala:257)\n\tat org.apache.spark.scheduler.DAGScheduler.handleTaskSetFailed(DAGScheduler.scala:802)\n\tat org.apache.spark.scheduler.DAGSchedulerEventProcessLoop.doOnReceive(DAGScheduler.scala:1650)\n\tat org.apache.spark.scheduler.DAGSchedulerEventProcessLoop.onReceive(DAGScheduler.scala:1605)\n\tat org.apache.spark.scheduler.DAGSchedulerEventProcessLoop.onReceive(DAGScheduler.scala:1594)\n\tat org.apache.spark.util.EventLoop$$anon$1.run(EventLoop.scala:48)\n\tat org.apache.spark.scheduler.DAGScheduler.runJob(DAGScheduler.scala:628)\n\tat org.apache.spark.SparkContext.runJob(SparkContext.scala:1918)\n\tat org.apache.spark.SparkContext.runJob(SparkContext.scala:1931)\n\tat org.apache.spark.SparkContext.runJob(SparkContext.scala:1944)\n\tat org.apache.spark.SparkContext.runJob(SparkContext.scala:1958)\n\tat org.apache.spark.rdd.RDD$$anonfun$collect$1.apply(RDD.scala:935)\n\tat org.apache.spark.rdd.RDDOperationScope$.withScope(RDDOperationScope.scala:151)\n\tat org.apache.spark.rdd.RDDOperationScope$.withScope(RDDOperationScope.scala:112)\n\tat org.apache.spark.rdd.RDD.withScope(RDD.scala:362)\n\tat org.apache.spark.rdd.RDD.collect(RDD.scala:934)\n\tat org.apache.spark.api.python.PythonRDD$.collectAndServe(PythonRDD.scala:453)\n\tat org.apache.spark.api.python.PythonRDD.collectAndServe(PythonRDD.scala)\n\tat sun.reflect.NativeMethodAccessorImpl.invoke0(Native Method)\n\tat sun.reflect.NativeMethodAccessorImpl.invoke(NativeMethodAccessorImpl.java:62)\n\tat sun.reflect.DelegatingMethodAccessorImpl.invoke(DelegatingMethodAccessorImpl.java:43)\n\tat java.lang.reflect.Method.invoke(Method.java:498)\n\tat py4j.reflection.MethodInvoker.invoke(MethodInvoker.java:244)\n\tat py4j.reflection.ReflectionEngine.invoke(ReflectionEngine.java:357)\n\tat py4j.Gateway.invoke(Gateway.java:280)\n\tat py4j.commands.AbstractCommand.invokeMethod(AbstractCommand.java:132)\n\tat py4j.commands.CallCommand.execute(CallCommand.java:79)\n\tat py4j.GatewayConnection.run(GatewayConnection.java:214)\n\tat java.lang.Thread.run(Thread.java:745)\n",
     "output_type": "error",
     "traceback": [
      "\u001b[0;31m---------------------------------------------------------------------------\u001b[0m",
      "\u001b[0;31mPy4JJavaError\u001b[0m                             Traceback (most recent call last)",
      "\u001b[0;32m<ipython-input-21-89aac2a58056>\u001b[0m in \u001b[0;36m<module>\u001b[0;34m()\u001b[0m\n\u001b[1;32m      1\u001b[0m \u001b[0;31m# carefully set number of threads to improve performance\u001b[0m\u001b[0;34m\u001b[0m\u001b[0;34m\u001b[0m\u001b[0m\n\u001b[0;32m----> 2\u001b[0;31m \u001b[0mU\u001b[0m\u001b[0;34m,\u001b[0m\u001b[0mV\u001b[0m \u001b[0;34m=\u001b[0m \u001b[0mCTM_train\u001b[0m\u001b[0;34m(\u001b[0m\u001b[0mRatings\u001b[0m\u001b[0;34m,\u001b[0m\u001b[0mItemTopics\u001b[0m\u001b[0;34m,\u001b[0m\u001b[0;36m1406889\u001b[0m\u001b[0;34m,\u001b[0m\u001b[0;36m430529\u001b[0m\u001b[0;34m,\u001b[0m\u001b[0;36m50\u001b[0m\u001b[0;34m,\u001b[0m\u001b[0mLAMBDA\u001b[0m\u001b[0;34m=\u001b[0m\u001b[0;36m0.02\u001b[0m\u001b[0;34m,\u001b[0m\u001b[0mmax_iter\u001b[0m\u001b[0;34m=\u001b[0m\u001b[0;36m10\u001b[0m\u001b[0;34m,\u001b[0m\u001b[0mU_threads\u001b[0m\u001b[0;34m=\u001b[0m\u001b[0;36m200\u001b[0m\u001b[0;34m,\u001b[0m\u001b[0mV_threads\u001b[0m\u001b[0;34m=\u001b[0m\u001b[0;36m200\u001b[0m\u001b[0;34m)\u001b[0m\u001b[0;34m\u001b[0m\u001b[0m\n\u001b[0m",
      "\u001b[0;32m<ipython-input-16-804eb679013b>\u001b[0m in \u001b[0;36mCTM_train\u001b[0;34m(R, Th, I, J, K, LAMBDA, max_iter, U_threads, V_threads)\u001b[0m\n\u001b[1;32m     44\u001b[0m \u001b[0;34m\u001b[0m\u001b[0m\n\u001b[1;32m     45\u001b[0m         \u001b[0mst\u001b[0m \u001b[0;34m=\u001b[0m \u001b[0mtime\u001b[0m\u001b[0;34m(\u001b[0m\u001b[0;34m)\u001b[0m\u001b[0;34m\u001b[0m\u001b[0m\n\u001b[0;32m---> 46\u001b[0;31m         \u001b[0mU\u001b[0m \u001b[0;34m=\u001b[0m \u001b[0mU_map\u001b[0m\u001b[0;34m.\u001b[0m\u001b[0mrdd\u001b[0m\u001b[0;34m.\u001b[0m\u001b[0mmap\u001b[0m\u001b[0;34m(\u001b[0m\u001b[0;32mlambda\u001b[0m \u001b[0mr\u001b[0m\u001b[0;34m:\u001b[0m \u001b[0mupdateU\u001b[0m\u001b[0;34m(\u001b[0m\u001b[0mr\u001b[0m\u001b[0;34m[\u001b[0m\u001b[0;36m0\u001b[0m\u001b[0;34m]\u001b[0m\u001b[0;34m,\u001b[0m\u001b[0mnp\u001b[0m\u001b[0;34m.\u001b[0m\u001b[0marray\u001b[0m\u001b[0;34m(\u001b[0m\u001b[0mr\u001b[0m\u001b[0;34m[\u001b[0m\u001b[0;36m1\u001b[0m\u001b[0;34m]\u001b[0m\u001b[0;34m)\u001b[0m\u001b[0;34m,\u001b[0m\u001b[0mnp\u001b[0m\u001b[0;34m.\u001b[0m\u001b[0marray\u001b[0m\u001b[0;34m(\u001b[0m\u001b[0mr\u001b[0m\u001b[0;34m[\u001b[0m\u001b[0;36m2\u001b[0m\u001b[0;34m]\u001b[0m\u001b[0;34m)\u001b[0m\u001b[0;34m,\u001b[0m\u001b[0mVs\u001b[0m\u001b[0;34m.\u001b[0m\u001b[0mvalue\u001b[0m\u001b[0;34m,\u001b[0m\u001b[0mLAMBDA\u001b[0m\u001b[0;34m)\u001b[0m\u001b[0;34m)\u001b[0m\u001b[0;34m.\u001b[0m\u001b[0mreduce\u001b[0m\u001b[0;34m(\u001b[0m\u001b[0;32mlambda\u001b[0m \u001b[0ma\u001b[0m\u001b[0;34m,\u001b[0m\u001b[0mb\u001b[0m\u001b[0;34m:\u001b[0m \u001b[0mnp\u001b[0m\u001b[0;34m.\u001b[0m\u001b[0mvstack\u001b[0m\u001b[0;34m(\u001b[0m\u001b[0;34m(\u001b[0m\u001b[0ma\u001b[0m\u001b[0;34m,\u001b[0m\u001b[0mb\u001b[0m\u001b[0;34m)\u001b[0m\u001b[0;34m)\u001b[0m\u001b[0;34m)\u001b[0m\u001b[0;34m\u001b[0m\u001b[0m\n\u001b[0m\u001b[1;32m     47\u001b[0m         \u001b[0mUs\u001b[0m \u001b[0;34m=\u001b[0m \u001b[0msc\u001b[0m\u001b[0;34m.\u001b[0m\u001b[0mbroadcast\u001b[0m\u001b[0;34m(\u001b[0m\u001b[0mU\u001b[0m\u001b[0;34m)\u001b[0m\u001b[0;34m\u001b[0m\u001b[0m\n\u001b[1;32m     48\u001b[0m \u001b[0;34m\u001b[0m\u001b[0m\n",
      "\u001b[0;32m/Users/Zoe/spark-2.1.0-bin-hadoop2.7/python/pyspark/rdd.pyc\u001b[0m in \u001b[0;36mreduce\u001b[0;34m(self, f)\u001b[0m\n\u001b[1;32m    833\u001b[0m             \u001b[0;32myield\u001b[0m \u001b[0mreduce\u001b[0m\u001b[0;34m(\u001b[0m\u001b[0mf\u001b[0m\u001b[0;34m,\u001b[0m \u001b[0miterator\u001b[0m\u001b[0;34m,\u001b[0m \u001b[0minitial\u001b[0m\u001b[0;34m)\u001b[0m\u001b[0;34m\u001b[0m\u001b[0m\n\u001b[1;32m    834\u001b[0m \u001b[0;34m\u001b[0m\u001b[0m\n\u001b[0;32m--> 835\u001b[0;31m         \u001b[0mvals\u001b[0m \u001b[0;34m=\u001b[0m \u001b[0mself\u001b[0m\u001b[0;34m.\u001b[0m\u001b[0mmapPartitions\u001b[0m\u001b[0;34m(\u001b[0m\u001b[0mfunc\u001b[0m\u001b[0;34m)\u001b[0m\u001b[0;34m.\u001b[0m\u001b[0mcollect\u001b[0m\u001b[0;34m(\u001b[0m\u001b[0;34m)\u001b[0m\u001b[0;34m\u001b[0m\u001b[0m\n\u001b[0m\u001b[1;32m    836\u001b[0m         \u001b[0;32mif\u001b[0m \u001b[0mvals\u001b[0m\u001b[0;34m:\u001b[0m\u001b[0;34m\u001b[0m\u001b[0m\n\u001b[1;32m    837\u001b[0m             \u001b[0;32mreturn\u001b[0m \u001b[0mreduce\u001b[0m\u001b[0;34m(\u001b[0m\u001b[0mf\u001b[0m\u001b[0;34m,\u001b[0m \u001b[0mvals\u001b[0m\u001b[0;34m)\u001b[0m\u001b[0;34m\u001b[0m\u001b[0m\n",
      "\u001b[0;32m/Users/Zoe/spark-2.1.0-bin-hadoop2.7/python/pyspark/rdd.pyc\u001b[0m in \u001b[0;36mcollect\u001b[0;34m(self)\u001b[0m\n\u001b[1;32m    807\u001b[0m         \"\"\"\n\u001b[1;32m    808\u001b[0m         \u001b[0;32mwith\u001b[0m \u001b[0mSCCallSiteSync\u001b[0m\u001b[0;34m(\u001b[0m\u001b[0mself\u001b[0m\u001b[0;34m.\u001b[0m\u001b[0mcontext\u001b[0m\u001b[0;34m)\u001b[0m \u001b[0;32mas\u001b[0m \u001b[0mcss\u001b[0m\u001b[0;34m:\u001b[0m\u001b[0;34m\u001b[0m\u001b[0m\n\u001b[0;32m--> 809\u001b[0;31m             \u001b[0mport\u001b[0m \u001b[0;34m=\u001b[0m \u001b[0mself\u001b[0m\u001b[0;34m.\u001b[0m\u001b[0mctx\u001b[0m\u001b[0;34m.\u001b[0m\u001b[0m_jvm\u001b[0m\u001b[0;34m.\u001b[0m\u001b[0mPythonRDD\u001b[0m\u001b[0;34m.\u001b[0m\u001b[0mcollectAndServe\u001b[0m\u001b[0;34m(\u001b[0m\u001b[0mself\u001b[0m\u001b[0;34m.\u001b[0m\u001b[0m_jrdd\u001b[0m\u001b[0;34m.\u001b[0m\u001b[0mrdd\u001b[0m\u001b[0;34m(\u001b[0m\u001b[0;34m)\u001b[0m\u001b[0;34m)\u001b[0m\u001b[0;34m\u001b[0m\u001b[0m\n\u001b[0m\u001b[1;32m    810\u001b[0m         \u001b[0;32mreturn\u001b[0m \u001b[0mlist\u001b[0m\u001b[0;34m(\u001b[0m\u001b[0m_load_from_socket\u001b[0m\u001b[0;34m(\u001b[0m\u001b[0mport\u001b[0m\u001b[0;34m,\u001b[0m \u001b[0mself\u001b[0m\u001b[0;34m.\u001b[0m\u001b[0m_jrdd_deserializer\u001b[0m\u001b[0;34m)\u001b[0m\u001b[0;34m)\u001b[0m\u001b[0;34m\u001b[0m\u001b[0m\n\u001b[1;32m    811\u001b[0m \u001b[0;34m\u001b[0m\u001b[0m\n",
      "\u001b[0;32m/Users/Zoe/spark-2.1.0-bin-hadoop2.7/python/lib/py4j-0.10.4-src.zip/py4j/java_gateway.py\u001b[0m in \u001b[0;36m__call__\u001b[0;34m(self, *args)\u001b[0m\n\u001b[1;32m   1131\u001b[0m         \u001b[0manswer\u001b[0m \u001b[0;34m=\u001b[0m \u001b[0mself\u001b[0m\u001b[0;34m.\u001b[0m\u001b[0mgateway_client\u001b[0m\u001b[0;34m.\u001b[0m\u001b[0msend_command\u001b[0m\u001b[0;34m(\u001b[0m\u001b[0mcommand\u001b[0m\u001b[0;34m)\u001b[0m\u001b[0;34m\u001b[0m\u001b[0m\n\u001b[1;32m   1132\u001b[0m         return_value = get_return_value(\n\u001b[0;32m-> 1133\u001b[0;31m             answer, self.gateway_client, self.target_id, self.name)\n\u001b[0m\u001b[1;32m   1134\u001b[0m \u001b[0;34m\u001b[0m\u001b[0m\n\u001b[1;32m   1135\u001b[0m         \u001b[0;32mfor\u001b[0m \u001b[0mtemp_arg\u001b[0m \u001b[0;32min\u001b[0m \u001b[0mtemp_args\u001b[0m\u001b[0;34m:\u001b[0m\u001b[0;34m\u001b[0m\u001b[0m\n",
      "\u001b[0;32m/Users/Zoe/spark-2.1.0-bin-hadoop2.7/python/pyspark/sql/utils.pyc\u001b[0m in \u001b[0;36mdeco\u001b[0;34m(*a, **kw)\u001b[0m\n\u001b[1;32m     61\u001b[0m     \u001b[0;32mdef\u001b[0m \u001b[0mdeco\u001b[0m\u001b[0;34m(\u001b[0m\u001b[0;34m*\u001b[0m\u001b[0ma\u001b[0m\u001b[0;34m,\u001b[0m \u001b[0;34m**\u001b[0m\u001b[0mkw\u001b[0m\u001b[0;34m)\u001b[0m\u001b[0;34m:\u001b[0m\u001b[0;34m\u001b[0m\u001b[0m\n\u001b[1;32m     62\u001b[0m         \u001b[0;32mtry\u001b[0m\u001b[0;34m:\u001b[0m\u001b[0;34m\u001b[0m\u001b[0m\n\u001b[0;32m---> 63\u001b[0;31m             \u001b[0;32mreturn\u001b[0m \u001b[0mf\u001b[0m\u001b[0;34m(\u001b[0m\u001b[0;34m*\u001b[0m\u001b[0ma\u001b[0m\u001b[0;34m,\u001b[0m \u001b[0;34m**\u001b[0m\u001b[0mkw\u001b[0m\u001b[0;34m)\u001b[0m\u001b[0;34m\u001b[0m\u001b[0m\n\u001b[0m\u001b[1;32m     64\u001b[0m         \u001b[0;32mexcept\u001b[0m \u001b[0mpy4j\u001b[0m\u001b[0;34m.\u001b[0m\u001b[0mprotocol\u001b[0m\u001b[0;34m.\u001b[0m\u001b[0mPy4JJavaError\u001b[0m \u001b[0;32mas\u001b[0m \u001b[0me\u001b[0m\u001b[0;34m:\u001b[0m\u001b[0;34m\u001b[0m\u001b[0m\n\u001b[1;32m     65\u001b[0m             \u001b[0ms\u001b[0m \u001b[0;34m=\u001b[0m \u001b[0me\u001b[0m\u001b[0;34m.\u001b[0m\u001b[0mjava_exception\u001b[0m\u001b[0;34m.\u001b[0m\u001b[0mtoString\u001b[0m\u001b[0;34m(\u001b[0m\u001b[0;34m)\u001b[0m\u001b[0;34m\u001b[0m\u001b[0m\n",
      "\u001b[0;32m/Users/Zoe/spark-2.1.0-bin-hadoop2.7/python/lib/py4j-0.10.4-src.zip/py4j/protocol.py\u001b[0m in \u001b[0;36mget_return_value\u001b[0;34m(answer, gateway_client, target_id, name)\u001b[0m\n\u001b[1;32m    317\u001b[0m                 raise Py4JJavaError(\n\u001b[1;32m    318\u001b[0m                     \u001b[0;34m\"An error occurred while calling {0}{1}{2}.\\n\"\u001b[0m\u001b[0;34m.\u001b[0m\u001b[0;34m\u001b[0m\u001b[0m\n\u001b[0;32m--> 319\u001b[0;31m                     format(target_id, \".\", name), value)\n\u001b[0m\u001b[1;32m    320\u001b[0m             \u001b[0;32melse\u001b[0m\u001b[0;34m:\u001b[0m\u001b[0;34m\u001b[0m\u001b[0m\n\u001b[1;32m    321\u001b[0m                 raise Py4JError(\n",
      "\u001b[0;31mPy4JJavaError\u001b[0m: An error occurred while calling z:org.apache.spark.api.python.PythonRDD.collectAndServe.\n: org.apache.spark.SparkException: Job aborted due to stage failure: Task 2 in stage 64.0 failed 1 times, most recent failure: Lost task 2.0 in stage 64.0 (TID 4507, localhost, executor driver): TaskResultLost (result lost from block manager)\nDriver stacktrace:\n\tat org.apache.spark.scheduler.DAGScheduler.org$apache$spark$scheduler$DAGScheduler$$failJobAndIndependentStages(DAGScheduler.scala:1435)\n\tat org.apache.spark.scheduler.DAGScheduler$$anonfun$abortStage$1.apply(DAGScheduler.scala:1423)\n\tat org.apache.spark.scheduler.DAGScheduler$$anonfun$abortStage$1.apply(DAGScheduler.scala:1422)\n\tat scala.collection.mutable.ResizableArray$class.foreach(ResizableArray.scala:59)\n\tat scala.collection.mutable.ArrayBuffer.foreach(ArrayBuffer.scala:48)\n\tat org.apache.spark.scheduler.DAGScheduler.abortStage(DAGScheduler.scala:1422)\n\tat org.apache.spark.scheduler.DAGScheduler$$anonfun$handleTaskSetFailed$1.apply(DAGScheduler.scala:802)\n\tat org.apache.spark.scheduler.DAGScheduler$$anonfun$handleTaskSetFailed$1.apply(DAGScheduler.scala:802)\n\tat scala.Option.foreach(Option.scala:257)\n\tat org.apache.spark.scheduler.DAGScheduler.handleTaskSetFailed(DAGScheduler.scala:802)\n\tat org.apache.spark.scheduler.DAGSchedulerEventProcessLoop.doOnReceive(DAGScheduler.scala:1650)\n\tat org.apache.spark.scheduler.DAGSchedulerEventProcessLoop.onReceive(DAGScheduler.scala:1605)\n\tat org.apache.spark.scheduler.DAGSchedulerEventProcessLoop.onReceive(DAGScheduler.scala:1594)\n\tat org.apache.spark.util.EventLoop$$anon$1.run(EventLoop.scala:48)\n\tat org.apache.spark.scheduler.DAGScheduler.runJob(DAGScheduler.scala:628)\n\tat org.apache.spark.SparkContext.runJob(SparkContext.scala:1918)\n\tat org.apache.spark.SparkContext.runJob(SparkContext.scala:1931)\n\tat org.apache.spark.SparkContext.runJob(SparkContext.scala:1944)\n\tat org.apache.spark.SparkContext.runJob(SparkContext.scala:1958)\n\tat org.apache.spark.rdd.RDD$$anonfun$collect$1.apply(RDD.scala:935)\n\tat org.apache.spark.rdd.RDDOperationScope$.withScope(RDDOperationScope.scala:151)\n\tat org.apache.spark.rdd.RDDOperationScope$.withScope(RDDOperationScope.scala:112)\n\tat org.apache.spark.rdd.RDD.withScope(RDD.scala:362)\n\tat org.apache.spark.rdd.RDD.collect(RDD.scala:934)\n\tat org.apache.spark.api.python.PythonRDD$.collectAndServe(PythonRDD.scala:453)\n\tat org.apache.spark.api.python.PythonRDD.collectAndServe(PythonRDD.scala)\n\tat sun.reflect.NativeMethodAccessorImpl.invoke0(Native Method)\n\tat sun.reflect.NativeMethodAccessorImpl.invoke(NativeMethodAccessorImpl.java:62)\n\tat sun.reflect.DelegatingMethodAccessorImpl.invoke(DelegatingMethodAccessorImpl.java:43)\n\tat java.lang.reflect.Method.invoke(Method.java:498)\n\tat py4j.reflection.MethodInvoker.invoke(MethodInvoker.java:244)\n\tat py4j.reflection.ReflectionEngine.invoke(ReflectionEngine.java:357)\n\tat py4j.Gateway.invoke(Gateway.java:280)\n\tat py4j.commands.AbstractCommand.invokeMethod(AbstractCommand.java:132)\n\tat py4j.commands.CallCommand.execute(CallCommand.java:79)\n\tat py4j.GatewayConnection.run(GatewayConnection.java:214)\n\tat java.lang.Thread.run(Thread.java:745)\n"
     ]
    }
   ],
   "source": [
    "# carefully set number of threads to improve performance\n",
    "U,V = CTM_train(Full,1406889,430529,50,LAMBDA=0.02,max_iter=10,n_partition=200)"
   ]
  },
  {
   "cell_type": "markdown",
   "metadata": {},
   "source": [
    "## Predict on test data"
   ]
  },
  {
   "cell_type": "code",
   "execution_count": null,
   "metadata": {
    "collapsed": true
   },
   "outputs": [],
   "source": [
    "def CTM_predict(test,U,V):\n",
    "    '''\n",
    "    '''\n",
    "    \n",
    "    preds = test.rdd.map(lambda r: ((r[0],r[1]),U[r[0],:].dot(V[r[1],:].T)[0,0]))\n",
    "    return preds"
   ]
  },
  {
   "cell_type": "code",
   "execution_count": null,
   "metadata": {
    "collapsed": true
   },
   "outputs": [],
   "source": [
    "preds = CTM_predict(Ratings,U,V)"
   ]
  },
  {
   "cell_type": "code",
   "execution_count": null,
   "metadata": {
    "collapsed": true
   },
   "outputs": [],
   "source": [
    "def evaluate(test,preds,N):\n",
    "    '''\n",
    "    '''\n",
    "    \n",
    "    se = test.rdd.map(lambda r: ((r[0],r[1]),r[2])).join(preds).map(lambda r: (r[1][0]-r[1][1])**2).reduce(lambda a,b: a+b)\n",
    "    return se/N"
   ]
  },
  {
   "cell_type": "code",
   "execution_count": null,
   "metadata": {
    "collapsed": true
   },
   "outputs": [],
   "source": [
    "N = Ratings.count()\n",
    "evaluate(test,preds,N)"
   ]
  },
  {
   "cell_type": "code",
   "execution_count": null,
   "metadata": {
    "collapsed": true
   },
   "outputs": [],
   "source": []
  },
  {
   "cell_type": "code",
   "execution_count": null,
   "metadata": {
    "collapsed": true
   },
   "outputs": [],
   "source": []
  }
 ],
 "metadata": {
  "kernelspec": {
   "display_name": "Python 2",
   "language": "python",
   "name": "python2"
  },
  "language_info": {
   "codemirror_mode": {
    "name": "ipython",
    "version": 2
   },
   "file_extension": ".py",
   "mimetype": "text/x-python",
   "name": "python",
   "nbconvert_exporter": "python",
   "pygments_lexer": "ipython2",
   "version": "2.7.11"
  }
 },
 "nbformat": 4,
 "nbformat_minor": 1
}
