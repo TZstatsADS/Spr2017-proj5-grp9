{
 "cells": [
  {
   "cell_type": "markdown",
   "metadata": {},
   "source": [
    "# Collaborative Filtering Classification Example."
   ]
  },
  {
   "cell_type": "code",
   "execution_count": 1,
   "metadata": {
    "collapsed": true
   },
   "outputs": [],
   "source": [
    "import findspark\n",
    "findspark.init('/Users/Zoe/spark-2.1.0-bin-hadoop2.7/')\n",
    "from pyspark.context import SparkContext\n",
    "from pyspark.sql.session import SparkSession\n",
    "sc = SparkContext('local')\n",
    "spark = SparkSession(sc)"
   ]
  },
  {
   "cell_type": "markdown",
   "metadata": {},
   "source": [
    "## ALS example"
   ]
  },
  {
   "cell_type": "code",
   "execution_count": 2,
   "metadata": {
    "collapsed": true
   },
   "outputs": [],
   "source": [
    "from __future__ import print_function\n",
    "from pyspark.sql import SparkSession\n",
    "\n",
    "from pyspark.ml.evaluation import RegressionEvaluator\n",
    "from pyspark.ml.recommendation import ALS\n",
    "from pyspark.sql import Row"
   ]
  },
  {
   "cell_type": "code",
   "execution_count": 79,
   "metadata": {
    "collapsed": true
   },
   "outputs": [],
   "source": [
    "spark = SparkSession\\\n",
    "        .builder\\\n",
    "        .appName(\"ALSExample\")\\\n",
    "        .getOrCreate()"
   ]
  },
  {
   "cell_type": "code",
   "execution_count": 80,
   "metadata": {
    "collapsed": true
   },
   "outputs": [],
   "source": [
    "lines = spark.read.text(\"/Users/Zoe/spark-2.1.0-bin-hadoop2.7/data/mllib/als/sample_movielens_ratings.txt\").rdd\n",
    "parts = lines.map(lambda row: row.value.split(\"::\"))\n",
    "ratingsRDD = parts.map(lambda p: Row(userId=int(p[0]), movieId=int(p[1]), rating=float(p[2]), timestamp=long(p[3])))\n",
    "ratings = spark.createDataFrame(ratingsRDD)\n",
    "(training, test) = ratings.randomSplit([0.8, 0.2])"
   ]
  },
  {
   "cell_type": "code",
   "execution_count": 86,
   "metadata": {
    "scrolled": false
   },
   "outputs": [
    {
     "data": {
      "text/plain": [
       "1189"
      ]
     },
     "execution_count": 86,
     "metadata": {},
     "output_type": "execute_result"
    }
   ],
   "source": [
    "training.count()"
   ]
  },
  {
   "cell_type": "code",
   "execution_count": 85,
   "metadata": {
    "collapsed": true
   },
   "outputs": [],
   "source": [
    "# Build the recommendation model using ALS on the training data\n",
    "als = ALS(maxIter=5, regParam=0.01, userCol=\"userId\", itemCol=\"movieId\", ratingCol=\"rating\")\n",
    "model = als.fit(training)"
   ]
  },
  {
   "cell_type": "code",
   "execution_count": 87,
   "metadata": {},
   "outputs": [
    {
     "name": "stdout",
     "output_type": "stream",
     "text": [
      "Root-mean-square error = 1.80291727044\n"
     ]
    }
   ],
   "source": [
    "# Evaluate the model by computing the RMSE on the test data\n",
    "predictions = model.transform(test)\n",
    "evaluator = RegressionEvaluator(metricName=\"rmse\", labelCol=\"rating\",predictionCol=\"prediction\")\n",
    "rmse = evaluator.evaluate(predictions)\n",
    "print(\"Root-mean-square error = \" + str(rmse))"
   ]
  },
  {
   "cell_type": "code",
   "execution_count": 88,
   "metadata": {
    "collapsed": true,
    "scrolled": true
   },
   "outputs": [],
   "source": [
    "spark.stop()"
   ]
  },
  {
   "cell_type": "code",
   "execution_count": 20,
   "metadata": {
    "collapsed": true
   },
   "outputs": [],
   "source": [
    "# Save and load model\n",
    "#model.save(sc, \"target/tmp/myCollaborativeFilter\")\n",
    "#sameModel = MatrixFactorizationModel.load(sc, \"target/tmp/myCollaborativeFilter\")"
   ]
  },
  {
   "cell_type": "markdown",
   "metadata": {},
   "source": [
    "## ML Recommendation System Example"
   ]
  },
  {
   "cell_type": "code",
   "execution_count": 5,
   "metadata": {
    "collapsed": true
   },
   "outputs": [],
   "source": [
    "from pyspark.ml.recommendation import ALS"
   ]
  },
  {
   "cell_type": "code",
   "execution_count": 6,
   "metadata": {},
   "outputs": [
    {
     "data": {
      "text/plain": [
       "10"
      ]
     },
     "execution_count": 6,
     "metadata": {},
     "output_type": "execute_result"
    }
   ],
   "source": [
    "df = spark.createDataFrame([(0, 0, 4.0), (0, 1, 2.0), (1, 1, 3.0), (1, 2, 4.0), (2, 1, 1.0), (2, 2, 5.0)],[\"user\", \"item\", \"rating\"])\n",
    "als = ALS(rank=10, maxIter=5, seed=0)\n",
    "model = als.fit(df)\n",
    "model.rank"
   ]
  },
  {
   "cell_type": "code",
   "execution_count": 11,
   "metadata": {},
   "outputs": [
    {
     "data": {
      "text/plain": [
       "[Row(user=0, item=0, rating=4.0),\n",
       " Row(user=0, item=1, rating=2.0),\n",
       " Row(user=1, item=1, rating=3.0),\n",
       " Row(user=1, item=2, rating=4.0),\n",
       " Row(user=2, item=1, rating=1.0),\n",
       " Row(user=2, item=2, rating=5.0)]"
      ]
     },
     "execution_count": 11,
     "metadata": {},
     "output_type": "execute_result"
    }
   ],
   "source": [
    "df.collect()"
   ]
  },
  {
   "cell_type": "code",
   "execution_count": 12,
   "metadata": {},
   "outputs": [
    {
     "data": {
      "text/plain": [
       "[Row(id=0, features=[0.43850013613700867, -0.325748473405838, 0.22142787277698517, 0.5432963371276855, 0.37189164757728577, 0.18800288438796997, 0.7535192966461182, -0.1935736984014511, 0.6309714913368225, -0.09739827364683151]),\n",
       " Row(id=1, features=[0.3618026077747345, -0.7803052663803101, 0.4669971466064453, -0.005516086705029011, 0.47553545236587524, -0.2531031668186188, 0.10632749646902084, -0.30544209480285645, 0.8610320687294006, 0.38398146629333496]),\n",
       " Row(id=2, features=[-0.10391315817832947, -0.5550527572631836, 0.30898740887641907, -0.640823483467102, 0.11988699436187744, -0.533919095993042, -0.7560914754867554, -0.13308270275592804, 0.2660013437271118, 0.569276750087738])]"
      ]
     },
     "execution_count": 12,
     "metadata": {},
     "output_type": "execute_result"
    }
   ],
   "source": [
    "model.userFactors.orderBy(\"id\").collect()"
   ]
  },
  {
   "cell_type": "code",
   "execution_count": 13,
   "metadata": {
    "collapsed": true
   },
   "outputs": [],
   "source": [
    "test = spark.createDataFrame([(0, 2), (1, 0), (2, 0)], [\"user\", \"item\"])"
   ]
  },
  {
   "cell_type": "code",
   "execution_count": 14,
   "metadata": {},
   "outputs": [
    {
     "data": {
      "text/plain": [
       "Row(user=0, item=2, prediction=-0.13807615637779236)"
      ]
     },
     "execution_count": 14,
     "metadata": {},
     "output_type": "execute_result"
    }
   ],
   "source": [
    "predictions = sorted(model.transform(test).collect(), key=lambda r: r[0])\n",
    "predictions[0]"
   ]
  },
  {
   "cell_type": "code",
   "execution_count": 15,
   "metadata": {},
   "outputs": [
    {
     "data": {
      "text/plain": [
       "Row(user=1, item=0, prediction=2.6258413791656494)"
      ]
     },
     "execution_count": 15,
     "metadata": {},
     "output_type": "execute_result"
    }
   ],
   "source": [
    "predictions[1]"
   ]
  },
  {
   "cell_type": "code",
   "execution_count": 16,
   "metadata": {},
   "outputs": [
    {
     "data": {
      "text/plain": [
       "Row(user=2, item=0, prediction=-1.5018409490585327)"
      ]
     },
     "execution_count": 16,
     "metadata": {},
     "output_type": "execute_result"
    }
   ],
   "source": [
    "predictions[2]"
   ]
  },
  {
   "cell_type": "code",
   "execution_count": 17,
   "metadata": {
    "collapsed": true
   },
   "outputs": [],
   "source": [
    "#als_path = temp_path + \"/als\"\n",
    "#als.save(als_path)\n",
    "#als2 = ALS.load(als_path)\n",
    "#als.getMaxIter()\n",
    "\n",
    "#model_path = temp_path + \"/als_model\"\n",
    "#model.save(model_path)\n",
    "#model2 = ALSModel.load(model_path)\n",
    "#model.rank == model2.rank\n",
    "#sorted(model.userFactors.collect()) == sorted(model2.userFactors.collect())\n",
    "#sorted(model.itemFactors.collect()) == sorted(model2.itemFactors.collect())"
   ]
  },
  {
   "cell_type": "markdown",
   "metadata": {},
   "source": [
    "## ALS Naive Implementation"
   ]
  },
  {
   "cell_type": "code",
   "execution_count": 3,
   "metadata": {
    "collapsed": true
   },
   "outputs": [],
   "source": [
    "from __future__ import print_function\n",
    "\n",
    "import sys\n",
    "\n",
    "import numpy as np\n",
    "from numpy.random import rand\n",
    "from numpy import matrix\n",
    "from pyspark.sql import SparkSession"
   ]
  },
  {
   "cell_type": "code",
   "execution_count": 4,
   "metadata": {
    "collapsed": true
   },
   "outputs": [],
   "source": [
    "LAMBDA = 0.01   # regularization\n",
    "np.random.seed(42)"
   ]
  },
  {
   "cell_type": "code",
   "execution_count": 5,
   "metadata": {
    "collapsed": true
   },
   "outputs": [],
   "source": [
    "def rmse(R, ms, us):\n",
    "    diff = R - ms * us.T\n",
    "    return np.sqrt(np.sum(np.power(diff, 2)) / (M * U))"
   ]
  },
  {
   "cell_type": "code",
   "execution_count": 6,
   "metadata": {
    "collapsed": true
   },
   "outputs": [],
   "source": [
    "def update(i, mat, ratings):\n",
    "    #uu = mat.shape[0]\n",
    "    ff = mat.shape[1]\n",
    "    nz = np.nonzero(ratings[i,:])[1]\n",
    "    m = mat[nz,:]\n",
    "\n",
    "    XtX = m.T * m\n",
    "    Xty = m.T * ratings[i, nz].T\n",
    "\n",
    "    #for j in range(ff):\n",
    "    #    XtX[j, j] += LAMBDA * m.shape[0]\n",
    "    XtX += LAMBDA*(m.shape[0])*np.eye(ff)\n",
    "    \n",
    "\n",
    "    return np.linalg.solve(XtX, Xty)"
   ]
  },
  {
   "cell_type": "code",
   "execution_count": 9,
   "metadata": {},
   "outputs": [
    {
     "name": "stdout",
     "output_type": "stream",
     "text": [
      "The slowest run took 128.10 times longer than the fastest. This could mean that an intermediate result is being cached.\n",
      "10000 loops, best of 3: 83.1 µs per loop\n"
     ]
    }
   ],
   "source": [
    "%timeit update(0,usb.value,Rb.value)"
   ]
  },
  {
   "cell_type": "code",
   "execution_count": 73,
   "metadata": {
    "collapsed": true
   },
   "outputs": [],
   "source": [
    "#spark = SparkSession.builder.appName(\"PythonALS\").getOrCreate()"
   ]
  },
  {
   "cell_type": "code",
   "execution_count": 7,
   "metadata": {
    "collapsed": true
   },
   "outputs": [],
   "source": [
    "M = 10\n",
    "U = 10\n",
    "F = 5\n",
    "ITERATIONS = 5\n",
    "partitions = 2"
   ]
  },
  {
   "cell_type": "code",
   "execution_count": 13,
   "metadata": {
    "collapsed": true
   },
   "outputs": [],
   "source": [
    "R = matrix(rand(M, F)) * matrix(rand(U, F).T)\n",
    "mask = np.random.randint(0,2,size=R.shape).astype(np.bool)\n",
    "R[mask] = 0\n",
    "#R = matrix([[4,2,0],[0,3,4],[0,1,5]])\n",
    "ms = matrix(rand(M, F))\n",
    "us = matrix(rand(U, F))\n",
    "th = matrix(rand(U, F))\n",
    "\n",
    "Rb = sc.broadcast(R)\n",
    "msb = sc.broadcast(ms)\n",
    "usb = sc.broadcast(us)\n",
    "thb = sc.broadcast(th)"
   ]
  },
  {
   "cell_type": "code",
   "execution_count": 10,
   "metadata": {
    "scrolled": true
   },
   "outputs": [
    {
     "name": "stdout",
     "output_type": "stream",
     "text": [
      "Iteration 0:\n",
      "\n",
      "RMSE: 3.2983\n",
      "\n",
      "Iteration 1:\n",
      "\n",
      "RMSE: 2.3184\n",
      "\n",
      "Iteration 2:\n",
      "\n",
      "RMSE: 2.1013\n",
      "\n",
      "Iteration 3:\n",
      "\n",
      "RMSE: 2.0110\n",
      "\n",
      "Iteration 4:\n",
      "\n",
      "RMSE: 1.9494\n",
      "\n"
     ]
    }
   ],
   "source": [
    "for i in range(ITERATIONS):\n",
    "    ms = sc.parallelize(range(M), partitions) \\\n",
    "            .map(lambda x: update(x, usb.value, Rb.value)) \\\n",
    "            .collect()\n",
    "    # collect() returns a list, so array ends up being\n",
    "    # a 3-d array, we take the first 2 dims for the matrix\n",
    "    ms = matrix(np.array(ms)[:, :, 0])\n",
    "    msb = sc.broadcast(ms)\n",
    "\n",
    "    us = sc.parallelize(range(U), partitions) \\\n",
    "            .map(lambda x: update(x, msb.value, Rb.value.T, False)) \\\n",
    "            .collect()\n",
    "    us = matrix(np.array(us)[:, :, 0])\n",
    "    usb = sc.broadcast(us)\n",
    "    \n",
    "    nz = np.nonzero(R)\n",
    "    error = rmse(R[nz], ms[nz[0],:], us[nz[1],:])\n",
    "    print(\"Iteration %d:\" % i)\n",
    "    print(\"\\nRMSE: %5.4f\\n\" % error)"
   ]
  },
  {
   "cell_type": "code",
   "execution_count": 11,
   "metadata": {},
   "outputs": [
    {
     "data": {
      "text/plain": [
       "matrix([[ 2.40935805,  0.61602627,  1.24770649,  1.12782777,  1.42015165,\n",
       "          1.26728724,  1.08850637,  1.86017989,  1.71087455,  1.01136333],\n",
       "        [ 1.95560764,  0.59406384,  1.18235118,  1.47216144,  1.12387277,\n",
       "          0.53575459,  0.57923864,  1.49748901,  0.88769525,  0.56074872],\n",
       "        [ 1.83243503,  0.36748001,  0.87271494,  0.52867683,  1.05352335,\n",
       "          1.18983318,  0.9345224 ,  1.41769445,  1.5427175 ,  0.88040946],\n",
       "        [ 1.26842432,  0.45932612,  0.55839607,  0.51891521,  0.75017009,\n",
       "          0.80583287,  0.7134516 ,  0.8977061 ,  1.06648775,  0.64703118],\n",
       "        [ 1.32007282,  0.79086562,  0.5622812 ,  1.03258311,  1.10214332,\n",
       "          0.74194069,  0.85584952,  1.01077746,  0.93868099,  0.53669571],\n",
       "        [ 1.48133598,  0.84763592,  0.57905369,  0.94332785,  1.16607932,\n",
       "          0.9681665 ,  1.02214744,  1.09005295,  1.21684527,  0.70784743],\n",
       "        [ 2.21122237,  0.9159136 ,  0.95736762,  1.43312356,  1.9416243 ,\n",
       "          1.21044474,  1.24238838,  1.91899608,  1.51726655,  0.5818597 ],\n",
       "        [ 1.63002195,  0.97663819,  0.68064358,  1.35191216,  1.54808631,\n",
       "          0.92622503,  1.09282503,  1.3651924 ,  1.12080337,  0.54324638],\n",
       "        [ 1.59732203,  0.12336722,  0.87700148,  0.52106428,  0.88623663,\n",
       "          0.82990046,  0.59102172,  1.32616988,  1.121125  ,  0.58138631],\n",
       "        [ 1.93728406,  0.78718061,  1.02482669,  1.33101307,  1.09710094,\n",
       "          0.74335231,  0.78339306,  1.35016883,  1.13718507,  0.74374918]])"
      ]
     },
     "execution_count": 11,
     "metadata": {},
     "output_type": "execute_result"
    }
   ],
   "source": [
    "ms.dot(us.T) # not what I want, I don't want it loop over zero-elements in R"
   ]
  },
  {
   "cell_type": "code",
   "execution_count": 12,
   "metadata": {},
   "outputs": [
    {
     "data": {
      "text/plain": [
       "matrix([[ 2.41676527,  0.        ,  1.26758591,  1.1230466 ,  0.        ,\n",
       "          1.2931767 ,  0.        ,  0.        ,  0.        ,  1.02692373],\n",
       "        [ 1.97129471,  0.57624726,  1.20759692,  1.53128798,  1.12748361,\n",
       "          0.52017784,  0.        ,  1.51302139,  0.        ,  0.56939223],\n",
       "        [ 1.85256634,  0.33670726,  0.        ,  0.        ,  0.        ,\n",
       "          0.        ,  0.96780344,  0.        ,  1.58691703,  0.89808646],\n",
       "        [ 0.        ,  0.        ,  0.        ,  0.        ,  0.        ,\n",
       "          0.        ,  0.        ,  0.        ,  1.10512916,  0.        ],\n",
       "        [ 0.        ,  0.79859388,  0.        ,  1.06346781,  1.12296344,\n",
       "          0.        ,  0.87682374,  1.02740289,  0.95217217,  0.55847075],\n",
       "        [ 0.        ,  0.88418929,  0.        ,  0.9567743 ,  1.16479105,\n",
       "          0.98222017,  1.02440167,  0.        ,  0.        ,  0.73201905],\n",
       "        [ 2.208801  ,  0.        ,  0.94611857,  1.42963705,  1.95976202,\n",
       "          0.        ,  0.        ,  0.        ,  1.52083301,  0.54525701],\n",
       "        [ 0.        ,  0.        ,  0.        ,  0.        ,  1.55444218,\n",
       "          0.        ,  1.10028359,  0.        ,  1.11163886,  0.        ],\n",
       "        [ 0.        ,  0.        ,  0.        ,  0.48677547,  0.        ,\n",
       "          0.82937309,  0.56362446,  1.35185401,  1.10383137,  0.        ],\n",
       "        [ 1.97232805,  0.82513572,  1.02006245,  0.        ,  0.        ,\n",
       "          0.        ,  0.        ,  1.34678014,  1.14659286,  0.        ]])"
      ]
     },
     "execution_count": 12,
     "metadata": {},
     "output_type": "execute_result"
    }
   ],
   "source": [
    "R"
   ]
  },
  {
   "cell_type": "code",
   "execution_count": 26,
   "metadata": {
    "collapsed": true
   },
   "outputs": [],
   "source": [
    "#spark.stop()"
   ]
  },
  {
   "cell_type": "code",
   "execution_count": null,
   "metadata": {
    "collapsed": true
   },
   "outputs": [],
   "source": []
  }
 ],
 "metadata": {
  "kernelspec": {
   "display_name": "Python 2",
   "language": "python",
   "name": "python2"
  },
  "language_info": {
   "codemirror_mode": {
    "name": "ipython",
    "version": 2
   },
   "file_extension": ".py",
   "mimetype": "text/x-python",
   "name": "python",
   "nbconvert_exporter": "python",
   "pygments_lexer": "ipython2",
   "version": "2.7.13"
  }
 },
 "nbformat": 4,
 "nbformat_minor": 2
}
