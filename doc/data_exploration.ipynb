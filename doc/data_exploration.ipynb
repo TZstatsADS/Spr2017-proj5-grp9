{
 "cells": [
  {
   "cell_type": "markdown",
   "metadata": {
    "collapsed": true
   },
   "source": [
    "# Read reviews and metadata"
   ]
  },
  {
   "cell_type": "code",
   "execution_count": 1,
   "metadata": {
    "collapsed": true
   },
   "outputs": [],
   "source": [
    "import graphlab as gl"
   ]
  },
  {
   "cell_type": "code",
   "execution_count": 2,
   "metadata": {
    "scrolled": true
   },
   "outputs": [
    {
     "name": "stdout",
     "output_type": "stream",
     "text": [
      "This non-commercial license of GraphLab Create for academic use is assigned to zm2245@columbia.edu and will expire on April 20, 2018.\n"
     ]
    },
    {
     "name": "stderr",
     "output_type": "stream",
     "text": [
      "[INFO] graphlab.cython.cy_server: GraphLab Create v2.1 started. Logging: /tmp/graphlab_server_1492786152.log\n"
     ]
    },
    {
     "data": {
      "text/html": [
       "<pre>Finished parsing file /Users/Zoe/Documents/Spring2017/GR5243/MyPrjs/localData/prj5/meta_Kindle_Store.json</pre>"
      ],
      "text/plain": [
       "Finished parsing file /Users/Zoe/Documents/Spring2017/GR5243/MyPrjs/localData/prj5/meta_Kindle_Store.json"
      ]
     },
     "metadata": {},
     "output_type": "display_data"
    },
    {
     "data": {
      "text/html": [
       "<pre>Parsing completed. Parsed 100 lines in 1.50374 secs.</pre>"
      ],
      "text/plain": [
       "Parsing completed. Parsed 100 lines in 1.50374 secs."
      ]
     },
     "metadata": {},
     "output_type": "display_data"
    },
    {
     "name": "stdout",
     "output_type": "stream",
     "text": [
      "------------------------------------------------------\n",
      "Inferred types from first 100 line(s) of file as \n",
      "column_type_hints=[dict]\n",
      "If parsing fails due to incorrect types, you can correct\n",
      "the inferred type list above and pass it to read_csv in\n",
      "the column_type_hints argument\n",
      "------------------------------------------------------\n"
     ]
    },
    {
     "data": {
      "text/html": [
       "<pre>Read 34790 lines. Lines per second: 11777.2</pre>"
      ],
      "text/plain": [
       "Read 34790 lines. Lines per second: 11777.2"
      ]
     },
     "metadata": {},
     "output_type": "display_data"
    },
    {
     "data": {
      "text/html": [
       "<pre>Read 158032 lines. Lines per second: 16113.3</pre>"
      ],
      "text/plain": [
       "Read 158032 lines. Lines per second: 16113.3"
      ]
     },
     "metadata": {},
     "output_type": "display_data"
    },
    {
     "data": {
      "text/html": [
       "<pre>Read 276927 lines. Lines per second: 17328</pre>"
      ],
      "text/plain": [
       "Read 276927 lines. Lines per second: 17328"
      ]
     },
     "metadata": {},
     "output_type": "display_data"
    },
    {
     "data": {
      "text/html": [
       "<pre>Read 352318 lines. Lines per second: 16331.2</pre>"
      ],
      "text/plain": [
       "Read 352318 lines. Lines per second: 16331.2"
      ]
     },
     "metadata": {},
     "output_type": "display_data"
    },
    {
     "data": {
      "text/html": [
       "<pre>Finished parsing file /Users/Zoe/Documents/Spring2017/GR5243/MyPrjs/localData/prj5/meta_Kindle_Store.json</pre>"
      ],
      "text/plain": [
       "Finished parsing file /Users/Zoe/Documents/Spring2017/GR5243/MyPrjs/localData/prj5/meta_Kindle_Store.json"
      ]
     },
     "metadata": {},
     "output_type": "display_data"
    },
    {
     "data": {
      "text/html": [
       "<pre>Parsing completed. Parsed 434702 lines in 24.893 secs.</pre>"
      ],
      "text/plain": [
       "Parsing completed. Parsed 434702 lines in 24.893 secs."
      ]
     },
     "metadata": {},
     "output_type": "display_data"
    }
   ],
   "source": [
    "meta = gl.SFrame.read_json('../../localData/prj5/meta_Kindle_Store.json', orient='lines')"
   ]
  },
  {
   "cell_type": "code",
   "execution_count": 3,
   "metadata": {
    "scrolled": true
   },
   "outputs": [
    {
     "data": {
      "text/html": [
       "<div style=\"max-height:1000px;max-width:1500px;overflow:auto;\"><table frame=\"box\" rules=\"cols\">\n",
       "    <tr>\n",
       "        <th style=\"padding-left: 1em; padding-right: 1em; text-align: center\">asin</th>\n",
       "        <th style=\"padding-left: 1em; padding-right: 1em; text-align: center\">brand</th>\n",
       "        <th style=\"padding-left: 1em; padding-right: 1em; text-align: center\">categories</th>\n",
       "        <th style=\"padding-left: 1em; padding-right: 1em; text-align: center\">description</th>\n",
       "        <th style=\"padding-left: 1em; padding-right: 1em; text-align: center\">imUrl</th>\n",
       "        <th style=\"padding-left: 1em; padding-right: 1em; text-align: center\">price</th>\n",
       "    </tr>\n",
       "    <tr>\n",
       "        <td style=\"padding-left: 1em; padding-right: 1em; text-align: center; vertical-align: top\">1603420304</td>\n",
       "        <td style=\"padding-left: 1em; padding-right: 1em; text-align: center; vertical-align: top\">None</td>\n",
       "        <td style=\"padding-left: 1em; padding-right: 1em; text-align: center; vertical-align: top\">[[Books, Cookbooks, Food<br>&amp; Wine, Quick &amp; Easy], ...</td>\n",
       "        <td style=\"padding-left: 1em; padding-right: 1em; text-align: center; vertical-align: top\">In less time and for less<br>money than it takes to ...</td>\n",
       "        <td style=\"padding-left: 1em; padding-right: 1em; text-align: center; vertical-align: top\">http://ecx.images-amazon.<br>com/images/I/51IEqPrF ...</td>\n",
       "        <td style=\"padding-left: 1em; padding-right: 1em; text-align: center; vertical-align: top\">7.69</td>\n",
       "    </tr>\n",
       "    <tr>\n",
       "        <td style=\"padding-left: 1em; padding-right: 1em; text-align: center; vertical-align: top\">B0002IQ15S</td>\n",
       "        <td style=\"padding-left: 1em; padding-right: 1em; text-align: center; vertical-align: top\">None</td>\n",
       "        <td style=\"padding-left: 1em; padding-right: 1em; text-align: center; vertical-align: top\">[[Kindle Store, Kindle<br>Accessories, Power ...</td>\n",
       "        <td style=\"padding-left: 1em; padding-right: 1em; text-align: center; vertical-align: top\">This universal DC adapter<br>powers/charges portable ...</td>\n",
       "        <td style=\"padding-left: 1em; padding-right: 1em; text-align: center; vertical-align: top\">http://ecx.images-amazon.<br>com/images/I/21QFJM28 ...</td>\n",
       "        <td style=\"padding-left: 1em; padding-right: 1em; text-align: center; vertical-align: top\">19.99</td>\n",
       "    </tr>\n",
       "    <tr>\n",
       "        <td style=\"padding-left: 1em; padding-right: 1em; text-align: center; vertical-align: top\">B000F83SZQ</td>\n",
       "        <td style=\"padding-left: 1em; padding-right: 1em; text-align: center; vertical-align: top\">None</td>\n",
       "        <td style=\"padding-left: 1em; padding-right: 1em; text-align: center; vertical-align: top\">[[Books, Literature &amp;<br>Fiction], [Books, ...</td>\n",
       "        <td style=\"padding-left: 1em; padding-right: 1em; text-align: center; vertical-align: top\">None</td>\n",
       "        <td style=\"padding-left: 1em; padding-right: 1em; text-align: center; vertical-align: top\">http://ecx.images-amazon.<br>com/images/I/51yLqHe% ...</td>\n",
       "        <td style=\"padding-left: 1em; padding-right: 1em; text-align: center; vertical-align: top\">0.0</td>\n",
       "    </tr>\n",
       "    <tr>\n",
       "        <td style=\"padding-left: 1em; padding-right: 1em; text-align: center; vertical-align: top\">B000F83TEQ</td>\n",
       "        <td style=\"padding-left: 1em; padding-right: 1em; text-align: center; vertical-align: top\">None</td>\n",
       "        <td style=\"padding-left: 1em; padding-right: 1em; text-align: center; vertical-align: top\">[[Books, Literature &amp;<br>Fiction], [Books, ...</td>\n",
       "        <td style=\"padding-left: 1em; padding-right: 1em; text-align: center; vertical-align: top\">None</td>\n",
       "        <td style=\"padding-left: 1em; padding-right: 1em; text-align: center; vertical-align: top\">http://ecx.images-amazon.<br>com/images/I/2136NBNV ...</td>\n",
       "        <td style=\"padding-left: 1em; padding-right: 1em; text-align: center; vertical-align: top\">None</td>\n",
       "    </tr>\n",
       "    <tr>\n",
       "        <td style=\"padding-left: 1em; padding-right: 1em; text-align: center; vertical-align: top\">B000F83STC</td>\n",
       "        <td style=\"padding-left: 1em; padding-right: 1em; text-align: center; vertical-align: top\">None</td>\n",
       "        <td style=\"padding-left: 1em; padding-right: 1em; text-align: center; vertical-align: top\">[[Books, Literature &amp;<br>Fiction, Erotica], ...</td>\n",
       "        <td style=\"padding-left: 1em; padding-right: 1em; text-align: center; vertical-align: top\">None</td>\n",
       "        <td style=\"padding-left: 1em; padding-right: 1em; text-align: center; vertical-align: top\">http://g-ecx.images-amazo<br>n.com/images/G/01/x-s ...</td>\n",
       "        <td style=\"padding-left: 1em; padding-right: 1em; text-align: center; vertical-align: top\">None</td>\n",
       "    </tr>\n",
       "</table>\n",
       "<table frame=\"box\" rules=\"cols\">\n",
       "    <tr>\n",
       "        <th style=\"padding-left: 1em; padding-right: 1em; text-align: center\">related</th>\n",
       "        <th style=\"padding-left: 1em; padding-right: 1em; text-align: center\">salesRank</th>\n",
       "        <th style=\"padding-left: 1em; padding-right: 1em; text-align: center\">title</th>\n",
       "    </tr>\n",
       "    <tr>\n",
       "        <td style=\"padding-left: 1em; padding-right: 1em; text-align: center; vertical-align: top\">{'also_viewed':<br>['B001OLRKLQ', ...</td>\n",
       "        <td style=\"padding-left: 1em; padding-right: 1em; text-align: center; vertical-align: top\">None</td>\n",
       "        <td style=\"padding-left: 1em; padding-right: 1em; text-align: center; vertical-align: top\">None</td>\n",
       "    </tr>\n",
       "    <tr>\n",
       "        <td style=\"padding-left: 1em; padding-right: 1em; text-align: center; vertical-align: top\">{'also_viewed':<br>['B00511PS3C', ...</td>\n",
       "        <td style=\"padding-left: 1em; padding-right: 1em; text-align: center; vertical-align: top\">{}</td>\n",
       "        <td style=\"padding-left: 1em; padding-right: 1em; text-align: center; vertical-align: top\">Mobility IGO AUTOPOWER<br>3000 SERIES ( PS0221- ...</td>\n",
       "    </tr>\n",
       "    <tr>\n",
       "        <td style=\"padding-left: 1em; padding-right: 1em; text-align: center; vertical-align: top\">{'also_bought':<br>['B0080H1C0W', ...</td>\n",
       "        <td style=\"padding-left: 1em; padding-right: 1em; text-align: center; vertical-align: top\">None</td>\n",
       "        <td style=\"padding-left: 1em; padding-right: 1em; text-align: center; vertical-align: top\">None</td>\n",
       "    </tr>\n",
       "    <tr>\n",
       "        <td style=\"padding-left: 1em; padding-right: 1em; text-align: center; vertical-align: top\">{'also_bought':<br>['B00IS81LFO', ...</td>\n",
       "        <td style=\"padding-left: 1em; padding-right: 1em; text-align: center; vertical-align: top\">None</td>\n",
       "        <td style=\"padding-left: 1em; padding-right: 1em; text-align: center; vertical-align: top\">None</td>\n",
       "    </tr>\n",
       "    <tr>\n",
       "        <td style=\"padding-left: 1em; padding-right: 1em; text-align: center; vertical-align: top\">None</td>\n",
       "        <td style=\"padding-left: 1em; padding-right: 1em; text-align: center; vertical-align: top\">None</td>\n",
       "        <td style=\"padding-left: 1em; padding-right: 1em; text-align: center; vertical-align: top\">None</td>\n",
       "    </tr>\n",
       "</table>\n",
       "[5 rows x 9 columns]<br/>\n",
       "</div>"
      ],
      "text/plain": [
       "Columns:\n",
       "\tasin\tstr\n",
       "\tbrand\tstr\n",
       "\tcategories\tlist\n",
       "\tdescription\tstr\n",
       "\timUrl\tstr\n",
       "\tprice\tfloat\n",
       "\trelated\tdict\n",
       "\tsalesRank\tdict\n",
       "\ttitle\tstr\n",
       "\n",
       "Rows: 5\n",
       "\n",
       "Data:\n",
       "+------------+-------+-------------------------------+\n",
       "|    asin    | brand |           categories          |\n",
       "+------------+-------+-------------------------------+\n",
       "| 1603420304 |  None | [[Books, Cookbooks, Food &... |\n",
       "| B0002IQ15S |  None | [[Kindle Store, Kindle Acc... |\n",
       "| B000F83SZQ |  None | [[Books, Literature & Fict... |\n",
       "| B000F83TEQ |  None | [[Books, Literature & Fict... |\n",
       "| B000F83STC |  None | [[Books, Literature & Fict... |\n",
       "+------------+-------+-------------------------------+\n",
       "+-------------------------------+-------------------------------+-------+\n",
       "|          description          |             imUrl             | price |\n",
       "+-------------------------------+-------------------------------+-------+\n",
       "| In less time and for less ... | http://ecx.images-amazon.c... |  7.69 |\n",
       "| This universal DC adapter ... | http://ecx.images-amazon.c... | 19.99 |\n",
       "|              None             | http://ecx.images-amazon.c... |  0.0  |\n",
       "|              None             | http://ecx.images-amazon.c... |  None |\n",
       "|              None             | http://g-ecx.images-amazon... |  None |\n",
       "+-------------------------------+-------------------------------+-------+\n",
       "+-------------------------------+-----------+-------------------------------+\n",
       "|            related            | salesRank |             title             |\n",
       "+-------------------------------+-----------+-------------------------------+\n",
       "| {'also_viewed': ['B001OLRK... |    None   |              None             |\n",
       "| {'also_viewed': ['B00511PS... |     {}    | Mobility IGO AUTOPOWER 300... |\n",
       "| {'also_bought': ['B0080H1C... |    None   |              None             |\n",
       "| {'also_bought': ['B00IS81L... |    None   |              None             |\n",
       "|              None             |    None   |              None             |\n",
       "+-------------------------------+-----------+-------------------------------+\n",
       "[5 rows x 9 columns]"
      ]
     },
     "execution_count": 3,
     "metadata": {},
     "output_type": "execute_result"
    }
   ],
   "source": [
    "meta.head(5)"
   ]
  },
  {
   "cell_type": "code",
   "execution_count": 4,
   "metadata": {},
   "outputs": [
    {
     "name": "stdout",
     "output_type": "stream",
     "text": [
      "Canvas is accessible via web browser at the URL: http://localhost:49324/index.html\n",
      "Opening Canvas in default web browser.\n"
     ]
    }
   ],
   "source": [
    "meta.show()"
   ]
  },
  {
   "cell_type": "code",
   "execution_count": null,
   "metadata": {
    "collapsed": true
   },
   "outputs": [],
   "source": []
  },
  {
   "cell_type": "code",
   "execution_count": 5,
   "metadata": {
    "scrolled": true
   },
   "outputs": [
    {
     "data": {
      "text/html": [
       "<pre>Finished parsing file /Users/Zoe/Documents/Spring2017/GR5243/MyPrjs/localData/prj5/reviews_Kindle_Store.json</pre>"
      ],
      "text/plain": [
       "Finished parsing file /Users/Zoe/Documents/Spring2017/GR5243/MyPrjs/localData/prj5/reviews_Kindle_Store.json"
      ]
     },
     "metadata": {},
     "output_type": "display_data"
    },
    {
     "data": {
      "text/html": [
       "<pre>Parsing completed. Parsed 100 lines in 1.19503 secs.</pre>"
      ],
      "text/plain": [
       "Parsing completed. Parsed 100 lines in 1.19503 secs."
      ]
     },
     "metadata": {},
     "output_type": "display_data"
    },
    {
     "name": "stdout",
     "output_type": "stream",
     "text": [
      "------------------------------------------------------\n",
      "Inferred types from first 100 line(s) of file as \n",
      "column_type_hints=[dict]\n",
      "If parsing fails due to incorrect types, you can correct\n",
      "the inferred type list above and pass it to read_csv in\n",
      "the column_type_hints argument\n",
      "------------------------------------------------------\n"
     ]
    },
    {
     "data": {
      "text/html": [
       "<pre>Read 73750 lines. Lines per second: 35208.3</pre>"
      ],
      "text/plain": [
       "Read 73750 lines. Lines per second: 35208.3"
      ]
     },
     "metadata": {},
     "output_type": "display_data"
    },
    {
     "data": {
      "text/html": [
       "<pre>Read 370288 lines. Lines per second: 48663.5</pre>"
      ],
      "text/plain": [
       "Read 370288 lines. Lines per second: 48663.5"
      ]
     },
     "metadata": {},
     "output_type": "display_data"
    },
    {
     "data": {
      "text/html": [
       "<pre>Read 682265 lines. Lines per second: 52256.2</pre>"
      ],
      "text/plain": [
       "Read 682265 lines. Lines per second: 52256.2"
      ]
     },
     "metadata": {},
     "output_type": "display_data"
    },
    {
     "data": {
      "text/html": [
       "<pre>Read 990624 lines. Lines per second: 53521.4</pre>"
      ],
      "text/plain": [
       "Read 990624 lines. Lines per second: 53521.4"
      ]
     },
     "metadata": {},
     "output_type": "display_data"
    },
    {
     "data": {
      "text/html": [
       "<pre>Read 1311842 lines. Lines per second: 54331.9</pre>"
      ],
      "text/plain": [
       "Read 1311842 lines. Lines per second: 54331.9"
      ]
     },
     "metadata": {},
     "output_type": "display_data"
    },
    {
     "data": {
      "text/html": [
       "<pre>Read 1635900 lines. Lines per second: 55364.3</pre>"
      ],
      "text/plain": [
       "Read 1635900 lines. Lines per second: 55364.3"
      ]
     },
     "metadata": {},
     "output_type": "display_data"
    },
    {
     "data": {
      "text/html": [
       "<pre>Read 1878365 lines. Lines per second: 54429.9</pre>"
      ],
      "text/plain": [
       "Read 1878365 lines. Lines per second: 54429.9"
      ]
     },
     "metadata": {},
     "output_type": "display_data"
    },
    {
     "data": {
      "text/html": [
       "<pre>Read 2107453 lines. Lines per second: 44518.8</pre>"
      ],
      "text/plain": [
       "Read 2107453 lines. Lines per second: 44518.8"
      ]
     },
     "metadata": {},
     "output_type": "display_data"
    },
    {
     "data": {
      "text/html": [
       "<pre>Read 2406522 lines. Lines per second: 45704.4</pre>"
      ],
      "text/plain": [
       "Read 2406522 lines. Lines per second: 45704.4"
      ]
     },
     "metadata": {},
     "output_type": "display_data"
    },
    {
     "data": {
      "text/html": [
       "<pre>Read 2696371 lines. Lines per second: 46789.5</pre>"
      ],
      "text/plain": [
       "Read 2696371 lines. Lines per second: 46789.5"
      ]
     },
     "metadata": {},
     "output_type": "display_data"
    },
    {
     "data": {
      "text/html": [
       "<pre>Read 2980748 lines. Lines per second: 47560.3</pre>"
      ],
      "text/plain": [
       "Read 2980748 lines. Lines per second: 47560.3"
      ]
     },
     "metadata": {},
     "output_type": "display_data"
    },
    {
     "data": {
      "text/html": [
       "<pre>Finished parsing file /Users/Zoe/Documents/Spring2017/GR5243/MyPrjs/localData/prj5/reviews_Kindle_Store.json</pre>"
      ],
      "text/plain": [
       "Finished parsing file /Users/Zoe/Documents/Spring2017/GR5243/MyPrjs/localData/prj5/reviews_Kindle_Store.json"
      ]
     },
     "metadata": {},
     "output_type": "display_data"
    },
    {
     "data": {
      "text/html": [
       "<pre>Parsing completed. Parsed 3205467 lines in 66.6886 secs.</pre>"
      ],
      "text/plain": [
       "Parsing completed. Parsed 3205467 lines in 66.6886 secs."
      ]
     },
     "metadata": {},
     "output_type": "display_data"
    }
   ],
   "source": [
    "reviews = gl.SFrame.read_json('../../localData/prj5/reviews_Kindle_Store.json', orient='lines')"
   ]
  },
  {
   "cell_type": "code",
   "execution_count": 8,
   "metadata": {
    "scrolled": true
   },
   "outputs": [
    {
     "data": {
      "text/plain": [
       "dtype: str\n",
       "Rows: 5\n",
       "['07 13, 2014', '08 19, 2010', '04 6, 2013', '09 28, 2010', '07 16, 2012']"
      ]
     },
     "execution_count": 8,
     "metadata": {},
     "output_type": "execute_result"
    }
   ],
   "source": [
    "reviews.head(5)['reviewTime']"
   ]
  },
  {
   "cell_type": "code",
   "execution_count": 7,
   "metadata": {},
   "outputs": [
    {
     "name": "stdout",
     "output_type": "stream",
     "text": [
      "Canvas is accessible via web browser at the URL: http://localhost:49324/index.html\n",
      "Canvas is updated and available in a tab in the default browser.\n"
     ]
    }
   ],
   "source": [
    "reviews.show()"
   ]
  },
  {
   "cell_type": "code",
   "execution_count": null,
   "metadata": {
    "collapsed": true
   },
   "outputs": [],
   "source": [
    "reviews['date'] = reviews['reviewTime'].apply(lambda x: dt.datetime.strptime(x, '%Y\n",
    "-%d-%m'))"
   ]
  },
  {
   "cell_type": "markdown",
   "metadata": {
    "collapsed": true
   },
   "source": [
    "# Join meta and reviews"
   ]
  },
  {
   "cell_type": "code",
   "execution_count": null,
   "metadata": {
    "collapsed": true
   },
   "outputs": [],
   "source": []
  },
  {
   "cell_type": "code",
   "execution_count": null,
   "metadata": {
    "collapsed": true
   },
   "outputs": [],
   "source": []
  },
  {
   "cell_type": "code",
   "execution_count": null,
   "metadata": {
    "collapsed": true
   },
   "outputs": [],
   "source": []
  },
  {
   "cell_type": "code",
   "execution_count": null,
   "metadata": {
    "collapsed": true
   },
   "outputs": [],
   "source": []
  },
  {
   "cell_type": "markdown",
   "metadata": {},
   "source": [
    "Join the `meta` and `review` SFrames to create a master SFrame object."
   ]
  },
  {
   "cell_type": "code",
   "execution_count": null,
   "metadata": {
    "collapsed": true
   },
   "outputs": [],
   "source": [
    "msf.head()"
   ]
  },
  {
   "cell_type": "code",
   "execution_count": null,
   "metadata": {
    "collapsed": true
   },
   "outputs": [],
   "source": [
    "len(msf)"
   ]
  },
  {
   "cell_type": "markdown",
   "metadata": {},
   "source": [
    "** Create tf-idf of review **"
   ]
  },
  {
   "cell_type": "code",
   "execution_count": null,
   "metadata": {
    "collapsed": true
   },
   "outputs": [],
   "source": [
    "msf['tfidf'] = gl.text_analytics.tf_idf(msf['review'])"
   ]
  },
  {
   "cell_type": "code",
   "execution_count": 49,
   "metadata": {
    "collapsed": true
   },
   "outputs": [],
   "source": [
    "msf = gl.load_sframe('meta_data.sf/')"
   ]
  },
  {
   "cell_type": "code",
   "execution_count": 52,
   "metadata": {},
   "outputs": [
    {
     "data": {
      "text/plain": [
       "[['Books', 'Literature & Fiction', 'Genre Fiction', 'Movie Tie-Ins'],\n",
       " ['Books', 'Science Fiction & Fantasy', 'Science Fiction', 'Space Opera'],\n",
       " ['Kindle Store',\n",
       "  'Kindle eBooks',\n",
       "  'Literature & Fiction',\n",
       "  'Genre Fiction',\n",
       "  'Movie Tie-Ins'],\n",
       " ['Kindle Store',\n",
       "  'Kindle eBooks',\n",
       "  'Science Fiction & Fantasy',\n",
       "  'Science Fiction',\n",
       "  'Space Opera'],\n",
       " ['Kindle Store',\n",
       "  'Kindle eBooks',\n",
       "  'Science Fiction & Fantasy',\n",
       "  'Science Fiction',\n",
       "  'TV, Movie, Video Game Adaptations',\n",
       "  'Star Wars']]"
      ]
     },
     "execution_count": 52,
     "metadata": {},
     "output_type": "execute_result"
    }
   ],
   "source": [
    "msf[12]['categories']"
   ]
  },
  {
   "cell_type": "markdown",
   "metadata": {},
   "source": [
    "**Display Product Image**: we can display an image of the product as follows:"
   ]
  },
  {
   "cell_type": "code",
   "execution_count": 36,
   "metadata": {
    "collapsed": true
   },
   "outputs": [],
   "source": [
    "gl.canvas.set_target('browser')\n",
    "imgUrl = reviews[0]['imUrl']\n",
    "img = gl.Image(imgUrl)\n",
    "img.show() # opens external viewer"
   ]
  },
  {
   "cell_type": "markdown",
   "metadata": {},
   "source": [
    "review text + summary, user id, asin, title, rating, upvotes, downvotes, "
   ]
  },
  {
   "cell_type": "code",
   "execution_count": null,
   "metadata": {
    "collapsed": true
   },
   "outputs": [],
   "source": [
    "words = gl.text_analytics.stopwords(lang='en')"
   ]
  }
 ],
 "metadata": {
  "kernelspec": {
   "display_name": "Python 2",
   "language": "python",
   "name": "python2"
  },
  "language_info": {
   "codemirror_mode": {
    "name": "ipython",
    "version": 2
   },
   "file_extension": ".py",
   "mimetype": "text/x-python",
   "name": "python",
   "nbconvert_exporter": "python",
   "pygments_lexer": "ipython2",
   "version": "2.7.13"
  }
 },
 "nbformat": 4,
 "nbformat_minor": 2
}
