{
 "cells": [
  {
   "cell_type": "code",
   "execution_count": 1,
   "metadata": {
    "collapsed": true
   },
   "outputs": [],
   "source": [
    "import graphlab as gl"
   ]
  },
  {
   "cell_type": "code",
   "execution_count": 2,
   "metadata": {
    "collapsed": false
   },
   "outputs": [
    {
     "name": "stdout",
     "output_type": "stream",
     "text": [
      "This non-commercial license of GraphLab Create for academic use is assigned to gsimmons17@gsb.columbia.edu and will expire on December 07, 2017.\n"
     ]
    },
    {
     "name": "stderr",
     "output_type": "stream",
     "text": [
      "[INFO] graphlab.cython.cy_server: GraphLab Create v2.1 started. Logging: /tmp/graphlab_server_1492715167.log\n"
     ]
    },
    {
     "data": {
      "text/html": [
       "<pre>Finished parsing file /Users/galen/Google Drive/Applied Data Science Projects/Proj5/Spr2017-proj5-grp9/data/reviews_Kindle_Store_5.json</pre>"
      ],
      "text/plain": [
       "Finished parsing file /Users/galen/Google Drive/Applied Data Science Projects/Proj5/Spr2017-proj5-grp9/data/reviews_Kindle_Store_5.json"
      ]
     },
     "metadata": {},
     "output_type": "display_data"
    },
    {
     "data": {
      "text/html": [
       "<pre>Parsing completed. Parsed 100 lines in 1.66326 secs.</pre>"
      ],
      "text/plain": [
       "Parsing completed. Parsed 100 lines in 1.66326 secs."
      ]
     },
     "metadata": {},
     "output_type": "display_data"
    },
    {
     "name": "stdout",
     "output_type": "stream",
     "text": [
      "------------------------------------------------------\n",
      "Inferred types from first 100 line(s) of file as \n",
      "column_type_hints=[dict]\n",
      "If parsing fails due to incorrect types, you can correct\n",
      "the inferred type list above and pass it to read_csv in\n",
      "the column_type_hints argument\n",
      "------------------------------------------------------\n"
     ]
    },
    {
     "data": {
      "text/html": [
       "<pre>Read 61828 lines. Lines per second: 17552.5</pre>"
      ],
      "text/plain": [
       "Read 61828 lines. Lines per second: 17552.5"
      ]
     },
     "metadata": {},
     "output_type": "display_data"
    },
    {
     "data": {
      "text/html": [
       "<pre>Read 254778 lines. Lines per second: 24007.1</pre>"
      ],
      "text/plain": [
       "Read 254778 lines. Lines per second: 24007.1"
      ]
     },
     "metadata": {},
     "output_type": "display_data"
    },
    {
     "data": {
      "text/html": [
       "<pre>Read 454573 lines. Lines per second: 26910.3</pre>"
      ],
      "text/plain": [
       "Read 454573 lines. Lines per second: 26910.3"
      ]
     },
     "metadata": {},
     "output_type": "display_data"
    },
    {
     "data": {
      "text/html": [
       "<pre>Read 641101 lines. Lines per second: 26759.4</pre>"
      ],
      "text/plain": [
       "Read 641101 lines. Lines per second: 26759.4"
      ]
     },
     "metadata": {},
     "output_type": "display_data"
    },
    {
     "data": {
      "text/html": [
       "<pre>Read 820293 lines. Lines per second: 26483.1</pre>"
      ],
      "text/plain": [
       "Read 820293 lines. Lines per second: 26483.1"
      ]
     },
     "metadata": {},
     "output_type": "display_data"
    },
    {
     "data": {
      "text/html": [
       "<pre>Finished parsing file /Users/galen/Google Drive/Applied Data Science Projects/Proj5/Spr2017-proj5-grp9/data/reviews_Kindle_Store_5.json</pre>"
      ],
      "text/plain": [
       "Finished parsing file /Users/galen/Google Drive/Applied Data Science Projects/Proj5/Spr2017-proj5-grp9/data/reviews_Kindle_Store_5.json"
      ]
     },
     "metadata": {},
     "output_type": "display_data"
    },
    {
     "data": {
      "text/html": [
       "<pre>Parsing completed. Parsed 982619 lines in 35.8132 secs.</pre>"
      ],
      "text/plain": [
       "Parsing completed. Parsed 982619 lines in 35.8132 secs."
      ]
     },
     "metadata": {},
     "output_type": "display_data"
    }
   ],
   "source": [
    "json = gl.SFrame.read_csv('reviews_Kindle_Store.json', delimiter='\\n', header=False)"
   ]
  },
  {
   "cell_type": "code",
   "execution_count": 31,
   "metadata": {
    "collapsed": false
   },
   "outputs": [],
   "source": [
    "reviews = json.unpack(unpack_column='X1',column_name_prefix='')"
   ]
  },
  {
   "cell_type": "code",
   "execution_count": 33,
   "metadata": {
    "collapsed": false
   },
   "outputs": [
    {
     "data": {
      "text/plain": [
       "['asin',\n",
       " 'brand',\n",
       " 'categories',\n",
       " 'description',\n",
       " 'imUrl',\n",
       " 'price',\n",
       " 'related',\n",
       " 'salesRank',\n",
       " 'title']"
      ]
     },
     "execution_count": 33,
     "metadata": {},
     "output_type": "execute_result"
    }
   ],
   "source": [
    "reviews.column_names()"
   ]
  },
  {
   "cell_type": "code",
   "execution_count": 40,
   "metadata": {
    "collapsed": false
   },
   "outputs": [
    {
     "data": {
      "text/html": [
       "<pre>Finished parsing file /Users/galen/Google Drive/Applied Data Science Projects/Proj5/Spr2017-proj5-grp9/data/meta_Kindle_Store.json</pre>"
      ],
      "text/plain": [
       "Finished parsing file /Users/galen/Google Drive/Applied Data Science Projects/Proj5/Spr2017-proj5-grp9/data/meta_Kindle_Store.json"
      ]
     },
     "metadata": {},
     "output_type": "display_data"
    },
    {
     "data": {
      "text/html": [
       "<pre>Parsing completed. Parsed 100 lines in 2.83166 secs.</pre>"
      ],
      "text/plain": [
       "Parsing completed. Parsed 100 lines in 2.83166 secs."
      ]
     },
     "metadata": {},
     "output_type": "display_data"
    },
    {
     "name": "stdout",
     "output_type": "stream",
     "text": [
      "------------------------------------------------------\n",
      "Inferred types from first 100 line(s) of file as \n",
      "column_type_hints=[dict]\n",
      "If parsing fails due to incorrect types, you can correct\n",
      "the inferred type list above and pass it to read_csv in\n",
      "the column_type_hints argument\n",
      "------------------------------------------------------\n"
     ]
    },
    {
     "data": {
      "text/html": [
       "<pre>Read 34790 lines. Lines per second: 2121.94</pre>"
      ],
      "text/plain": [
       "Read 34790 lines. Lines per second: 2121.94"
      ]
     },
     "metadata": {},
     "output_type": "display_data"
    },
    {
     "data": {
      "text/html": [
       "<pre>Read 75265 lines. Lines per second: 2727.47</pre>"
      ],
      "text/plain": [
       "Read 75265 lines. Lines per second: 2727.47"
      ]
     },
     "metadata": {},
     "output_type": "display_data"
    },
    {
     "data": {
      "text/html": [
       "<pre>Read 116519 lines. Lines per second: 3156.17</pre>"
      ],
      "text/plain": [
       "Read 116519 lines. Lines per second: 3156.17"
      ]
     },
     "metadata": {},
     "output_type": "display_data"
    },
    {
     "data": {
      "text/html": [
       "<pre>Read 158032 lines. Lines per second: 3553.95</pre>"
      ],
      "text/plain": [
       "Read 158032 lines. Lines per second: 3553.95"
      ]
     },
     "metadata": {},
     "output_type": "display_data"
    },
    {
     "data": {
      "text/html": [
       "<pre>Read 198514 lines. Lines per second: 3744.22</pre>"
      ],
      "text/plain": [
       "Read 198514 lines. Lines per second: 3744.22"
      ]
     },
     "metadata": {},
     "output_type": "display_data"
    },
    {
     "data": {
      "text/html": [
       "<pre>Read 237912 lines. Lines per second: 3816.2</pre>"
      ],
      "text/plain": [
       "Read 237912 lines. Lines per second: 3816.2"
      ]
     },
     "metadata": {},
     "output_type": "display_data"
    },
    {
     "data": {
      "text/html": [
       "<pre>Read 276927 lines. Lines per second: 3702.51</pre>"
      ],
      "text/plain": [
       "Read 276927 lines. Lines per second: 3702.51"
      ]
     },
     "metadata": {},
     "output_type": "display_data"
    },
    {
     "data": {
      "text/html": [
       "<pre>Read 315144 lines. Lines per second: 3597.77</pre>"
      ],
      "text/plain": [
       "Read 315144 lines. Lines per second: 3597.77"
      ]
     },
     "metadata": {},
     "output_type": "display_data"
    },
    {
     "data": {
      "text/html": [
       "<pre>Read 352318 lines. Lines per second: 3498.89</pre>"
      ],
      "text/plain": [
       "Read 352318 lines. Lines per second: 3498.89"
      ]
     },
     "metadata": {},
     "output_type": "display_data"
    },
    {
     "data": {
      "text/html": [
       "<pre>Read 389473 lines. Lines per second: 3440</pre>"
      ],
      "text/plain": [
       "Read 389473 lines. Lines per second: 3440"
      ]
     },
     "metadata": {},
     "output_type": "display_data"
    },
    {
     "data": {
      "text/html": [
       "<pre>Read 426018 lines. Lines per second: 3598.72</pre>"
      ],
      "text/plain": [
       "Read 426018 lines. Lines per second: 3598.72"
      ]
     },
     "metadata": {},
     "output_type": "display_data"
    },
    {
     "data": {
      "text/html": [
       "<pre>Finished parsing file /Users/galen/Google Drive/Applied Data Science Projects/Proj5/Spr2017-proj5-grp9/data/meta_Kindle_Store.json</pre>"
      ],
      "text/plain": [
       "Finished parsing file /Users/galen/Google Drive/Applied Data Science Projects/Proj5/Spr2017-proj5-grp9/data/meta_Kindle_Store.json"
      ]
     },
     "metadata": {},
     "output_type": "display_data"
    },
    {
     "data": {
      "text/html": [
       "<pre>Parsing completed. Parsed 434702 lines in 119.321 secs.</pre>"
      ],
      "text/plain": [
       "Parsing completed. Parsed 434702 lines in 119.321 secs."
      ]
     },
     "metadata": {},
     "output_type": "display_data"
    }
   ],
   "source": [
    "desc_json = gl.SFrame.read_csv('meta_Kindle_Store.json', delimiter='\\n', header=False)"
   ]
  },
  {
   "cell_type": "code",
   "execution_count": 42,
   "metadata": {
    "collapsed": false
   },
   "outputs": [],
   "source": [
    "meta = desc_json.unpack(unpack_column='X1',column_name_prefix='')"
   ]
  },
  {
   "cell_type": "code",
   "execution_count": 43,
   "metadata": {
    "collapsed": false
   },
   "outputs": [
    {
     "data": {
      "text/plain": [
       "['asin',\n",
       " 'brand',\n",
       " 'categories',\n",
       " 'description',\n",
       " 'imUrl',\n",
       " 'price',\n",
       " 'related',\n",
       " 'salesRank',\n",
       " 'title']"
      ]
     },
     "execution_count": 43,
     "metadata": {},
     "output_type": "execute_result"
    }
   ],
   "source": [
    "meta.column_names()"
   ]
  },
  {
   "cell_type": "markdown",
   "metadata": {},
   "source": [
    "Join the `meta` and `review` SFrames to create a master SFrame object."
   ]
  },
  {
   "cell_type": "code",
   "execution_count": null,
   "metadata": {
    "collapsed": true
   },
   "outputs": [],
   "source": [
    "msf.head()"
   ]
  },
  {
   "cell_type": "code",
   "execution_count": null,
   "metadata": {
    "collapsed": true
   },
   "outputs": [],
   "source": [
    "len(msf)"
   ]
  },
  {
   "cell_type": "markdown",
   "metadata": {},
   "source": [
    "** Create tf-idf of review **"
   ]
  },
  {
   "cell_type": "code",
   "execution_count": null,
   "metadata": {
    "collapsed": true
   },
   "outputs": [],
   "source": [
    "msf['tfidf'] = gl.text_analytics.tf_idf(msf['review'])"
   ]
  },
  {
   "cell_type": "code",
   "execution_count": 49,
   "metadata": {
    "collapsed": false
   },
   "outputs": [],
   "source": [
    "msf = gl.load_sframe('meta_data.sf/')"
   ]
  },
  {
   "cell_type": "code",
   "execution_count": 52,
   "metadata": {
    "collapsed": false
   },
   "outputs": [
    {
     "data": {
      "text/plain": [
       "[['Books', 'Literature & Fiction', 'Genre Fiction', 'Movie Tie-Ins'],\n",
       " ['Books', 'Science Fiction & Fantasy', 'Science Fiction', 'Space Opera'],\n",
       " ['Kindle Store',\n",
       "  'Kindle eBooks',\n",
       "  'Literature & Fiction',\n",
       "  'Genre Fiction',\n",
       "  'Movie Tie-Ins'],\n",
       " ['Kindle Store',\n",
       "  'Kindle eBooks',\n",
       "  'Science Fiction & Fantasy',\n",
       "  'Science Fiction',\n",
       "  'Space Opera'],\n",
       " ['Kindle Store',\n",
       "  'Kindle eBooks',\n",
       "  'Science Fiction & Fantasy',\n",
       "  'Science Fiction',\n",
       "  'TV, Movie, Video Game Adaptations',\n",
       "  'Star Wars']]"
      ]
     },
     "execution_count": 52,
     "metadata": {},
     "output_type": "execute_result"
    }
   ],
   "source": [
    "msf[12]['categories']"
   ]
  },
  {
   "cell_type": "markdown",
   "metadata": {},
   "source": [
    "**Display Product Image**: we can display an image of the product as follows:"
   ]
  },
  {
   "cell_type": "code",
   "execution_count": 36,
   "metadata": {
    "collapsed": false
   },
   "outputs": [],
   "source": [
    "gl.canvas.set_target('browser')\n",
    "imgUrl = reviews[0]['imUrl']\n",
    "img = gl.Image(imgUrl)\n",
    "img.show() # opens external viewer"
   ]
  },
  {
   "cell_type": "markdown",
   "metadata": {},
   "source": [
    "review text + summary, user id, asin, title, rating, upvotes, downvotes, "
   ]
  },
  {
   "cell_type": "code",
   "execution_count": null,
   "metadata": {
    "collapsed": true
   },
   "outputs": [],
   "source": [
    "words = gl.text_analytics.stopwords(lang='en')"
   ]
  }
 ],
 "metadata": {
  "kernelspec": {
   "display_name": "Python 2",
   "language": "python",
   "name": "python2"
  },
  "language_info": {
   "codemirror_mode": {
    "name": "ipython",
    "version": 2
   },
   "file_extension": ".py",
   "mimetype": "text/x-python",
   "name": "python",
   "nbconvert_exporter": "python",
   "pygments_lexer": "ipython2",
   "version": "2.7.13"
  }
 },
 "nbformat": 4,
 "nbformat_minor": 2
}
