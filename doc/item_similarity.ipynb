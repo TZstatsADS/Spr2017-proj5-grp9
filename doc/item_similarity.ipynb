{
 "cells": [
  {
   "cell_type": "code",
   "execution_count": 1,
   "metadata": {
    "collapsed": true
   },
   "outputs": [],
   "source": [
    "import graphlab as gl"
   ]
  },
  {
   "cell_type": "code",
   "execution_count": 2,
   "metadata": {
    "collapsed": false
   },
   "outputs": [
    {
     "name": "stderr",
     "output_type": "stream",
     "text": [
      "[INFO] graphlab.cython.cy_server: GraphLab Create v2.1 started. Logging: /tmp/graphlab_server_1493331398.log\n"
     ]
    },
    {
     "name": "stdout",
     "output_type": "stream",
     "text": [
      "This non-commercial license of GraphLab Create for academic use is assigned to gsimmons17@gsb.columbia.edu and will expire on December 07, 2017.\n"
     ]
    }
   ],
   "source": [
    "msf = gl.load_sframe('../data/kindle_data.sf/')\n",
    "meta = gl.load_sframe('../data/meta_data.sf/')\n",
    "wc = gl.load_sframe('../data/meta_data.sf/')"
   ]
  },
  {
   "cell_type": "markdown",
   "metadata": {},
   "source": [
    "Define functions for getting images from ASINs"
   ]
  },
  {
   "cell_type": "code",
   "execution_count": 3,
   "metadata": {
    "collapsed": true
   },
   "outputs": [],
   "source": [
    "def isValidImg(url):\n",
    "    if url[-3:]!='jpg':\n",
    "        return False\n",
    "    else:\n",
    "        return True"
   ]
  },
  {
   "cell_type": "code",
   "execution_count": 4,
   "metadata": {
    "collapsed": true
   },
   "outputs": [],
   "source": [
    "def getAsinRows(asin):\n",
    "    sf = meta.filter_by(asin, 'asin', exclude=False)\n",
    "    sf['prodImg'] = sf['imUrl'].apply(lambda x: gl.Image(x) if isValidImg(x) else gl.Image(path=None))\n",
    "    return(sf)"
   ]
  },
  {
   "cell_type": "code",
   "execution_count": 5,
   "metadata": {
    "collapsed": false
   },
   "outputs": [],
   "source": [
    "train, test = gl.recommender.util.random_split_by_user(msf,\n",
    "                                                       item_id='asin',\n",
    "                                                       user_id='reviewerID')"
   ]
  },
  {
   "cell_type": "code",
   "execution_count": 6,
   "metadata": {
    "collapsed": true
   },
   "outputs": [
    {
     "data": {
      "text/html": [
       "<pre>Recsys training: model = item_similarity</pre>"
      ],
      "text/plain": [
       "Recsys training: model = item_similarity"
      ]
     },
     "metadata": {},
     "output_type": "display_data"
    },
    {
     "data": {
      "text/html": [
       "<pre>Warning: Ignoring columns reviewText, reviewTime, reviewerName, summary, unixReviewTime, upvotes, downvotes, tfidf, brand, categories, description, imUrl, price, related, salesRank, title;</pre>"
      ],
      "text/plain": [
       "Warning: Ignoring columns reviewText, reviewTime, reviewerName, summary, unixReviewTime, upvotes, downvotes, tfidf, brand, categories, description, imUrl, price, related, salesRank, title;"
      ]
     },
     "metadata": {},
     "output_type": "display_data"
    },
    {
     "data": {
      "text/html": [
       "<pre>    To use these columns in scoring predictions, use a model that allows the use of additional features.</pre>"
      ],
      "text/plain": [
       "    To use these columns in scoring predictions, use a model that allows the use of additional features."
      ]
     },
     "metadata": {},
     "output_type": "display_data"
    },
    {
     "data": {
      "text/html": [
       "<pre>Preparing data set.</pre>"
      ],
      "text/plain": [
       "Preparing data set."
      ]
     },
     "metadata": {},
     "output_type": "display_data"
    },
    {
     "data": {
      "text/html": [
       "<pre>    Data has 3204985 observations with 1406747 users and 430509 items.</pre>"
      ],
      "text/plain": [
       "    Data has 3204985 observations with 1406747 users and 430509 items."
      ]
     },
     "metadata": {},
     "output_type": "display_data"
    },
    {
     "data": {
      "text/html": [
       "<pre>    Data prepared in: 6.76504s</pre>"
      ],
      "text/plain": [
       "    Data prepared in: 6.76504s"
      ]
     },
     "metadata": {},
     "output_type": "display_data"
    },
    {
     "data": {
      "text/html": [
       "<pre>Training model from provided data.</pre>"
      ],
      "text/plain": [
       "Training model from provided data."
      ]
     },
     "metadata": {},
     "output_type": "display_data"
    },
    {
     "data": {
      "text/html": [
       "<pre>Gathering per-item and per-user statistics.</pre>"
      ],
      "text/plain": [
       "Gathering per-item and per-user statistics."
      ]
     },
     "metadata": {},
     "output_type": "display_data"
    },
    {
     "data": {
      "text/html": [
       "<pre>+--------------------------------+------------+</pre>"
      ],
      "text/plain": [
       "+--------------------------------+------------+"
      ]
     },
     "metadata": {},
     "output_type": "display_data"
    },
    {
     "data": {
      "text/html": [
       "<pre>| Elapsed Time (Item Statistics) | % Complete |</pre>"
      ],
      "text/plain": [
       "| Elapsed Time (Item Statistics) | % Complete |"
      ]
     },
     "metadata": {},
     "output_type": "display_data"
    },
    {
     "data": {
      "text/html": [
       "<pre>+--------------------------------+------------+</pre>"
      ],
      "text/plain": [
       "+--------------------------------+------------+"
      ]
     },
     "metadata": {},
     "output_type": "display_data"
    },
    {
     "data": {
      "text/html": [
       "<pre>| 7.468ms                        | 0          |</pre>"
      ],
      "text/plain": [
       "| 7.468ms                        | 0          |"
      ]
     },
     "metadata": {},
     "output_type": "display_data"
    },
    {
     "data": {
      "text/html": [
       "<pre>| 508.205ms                      | 100        |</pre>"
      ],
      "text/plain": [
       "| 508.205ms                      | 100        |"
      ]
     },
     "metadata": {},
     "output_type": "display_data"
    },
    {
     "data": {
      "text/html": [
       "<pre>+--------------------------------+------------+</pre>"
      ],
      "text/plain": [
       "+--------------------------------+------------+"
      ]
     },
     "metadata": {},
     "output_type": "display_data"
    },
    {
     "data": {
      "text/html": [
       "<pre>Setting up lookup tables.</pre>"
      ],
      "text/plain": [
       "Setting up lookup tables."
      ]
     },
     "metadata": {},
     "output_type": "display_data"
    },
    {
     "data": {
      "text/html": [
       "<pre>Processing data in one pass using sparse lookup tables.</pre>"
      ],
      "text/plain": [
       "Processing data in one pass using sparse lookup tables."
      ]
     },
     "metadata": {},
     "output_type": "display_data"
    },
    {
     "data": {
      "text/html": [
       "<pre>+-------------------------------------+------------------+-----------------+</pre>"
      ],
      "text/plain": [
       "+-------------------------------------+------------------+-----------------+"
      ]
     },
     "metadata": {},
     "output_type": "display_data"
    },
    {
     "data": {
      "text/html": [
       "<pre>| Elapsed Time (Constructing Lookups) | Total % Complete | Items Processed |</pre>"
      ],
      "text/plain": [
       "| Elapsed Time (Constructing Lookups) | Total % Complete | Items Processed |"
      ]
     },
     "metadata": {},
     "output_type": "display_data"
    },
    {
     "data": {
      "text/html": [
       "<pre>+-------------------------------------+------------------+-----------------+</pre>"
      ],
      "text/plain": [
       "+-------------------------------------+------------------+-----------------+"
      ]
     },
     "metadata": {},
     "output_type": "display_data"
    },
    {
     "data": {
      "text/html": [
       "<pre>| 1.63s                               | 0                | 0               |</pre>"
      ],
      "text/plain": [
       "| 1.63s                               | 0                | 0               |"
      ]
     },
     "metadata": {},
     "output_type": "display_data"
    },
    {
     "data": {
      "text/html": [
       "<pre>| 2.72s                               | 19               | 82478           |</pre>"
      ],
      "text/plain": [
       "| 2.72s                               | 19               | 82478           |"
      ]
     },
     "metadata": {},
     "output_type": "display_data"
    },
    {
     "data": {
      "text/html": [
       "<pre>| 3.64s                               | 23.25            | 101050          |</pre>"
      ],
      "text/plain": [
       "| 3.64s                               | 23.25            | 101050          |"
      ]
     },
     "metadata": {},
     "output_type": "display_data"
    },
    {
     "data": {
      "text/html": [
       "<pre>| 4.65s                               | 31.75            | 137272          |</pre>"
      ],
      "text/plain": [
       "| 4.65s                               | 31.75            | 137272          |"
      ]
     },
     "metadata": {},
     "output_type": "display_data"
    },
    {
     "data": {
      "text/html": [
       "<pre>| 5.65s                               | 35.25            | 152234          |</pre>"
      ],
      "text/plain": [
       "| 5.65s                               | 35.25            | 152234          |"
      ]
     },
     "metadata": {},
     "output_type": "display_data"
    },
    {
     "data": {
      "text/html": [
       "<pre>| 6.65s                               | 51.25            | 221218          |</pre>"
      ],
      "text/plain": [
       "| 6.65s                               | 51.25            | 221218          |"
      ]
     },
     "metadata": {},
     "output_type": "display_data"
    },
    {
     "data": {
      "text/html": [
       "<pre>| 7.66s                               | 64.25            | 277024          |</pre>"
      ],
      "text/plain": [
       "| 7.66s                               | 64.25            | 277024          |"
      ]
     },
     "metadata": {},
     "output_type": "display_data"
    },
    {
     "data": {
      "text/html": [
       "<pre>| 8.66s                               | 66.5             | 287113          |</pre>"
      ],
      "text/plain": [
       "| 8.66s                               | 66.5             | 287113          |"
      ]
     },
     "metadata": {},
     "output_type": "display_data"
    },
    {
     "data": {
      "text/html": [
       "<pre>| 9.67s                               | 70.5             | 303642          |</pre>"
      ],
      "text/plain": [
       "| 9.67s                               | 70.5             | 303642          |"
      ]
     },
     "metadata": {},
     "output_type": "display_data"
    },
    {
     "data": {
      "text/html": [
       "<pre>| 10.67s                              | 77.5             | 333695          |</pre>"
      ],
      "text/plain": [
       "| 10.67s                              | 77.5             | 333695          |"
      ]
     },
     "metadata": {},
     "output_type": "display_data"
    },
    {
     "data": {
      "text/html": [
       "<pre>| 11.68s                              | 91.25            | 393691          |</pre>"
      ],
      "text/plain": [
       "| 11.68s                              | 91.25            | 393691          |"
      ]
     },
     "metadata": {},
     "output_type": "display_data"
    },
    {
     "data": {
      "text/html": [
       "<pre>| 12.72s                              | 99.25            | 427906          |</pre>"
      ],
      "text/plain": [
       "| 12.72s                              | 99.25            | 427906          |"
      ]
     },
     "metadata": {},
     "output_type": "display_data"
    },
    {
     "data": {
      "text/html": [
       "<pre>| 18.46s                              | 100              | 430509          |</pre>"
      ],
      "text/plain": [
       "| 18.46s                              | 100              | 430509          |"
      ]
     },
     "metadata": {},
     "output_type": "display_data"
    },
    {
     "data": {
      "text/html": [
       "<pre>+-------------------------------------+------------------+-----------------+</pre>"
      ],
      "text/plain": [
       "+-------------------------------------+------------------+-----------------+"
      ]
     },
     "metadata": {},
     "output_type": "display_data"
    },
    {
     "data": {
      "text/html": [
       "<pre>Finalizing lookup tables.</pre>"
      ],
      "text/plain": [
       "Finalizing lookup tables."
      ]
     },
     "metadata": {},
     "output_type": "display_data"
    },
    {
     "data": {
      "text/html": [
       "<pre>Generating candidate set for working with new users.</pre>"
      ],
      "text/plain": [
       "Generating candidate set for working with new users."
      ]
     },
     "metadata": {},
     "output_type": "display_data"
    },
    {
     "data": {
      "text/html": [
       "<pre>Finished training in 19.8932s</pre>"
      ],
      "text/plain": [
       "Finished training in 19.8932s"
      ]
     },
     "metadata": {},
     "output_type": "display_data"
    }
   ],
   "source": [
    "sm = gl.recommender.item_similarity_recommender.create(train,\n",
    "                                                user_id='reviewerID',\n",
    "                                                item_id='asin',\n",
    "                                                target='overall',\n",
    "                                                only_top_k=20)"
   ]
  },
  {
   "cell_type": "code",
   "execution_count": 22,
   "metadata": {
    "collapsed": false
   },
   "outputs": [
    {
     "data": {
      "text/html": [
       "<pre>Downloading http://ecx.images-amazon.com/images/I/51Qu6iaoDcL._BO2,204,203,200_PIsitb-sticker-v3-big,TopRight,0,-55_SX278_SY278_PIkin4,BottomRight,1,22_AA300_SH20_OU01_.jpg to /var/tmp/graphlab-galen/15175/4db60150-ee97-4f48-8842-efe554e6da28.jpg</pre>"
      ],
      "text/plain": [
       "Downloading http://ecx.images-amazon.com/images/I/51Qu6iaoDcL._BO2,204,203,200_PIsitb-sticker-v3-big,TopRight,0,-55_SX278_SY278_PIkin4,BottomRight,1,22_AA300_SH20_OU01_.jpg to /var/tmp/graphlab-galen/15175/4db60150-ee97-4f48-8842-efe554e6da28.jpg"
      ]
     },
     "metadata": {},
     "output_type": "display_data"
    }
   ],
   "source": [
    "sample_item = meta['asin'][52387]\n",
    "sample = getAsinRows(sample_item)"
   ]
  },
  {
   "cell_type": "code",
   "execution_count": 23,
   "metadata": {
    "collapsed": false
   },
   "outputs": [
    {
     "data": {
      "application/javascript": [
       "$(\"head\").append($(\"<link/>\").attr({\n",
       "  rel:  \"stylesheet\",\n",
       "  type: \"text/css\",\n",
       "  href: \"//cdnjs.cloudflare.com/ajax/libs/font-awesome/4.1.0/css/font-awesome.min.css\"\n",
       "}));\n",
       "$(\"head\").append($(\"<link/>\").attr({\n",
       "  rel:  \"stylesheet\",\n",
       "  type: \"text/css\",\n",
       "  href: \"https://static.turi.com/products/graphlab-create/2.1/canvas/css/canvas.css\"\n",
       "}));\n",
       "\n",
       "            (function(){\n",
       "\n",
       "                var e = null;\n",
       "                if (typeof element == 'undefined') {\n",
       "                    var scripts = document.getElementsByTagName('script');\n",
       "                    var thisScriptTag = scripts[scripts.length-1];\n",
       "                    var parentDiv = thisScriptTag.parentNode;\n",
       "                    e = document.createElement('div');\n",
       "                    parentDiv.appendChild(e);\n",
       "                } else {\n",
       "                    e = element[0];\n",
       "                }\n",
       "\n",
       "                if (typeof requirejs !== 'undefined') {\n",
       "                    // disable load timeout; ipython_app.js is large and can take a while to load.\n",
       "                    requirejs.config({waitSeconds: 0});\n",
       "                }\n",
       "\n",
       "                require(['https://static.turi.com/products/graphlab-create/2.1/canvas/js/ipython_app.js'], function(IPythonApp){\n",
       "                    var app = new IPythonApp();\n",
       "                    app.attachView('sarray','Images', {\"ipython\": true, \"rows\": [{\"format\": \"jpeg\", \"value\": \"image/jpeg;base64,/9j/4AAQSkZJRgABAQAAAQABAAD/2wBDAAUDBAQEAwUEBAQFBQUGBwwIBwcHBw8LCwkMEQ8SEhEPERETFhwXExQaFRERGCEYGh0dHx8fExciJCIeJBweHx7/2wBDAQUFBQcGBw4ICA4eFBEUHh4eHh4eHh4eHh4eHh4eHh4eHh4eHh4eHh4eHh4eHh4eHh4eHh4eHh4eHh4eHh4eHh7/wAARCAEsASwDASIAAhEBAxEB/8QAHQABAAEFAQEBAAAAAAAAAAAAAAIBAwYHCAQFCf/EAFsQAAEDAgQCBAgHCggMBAcAAAEAAhEDBAUSITEGQRMiUWEHCHGBkaHR8BQVMpOxweEWFyMzN2OytNLxGCU1QlVzg7MkJjZDREVSU2JydJJ1gqTTJ0ZUlKLD8v/EABoBAQADAQEBAAAAAAAAAAAAAAABAgQDBQb/xAAzEQACAQIDBQcDBAIDAAAAAAAAAQIDEQQhMQUSQVFxExQyM2GB8BUioQYjkdEWUrHB8f/aAAwDAQACEQMRAD8A7LREQBERAEREAREQBERAEREAQkASdAi8WP8A8hYh/wBNU/RKrOW7Fy5FoR35KPM9jHseJY5rh2gyqrXfi+/5DVf+uqfosX2+LOMBhGLWuCYbhdbFsXuW5221N4YGs16znEGNj6NYWChtKnPCQxVT7VK2Wub4Kyu/4PSxGy6sMbPCUvucW89Mlxd3ZLqzKUWF4Z4QbTpMStOIMPrYLf4fSNarQe8VA9gjVjhEnUac5EE6x4D4R7+lY0cavOEL2hgVWoGtvPhDXPDSYDjTiQD5Y7CdFV7YwaSe/wA+Dytk7q2VvWxMdiY6TaUOXGOd1dbrvaV1yubBzsz5M7c2+WdVJaqusVw+38NHxxWuqbLEYOK3TE9UsLZBHbMiBuZWZ8F8RXnElCtffEz7HD8xFtWq1ZfXE/KyZdBHOT50wu06VepKlpJNpcbpcdMl1JxeyauHpRqrOLjFtvKzd8s3m8uGfoZB0lPpOj6RueJyzr6FJaY4u4owXhrwuY3ibeHK1zitjg4rOufh5Yyoz8GMnR5CBuNZO2yv3vhnxG2wKy4jdwFf/ENcsY+8ddtEPPyg1uWXNBkBxyhxHJfR/Ta0lFwV07cUs3w1+cj5X6vh4SlGpKzi3om8k7XeX88PU3Ao1KlOnHSVGskwMxiVri88J15e8V1+HuD+GDj1a3tWXNao+/ZbNyva1wy5gc2j29mvpWOcc8XYRj+E8LX2OcIYpTuTjAtxbV7h1s63rDKcwOX8I3UchsVWns+rKSUla/S+l1lf/kmrtWhGMnB3a9HbVJ52d7X4XN2KNOpTqNzU3teAYlplazpeFS+xPG8RocM8GX2N4VhlTJd31K4aw6HrdGwjrncgAye6VgfgN4ysuDfBTd3Fa2r315eY6+3srOh8uvUNGjp3DUSddxoVeOzKzpuTWeWWXHnnl7lJbYoKrGKf2tSu87ZW0yzv6HRSwvwjcd1uDbm1LuF8WxSyqU3VK93aMllAAxB0ieepHs8XD3hFvqnFltwzxZwtX4bvr2mX2Tn3TK9KtEktzAAB3drrppInYJjY81n7Pu812sbrrr0aNSrLFU32E7NemafqnY+TwlxFhPFOCUcYwW6Fe1qSDIhzHDdrhyI9hEggr6y1N4HralhXhS8IODWTeisadxQrU6I+Sxzw4mByGseQBbZBB2TF0o0qrjHTJr3VycDXlXoqU9c0+qbX/QREWY1hERAEREAREQBERAEREAREQBERAEXw7/G69viNe1p2tN7aRaMxeQTLQdo71a+PruY+B0fnT7Fnni6MHuylmdY0KkldIyFFj5x27H+iUD5Kp9igOIbomBZUfnT7FTv2H/2Ld2q/6mRryY2x9TBr5lNrnvdb1A1rRJJynQBfFPEd2P8AQaXzp9ip90t1zsKY8tU+xVnjcPKLjv6l4YetGSlu6GvfB1jvEHCmAPwypwNjt0XV3Vs7baozcNERkPYvabzGaPGtpx3ccL4qyzrW77evbNoufXoFsjNlIBg6GfKs2HEl1E/AqXzp9ioeJLkb2NMf2h9i8Ong6cKUKXeW1CzjksmtOGZ9BV2o51Z1e7JSndS+55p68cud/Q19j+AYzx9jeKYzbYXd4bassW0rQXdPo33D2kOAg8jrrtt5vViWM4tifg/o8HUOFMZbivQUbap0lsW0WNYW9fMeRyjeBrvprnH3SXX/ANDS+dPsUTxNdcrGmf7U+xO4YdOclXs5pqTss0+XLkPq9ZqEZUE402nBXeTS48+b0Nf3HAdfEONrDCMQoX3wG3welRdeUqTuj6VlONHkRvrHcst8FFzjlnb3HDOO2F4x+Hkttrp1B3RVaYMQHkQY5d3kX0ncUXAE/AaR1jSqfYqjie5O1jTP9qfYu2FweDwtftqVSzu7+qdsn0tkccXtTFYuh2FWndWVvRq+a63s0aj8LOA47eeEjim6s8DxS5t6+AtpUqtGzqPZUfNLqtcBBOh0HYV9zi/BsXreLNYYTQwm/q4i23tQ60ZbPNYEVGlwLAMwjWdFsD7prnT/AAGlr+dPsVTxLdRPwGl86fYvq/r9Ldpq6+xp8eB8X/j0t6rK7+9NdLu5p3FcIw111bji7gbiGzqsw60Za4xgrKrqlQik0ZKjYyteIDYImWxtC+YcF49u+G+HG4rhuP3jLfiIVLZtzbvqXFG2Ab1qkAlomfldh5Qt6/dJdRJsafzp9ifdLcbfAqUxP40+xdY/qOkktP5b/jkcJfpqUm83nySV8758zWHg0xDGfBm7GeFcS4Sx7Eala/fXsLixtTUp3MtDdXaACGtM6xJmI1wnDeBeKKnAllf3HD2LdJhvENatc2NOi+jcVKL6dvL6QgE60yAW/UV0N90lzE/A6Pk6U+xR+6a5JAFhT1E/jT7Ej+o6UJOcbXdr652y9tSZfpqU4KnKT3Y3SVlldp++iNW8J4DguN8bYPWwrg/i4W1jWFzUxDGrqpSZbvY4OAY05s5JaARI9Cz/AMLXB+J8QULLGeHMRrWPEGEOdUsiHxTqzBLHA6awNTpyOh0+k7ii5bvYUvnfsUHcWV2zNgzTsq/Ys9TbcJVYzjLTnd9b35mulsNxoypSV97kkulrcjQXDeNcd8QcccS4Vg1gMNxrG+ip4jWJc34C2kCyo7tbJO+42GpBXR/BPD9DhbhaxwG2uKtxTtGEdLVPWe5zi5x7tXHTkNF8JvFbKFxWrswihTrVY6WoHQ6pAgSY1gbLKMBvzieFUb00uiNQu6kzEOI+pdcTtWnjLQppJK2XRW/GiOWC2PPA3nVk5N3zfBN309Xmz3IiLKegEREAREQBERAEREAREQBERAEREBr7iu8r2/FD6FOuyl8JqBlPNZVK2Z4o5olrxBLWmAdz3kBY/hvFPw+5tKVK/t6bbnMGVquHvbTD2yTTc7ptHwJjvHaFlfElhSxDFb+hcODqJfTJpOpU3tJDGkEhzTqDC8Ntw/bW1tWt6VRwo165r1KZoUXBzyQZILI5COyAvm8bu9rK5up9purd0+ep8xmO1x8IJvrZrbe6bbVHDDnvaC5wa10srEZSSNeWsgQV5rjip9O8fbPvGMdTuhbV3HDHtbRJIAc8mr1WknSdTBPJZE/C6dXpzUrvf8JYKVfNQonpGAEBrpZqOsdD2lWbXh20tH3LrYmiLprW1mtoUQ17QIAy5IiCVitE6fu8Pn5PlV8Zuqd3e2xu7Wo+1oiu51KxdUDmayW5axOkaggHURMry4hxLUsq1Wk66ZWeyiy4DaeF1Dnpu/ng9L8kcyYHeSsl+LG06lKq25qtqUmGlSc2jSljCRLR1NAS1uncF47LhvD7K9beWZFrWbTNMGjQos6pIJ0DI5BRaKLPteHz8ngfi9cX9ta0r+xr/CqRq0X0bMva6I00rZpgztEA6ryXnEFWh8GBuWvddMqGgGYVVLnuZOZgHSTm6pEcucSJyKng9JraTWV3MFF5qUg2hRAa4gguEM0Op17yvJU4Yw999SvsmW5ZW6cVWUKLXF8EZiQzrHrHfnqloh9rw+fk+QOIXm0sbpt/Zvp3dQUxltJNJ0HR46adwRoDqp3uP1bRrX3d9RpA3QtXZsNqgMeQCJ/C7EOBHb5jH3KuE0nCp+Hd+FcHVPwFHruGxd1NToN+xfPxLhqwxB7ql4elqPyZ6hoUs5yODmjNkmJGyWjcl9rbLX56nyhxDXOF3GIm5oA29To6ts+yLazDI1LTWHIgxv3L03mN17K2uq1a8ohttTp1Xj4sq6seSGuH4SIkGezzifs/Fx6Z1U3VQ1HMyF5o0sxb/sk5JjuVq94fssQoNo3Tula2k6izNb0ZpsIghpyabDaNh2KVuktVbZfPyfMtceq3D71rL60a+1Z0gbUsiw12EGHU81YS0xodBsrlrjVxWs7es25pgVrZ1xTBwuqXENALm6VT1hO3cYmF9mlhDaYoCncVAbduSi40qRNMRENOSQqVcDo16DaFZ4q0mVDVax9vRLQ8kkuALNzJ17yp+0rap8/9Mfw/iV1/dUaNLELRouKHTUatWycynU2lrSa2rhOsSBB1Vywxy4u2Uni6o0+luDa64e8htQOIAJbVI1gEGSII7V9e2wGja2NG0p16vQUXZ6bHUqTsrhzEs3Va2D069KvTq1nVG3Dg6s19Ck4VCAAC4FmpGUehS925MVVtn8/JjtDinp7qhQF5QYald1u6pVw97G0qgmGuLqwgnkBJ7QNV6HY5XDr5pvLaLFwFUssHPGUgHOMtY9XXy6HRfTt+H7S3o1renVcylXMvpdDSLD3ZSyAO4dpXofhQL3vN1VLn0+hcTSpas16p6m2p070yCVW2fz8mO4lxI6zurm0r3VPpLWoxlc/FtRrabXbVCTVAyd/PSJkT6H4lctv6lky7tK1XoRVb0NmXh4kyBFYnSNZA3C+jZcN2llcVK9o82730xSIp0aTW5ASYyhkayrwwttNtMUrmowUQRSDaNJoZOhgBmmiunG5CVXj8/JiOI8QFjmsF0yo+pbC5osp4ZUmowkbTU3EyeyDOxW1vBvXF1wVh9w2vSrtqCo4PpthpBqO5SfJvusCqcNWVK+p3tvFK4p5y19OhSbBf8omGCSe/tK2JwLRbQ4Xtabf9uqT1Q2SaridAANz2L09n27V9P6M+IVTc+7S59tEReyYwiIgCIiAIiIAiIgCIiAIiIAiIgMVv9ccvh/xs/u2qhaXPaczmBu40IKuXrZxm+2/GM/u2o1sTpruvnMYv3pHp0X+2iB0cdBHKN0OU6TCmGE9Vw9BUiwg66DslYrM6XPPqSR29yo9jQd/SpnLmLdJ3PkVWgZpE+dV3S9y2AYkaetVLY2CmWEEGULdZUuNkRvFh7QR1QoObLdW+eNlfDRM6Khplx0O3LRVaLplllMgD/aVxtMwe5X20ZjfzK6aUzEeUIo3KuZ5WCNDCHRgA1IVxzCBzGqiIOkSrWIuRdME7iNoVSGg7kDdTyhw6qm2nJ315JZjeLDw2I3Vh40GpXtDNBB18qhUpgDQI0SpHjJLRA28qEgtJP0K6WjNGm0wVFzAAQTBPJXiiWzyVSCJMQdllfCv8hW+kav8A03LF7lnUJ5x2LKeFgG4FbgGYL/03L1dnea+n9GXF+Wup9NEReyecEREAREQBERAEREAREQBERAEREBjV25oxm/BP+cYdvzbVNgBJ6zifIrGIPy41faf5xn921ePHMOsMbwu4wnFKLa9lctDKtIkjMA6YJHLQetfP4rzpXPRpr9tH1A1w1LXN/wDIV5Le/sbx1ZtpeULg0X9HV6OoHZHjdpg6O7itW4bgGB4n4Y+NsFvsKtq2GtwXDclqWRTYahuQ8tH80kASR2DsXmseIjwZj3hDxB2EuuMKtcdsWXVZldrH0mOsbOmHNaQS8jMCRLdNiTouLp6pa5fmxKlzNwtLCc0xyGiAawJJnsWHXXG9vSvsVpWVhc39DB75ljfPtw51QVC2m5/R02tJeGNqtLtQdHAAwvT4T7ale8A41Z18wNxbGgx7TDmVHkMY5p5ODnAgjYrkou6T4l7rgZNEugAgz2KNSGgyCI7lpe3xTHMS8DeI8DV7+4ZxPhwvcFv7qm8ioGW1IuFwCdfwtM0BO81plfZ4WxyibbwUUadpeD43wd9a2NG/dSpZxZtqOFanBFSZ0JJyukq8qLSeZEZo2ZmkzLo22U6TdZJPoWuqHhIxWtwXifFjODqgw7DrbEK1ao7E6Yl9pVex1Noy5jmFN5BIGog8ivpjje9YzD23fDVe2rYxc0rfCKRvKVQ3Oai6s978s9G2m2m4umZ0iSYXJ0ZrUtvoznMNII79FHpARK17xD4SGYNh+O1K2DPrX+BXdlb3tpTuWiWXTmNpVaTy3rAlxEEN1a7uJy/ALm/ubStUxXCDhFSlXqMZTN0ytmpg6VJZoJ103EHyq+5JK5W6PoOdm1BmO5ec3tg28bYuvLdt24FwoGq3pCAJJDZmAO5YnY8fW93gmC8RnDq1Lh/Gbulb2t26r129M7JRqVKRAyse4tAhziM7ZA1jxeB/4TiQ4ivcWtKVS4tOK8SFvXNXpHMIcaWUSBAFMBo120VuyaTcloN9aIz+6uLa0t33N3c0regxsvq1XhjWDtJOgV2lUp1qdOpSe2oyo0OY9hBDgdiCDqFrPGeIcbxOr4UMAvLCyZh2E4XkovZcEvIq2dSpmcCzUukaTDY57qnBnHVrgnDuA4bxDhz8NtWcItxenedMKwNC2pUhVzsaJa4Co0gDNInY6K3YuxXfVzaBcMsEHTnCtwHahrjHPKsd4f4mfi+IUbSphFxb07mx+G0a4JewNlg6OocoDan4QENBIIDoPVKxLws1b/BeJLfiPE+F38UcIssBQvLehTbVr4ZVFRzvhbKR+WC1zWuyw5opgjmqqDlKxN0lc2a5giCDKtvAc0js7QsDwvjTA7XC6WE8K0a+O2+EYHaXge2q4vq21Sm/oGsOUl9VzaLjBy6kaydPoY3xvSwvEcGo3OF1G2OLXdvaU6tSu2ncMqVwMhNAjNlDiGuMggzoQJUqnLetYtvLUySoIJGUiFkfDcfE1DKABL9B/wA5WOXDeqdNFkfDX8i0PK/9Mrfs/wA19P6OOK8HufRREXsGAIiIAiIgCIiAIiIAiIgCIiAIiIDFcRP8d3wP+2z+7arGmb61fxAA45fDX5bP7tqoKRJ7l83jfOkerQ8tGP4XwxQseNcV4sF/eVLjE7WhbVqDwzomsol2TLDQ6fwjtSTM9y+bjPg7w/FMN4nsbjGMVaziS7o3V05gpTTfSbTa0M6mgilTmZOh7VmQYRuPWrmXt9K4KpLW5LijHLPhGjY45iuJ4bi+JWXxxUbXxC3pdH0dSs1gpmq2WTTe5rGglpEwDvqvbxRgnx5hnwEYjd2E16VbpLcML5p1G1GjrtcIzME6bSvsCdjMbyo6gjWVDm7pkJIxx/BmEtx7HMdoCrb4pjVnTs7q4blJDWAgOaCCA4gtnQg5G6aL5uFeDq0wocINt8axOq3hSjUt7DpRSOam+kKUVIYJhgAEQszLwORPmVahJaNIU9o7NX+aDdRh9DgXD7fwf4pwS3E8RfY4iLxtau7o+maLp731Q2GZd6r4kGJ7l7L3hizu8OwW2qXV224wWtTr2N2wtbWY9lN1Iz1cpDmOc1zYgg+RfefIkTorcujQSubqyve50UFYxPF/B9heL4djNG7xDEm3GNXdrc311TNPpHfBnNdRY0FmVrGlg0Aky7XVZuC2es4u7TA18qs0s0CQrjBAJnbtAVlUk7XKuKRi1jwFhVthmFYKLy/fguEXTLqzw9xZ0bXU3F9JrnZczmU3Q5oJ3a2ZhfV4P4co8N0MRpW19dXQxDEK+I1DcBnVq1nZnxka3SToCvsEE6j1hVl0bN79F17WTyZz3EYtifBVpd4rxFe0sXxGzHENmy1v6NIUix2Sk6k17c7CWuyOjQxoDC8b/B7g9Wvhfw67vb22w3A62BfB6op9HcWtVrGvFSGA5iKbBII271mbzJ5ActVF2mpInyo6s08mFBHxeGsCqYFh1rYNxzFMQtrSiKFu26yFzWAANDnNaC6AAJdPaZOqjiGFXFbFbm+oYvf2jrm1p21SkxjH0gGOqEPaHNMPPSETMGG6aL7YG+o8kK3UAjQQY37Vzcne50SWhiOA8BYVgV7bXfDl5f4O6lhlDDKlOkWVGV6NGeizio13Xbmd1hE5jMqzjXg5scTxi6xL49xehUr31liDmsFB0V7UNbTcC6mTBDBLZiSTAlZjSzAmSQrzRpy8sLpCrLevchwjY8ddoJgn1rJuHBlweiIiC/8ATKx65Y4j5R1WRcPCMIog9rv0ivQ2f5r6f0cMV4F1PeiIvYMAREQBERAEREAREQBERAEREAREQGL3uX48vidDnZHzbVdYW9/mVq/B+Or86fLZ/dtUHFwdGYAL53G+dI9Oir00ek5eZ0Coddj51aDiTObzjUK435MjVY1mXtYqBAPW1US3frGOSZnAnYyouJ57JkLFHDX7Amp2cQo9fMZ25a/YhBBl3qUaElDMmS2O8KjImAQquJOpJBHcqNeNTqVR6ls7FwTI1Oh5fQpAOiA/0gaqIqQCZ86B5IM/vXRFbE2ggAOM94VQQGiQQYUetLMuUNB60g6iOXnhVlx1Gh5yVe9kUtcFrjpMc9t1Q5iTLo7oCkRMmVENO0jXdQSiMO7ZE6aKjmuLYHn2U2iDGYxyU3M0JDj50SbJvY8EnPlJb27br0Nccs8t9AoVQA4dUnXVTb1myDEDVRDUs8yNYgtiJHNfewGPiqjHa79IrHqjTlIcPtWQ4B/JNGe136RXrYDzX0/ozYnwe57kRF65gCIiAIiIAiIgCIiAIiIAiIgCIiA0h4ZfCrZ8AcZvw25wuveOuaLLgOY4AAQGx/8AisLPjJ4UQM3Dl4f/ADhfA8cmPvpWsxphrN/+YrSkQ2ABPKQvKr0YSqNtGOrtKtSm4R0R0W3xj8JB6vDd4J/ONUmeMjhh24cuzJ/3gXOIbtMDu70B6vV0B30XHu9Pkc/q1d8jo/8AhI4WBmPDl3ET+NbsoO8ZLDMonhy7giR12rnNvLUANiZGnd9frVt4gNgAiJOnZP2KO7U+RK2riPQ6OHjIYYHlx4dvOz8YFL+EhhRB/wAXLw/2oXN4cWmOxTpuytzTtoNE7tS5B7WxHodGnxjMMiBw7efOhQ/hHYXmj7nLzv8AwjVzy4llVzcoiNBG/vqqEQ0GGkczHl9hTu1PkQtr4j0OiD4x+GEyOHbz5wJ/CPw0wBw5d7x+MHd7QudHkbkjTu0UdS7T35p3emuBb6tiPQ6Pb4yeFOIH3OXfzgUh4yeFT/k1efOBc35Q0A6dxhC0lxcRA05K3YU+RX6rX9DpQeMnhk6cN3YI/ONUR4yOF5iW8N3cn84FzcZDA0AGB5lUuHWzRlmduzn607CHIj6pX9Do/wDhKYS7N/izeaH/AHg7FR3jJ4Zy4cu4H50LnB7jmMjkeXeoF06xr5E7GHIlbUxHodIO8Y3DKkTw3dn+1GqrT8Y7C6betw7en+0audWFrjENM9yjma8HQgEkdmukqFQpp3sQ9rYj0OjH+MlhTgQOHLvzvBW9fBDxNQ4x8HmG8RW1vUtqV06uBSeZLSys+mfWwr8/iIEFoI8gXbXinGfAFw8fzl7+uV1swsUp5cjvQxtSu92ehtNERbzUEREAREQBERAEREAREQBERAEREBx9445/+Ktm2dThzP0itJuMyBuQB5Y7ffkt1+OT+VO0MGRhzNh/xFaSEaagT3coPv5l51Xxs8TFecys5nEkb7Ty7PoQgS0ab9miiQ4MDQIiSPV7FEEkNduTOh5rmcEiYIIkEmdZhUcycpO2x8kfuUGO63VG3t+hX3ExvECRHv3oS8iy9rtYaCddJntKmQA2J311Pr+lNmAkanUjsRu+R3Wb2fQguVLukIIPIAeWDH1qlUnI0MPWIJP1fT61VoGYECDuqVaegH82N/NCEZFsZtokH7fq+lTpa6789NiokNnVxke1VY0MaSCYcI18iFnoXM2Vw7JIJI+kehQZ1mNklxgJUDngZiXaST6fqhRe8akaF2nv5yfWhVImZ3nZULZbkcA4bEKDjHWJMb/X9SlS1OUSeQQloPBE6xznv29ihEuy5S08vXorziNSN9vo9vqTSMoMujkguUByva4EaaSEaQXGWgtkwOcE+zT9yo7riXbjcqjJa6c2nv8AuQglXL5ynWNyO8SfrXbnimiPAFw8Pzl7+uV1xF1idI0Xbvin/kC4d/rL39crrRhvEzdgPG+htNERbT1AiIgCIiAIiIAiIgCIiAIiIAiIgOPfHKj76FtP9HM/SK0mWyNd1uzxyvyo2kD/AFc36StJtjQyNea86r42eJivNZSmBGWJjv8AftUCDmAiYG/nBju5q/Ajy7ej9yg4EiA4DdczgmW6bQIIbIBkT7+8Kp1aGl3WOk+XT61Ix26zyVDuXAZTM9iE3JB+ZpPMzy0kkexWM5aYLTprpz9/rUyOqY17OwR7j0KEPE6Ejt5nX2ITFEw+XAwdOZVwnSY0kaeUwrFMGZdJI39H71czSZjmPJsfrAQhoODZdoDO896rmBh0HXs09Ki1wJMj5Ug/V9R8xUWuJg9uwQWKuJLgZ31mFOoA+TPPbluqFsgTt2oWwIEcxHeEBEmTLT1TvptoI+tVEiSCHGNB3qjt4yiO338yEgfK29/MhJcLpIjXSTr5faFWodAQS5xO/oEnzyVaGmsyDzJ31+xULnNDROw2CEJEmvkQdNNQQjdXaHfu95UHPMiGiZI+j2+pSomY1ABiPPzQlrIuTA1cZ11XbfimCPABw4Ox96P/AFldcRA5utzAJ3229/Ou3fFN/IFw9rP4S9/Xa60YbxM14HxvobUREW09UIiIAiIgCIiAIiIAiIgCIiAIiIDjzxy5HhRtSCBGGt3He77PQtJN0qZZ2kGea3d45IJ8KVoQJ/i5k/8AcVpE952XnVfGzxcT5siTSZzGA0bT5/qj0qomWNBgOgHzxP0q3y6wO+3NSaAACCDBJIHmPo3XMzEXuc06ZQYkQeZVvP1YgiCq7kncyB3nkm/fz9/pQvYuiIE6TvHZ2q3UZsXOkARp2+4lSzQ12kggTPr9Uqjy5j51MmQO/WPoBKBXDDr1QQRz3KoNZ3yg+n3+tVc4SRAjs9/KjiSdB55QEXkiecRPmH2KIzazJAPyuztV0kR3+VUAE5QSeYQJlGHqvzaAaqRMuc3aNNfKR9RVCABAEedDJcDzG3o09vpQgroRH84zJHbt9JUM0dYDTtUiQG5idconuGnv5lbzASS6NJ17t1KJSJFwJAGvcFJw0jTQSoA9ZsDLp29+/rVZGWO4mCN0DKEPDjmIEfUpACCOXM6CPIqEfhHNfEtAbPeJVW5TyhQCoh24Ed3lJ+v1Lt/xTfyBcPf1l7+uV1xAHHYcu7RdveKbr4AeHT+cvf1yutGG8RswPmPobUREW09QIiIAiIgCIiAIiIAiIgCIiAIiIDj/AMcgT4UbXtOGsA/7itH6ZiQdxt5gt4eOP+VK060AYew6bzmI+snzLRkgt1kach3QvOq+NniYlfuyJkAyR5Pf0qoJc0kECdFAkF7hoDOs96kNG7zsQZXM4tWKkdUEAB0+T35KIAGjRHn0UwTqBMad3JRkzq0iDBnn7/UhCKRLtBoR7hSa06TsNBHmUZDdDGukqQEncglCWWZGkgjT0e+gUgdC0nkNFOo0Zp0I9/s9Cg4Mntn60JvcmQABrOnPyE78tiqCQAHbzrCbmXawNRCo06A8/p1Bn1hCCjc2UBxE7eVS7QT3/Z79itsDpEOHZv3e1VaczJGsoS0SLQW5Y0/nHy8u5RLAHzHf7+hXG8uQ5+/uEaRIncnz++yEXsWgMukk9kD1KrtO8hwE78/3/SpEDTnonMxqe0oTci8xDtBJnvOu3r9aCTqDGw19H1K4wa9YA8ge/kolkujVpIjTs/cAguisSGw0epdveKcI8AfDw/OXv65XXEIABmZ7u3WV294p5LvAHw847mpen/1ldaMN4jZgfMfQ2miItp6gREQBERAEREAREQBERAEREAREQHHvjk/lRtZ/o5n6TlpJzANd+2Fu/wAcf8qdp/4cz9IrSIe1uWZ1kd47u9edV8bPExL/AHZFstB1cRvMSpZSRHZp5VUgBxHyiDEko3TUxptOy5nFu5QmAXnt3Pl18+pUSTmOk6mFOQAOwbdnvuoOYR1ZIEct+w+r6ECKB06ggefcK635WWJlWYOc5mxmMSOW/v51ecYc0kmGkeaD2IJFGgOYA4fKOk+b0blC2DBHKdfP9qNl0xBcTt5zp5JMeZQqEyQwy0bE89/r+lCEV31kSe5Mubs1Pb79ijmkGW6aifV7fSpxDe+NARt77IToRe2NDqY86iWQABAAOmu409nrVwukvykE6R9nb9qgBJmT3aITdld3TsBOvlVCMrZADjlPV8vJVA088adilmJdO+ugQghnB1JG/v8AWVVoEgwfLCg7l3aER2faQVVsl/kOoPn9/MhYu6ZSREiJg8iquBdAJI0k6932qBHWqTHWbMHkeR9+xXGNc9xaIl8gZuzX1R9SFC20akxvvou3vFO/IFw9/WXv65XXEL3ZpMQDqe7c/UfUu3vFO/IFw7v+Mvd/+srrRhvEbsD430NpoiLaeoEREAREQBERAEREAREQBERAEREBx745MjwqWhB1+LWfpFaTOXYRsCZ5nX7FuzxyZ++ja6f6uZv/AMxWkidNdCe1edV8bPExXmsi8ua3VsCIJ83uVRxidCZGb61IgOdmEyT9ajoXTqJ1Mcpj9y5nFMkzeAD59EJkbAQYiPfyeZRa05DB1y8+XvsrhHWPLLv6x9YQMo2GkNgntO0rNMa4Ywu14qr4TRbd/BPjO6tPhDqs/B2Unlsv6sEhoD3ExLTAjdYcTkc2qwCQ8OEgOEabg6Hv8qlfXt1fX1zd3lw+rcXVR1Wu46dI4kuJIGm5J86lMmLVjL7PhjDKlg+8p07i4HwWnUAzvY9lXpbdr2VKYpuIjpSQWyCCOYIUbbhrA61RtrWN/QvDg775rHEwMlnVq5nHJoBUYwQJkE7QJw+nWqg5hVqjQCQ8ggcgPYqS89UufqwiZPydo9EqbotvJPQ+5TwS2uMYo2tLpnThguxSa45rioKefKyWgweQgmBpJU7TCrKtYWNUWl26pXvW21S3bV61EdGw5/k/zy55bOwpmSd1jhJLmucXFzYyknUe8BSD3dd2d+Z+jjmPPt7VFw2jKbzh7CqVBr7OpWuKlKmW1waoaKzTWLGXFLSS0xBbBjQyQTH0eJOEsIwvjr4C+vd2+BMubihWu3TUyup3VSjlzBgEgdCXAjTMY0IWDZ3SM380QO7yKJdU2dUMkydTuTv36wpuuRKknwMnqcM0aFChQv2XNrci0vqleu9w6OnUoPqgCCNnGmGbzLh3A4xSMgZWgu7FB76rmw6q5436ziQSQNfpUmZoa0ic06DTyKGyJtPQEmWwPlagzodPUkQdPJrzUwGl41zDt7d/sVt5LCGEAEgZo7eY+lQU9CYbLAe2RqduXv5EYMvWJJEmR2gkGPV61QGQJ09Smzbv7O1CHciASYIHYZPvyXbvinT94Lh2d+kvZ/8AvK64mgbggwQTruPf6F2z4pojwBcOjsqXv65XWjDeJm3AO830NpoiLaeqEREAREQBERAEREAREQBERAEREBx545enhStDH+rmfpFaVAEeTmt0+OZI8KNqeQw5hP8A3OWlGuBD9SADpqvOq+NniYpfuyJOEujNr2edRdMxoRse/wB9FMjUAbl0A9oJ9k+lUAJHRlvLybx7fpXMzoo0y7efPzVWQBLYiPt+oehR1gADzISDyDgBHlQmxR5gCCTE+/0KDic3yeZbt5PtV12omeQMkepQLQ0w522s9sD3PpQsmUZlyhx2MeiFVjjkBgl2XUd5P1wFJsGdN/Se5GiSx2k6R5j+9CCLzFPUkxET2R//ACqNMnQySpO5CSOqPf37VbB7uXZueSEpZFyJBkSRr7VVwh2o0mNEBlgcDpHbyVHCHFrflQZ0jSf36dyFS2BJHVdvI9/QVcYer2QYQgGDBaB77+cKkwQNBzE++yE6lQ3K0hoOp5nyez6VBzoqEefblH2fQrjTJiSJ2+1RcHAS1u0jt239SBaluQA0gbkc9to+lXB8iXa845woNbpDg0CAPQrsDIOzv5oSyZmTMEk79pj7PWu2fFP/ACBcO/1l7+uV1xM0Rr2yQOQk+/oXbPinkHwB8PEf7y9/XK60YbxM1YDzH0NpoiLaesEREAREQBERAEREAREQBERAEREBx745QnwpWn/hzP0itJQAJ7uQW7vHHE+FO03P8XM0HPrFaRpghoBIMDft8q86r42eJifNkS+VqfN7++yqTBzl0ARJ8kewqgImTr7dftR2ohzeqNTPOeZXM4FprsogSTBAjedvrVWkHnvsd1WI2AOx7TI/cosAYImdNJO2kehCxNpO0Eug9867fSqxq5s5t4PbE/Yg00HI6aR51So9rW53EAAg6mAEK8SkgbZdNuxVLiTM+crzitbgACvT5fztffZT6eif9IpeQOU2ZORcPl3GuiiQ1x3k6e/rUemoQZr0t43j0+tHXFGCRWpAaHfdLMi5NvVy6bHQFTBOYOzSSQD5J9p8+qstr0IH4amO3VS6ahMGvSA5DMlmG0VcXNYBoJA35aD38yi4/wC1HeTy5/QpZqNV+WnUDso1aDJ99SoZQXgkyBo7v2+oKCY2ZURBI1y7zy99PSrmoJynYx5wJPqVsNGUgwTGsDbvVyRmzOkZxqgZHK1xMAjeY8/v51UEA6gHuI95VKsAQXdYmfRB9/KojaJJ0MR3aINUXDVJ1nfmu2/FN/IDw7/WXv65XXEgGZ0ARppr9a7c8U78gXDszPSXv65XWjDeJmzAeN9DaaIi2nqhERAEREAREQBERAEREAREQBERAcgeONp4UbZ0wfi6n+mfbPmWjiIdoYjTQd0Ld3jkx99G1BMThzP0nLST2bDWRrHP39i86r42eJifOkG6t9u6qMuaZI19z76qjmnQ5tdxopAAnNECD9q5nBkQ7RrdJ39yggDmT2FScC1pLRqWkQe3ePWohw3JOp7EBWRHVMTt3qxiA/wSoNdxvy1V7TKQYE7gqxfmbGoD/NLdSOUq0dSHofIyySfkg+b35KILAZzjfzKZbLRJIdG40hZJT4xxFmMDFegoGs3pmhpno8tRr2wW846Qwe4TstBVWerMacQWugjXz7/vV6+fZOqMNkKjaeQSH7h2kwZ2Oju7MRylZBXxfE7606enYNpsBDTVoPc0tLKdFsyTppSaSf8Aid26UF1jFKiKTsJZ/gvQl7qjTmYGNpsDXSeqx2VpLTvmJUkqKMZBjdw23nfl7EBkiDPnX2W8Q121aT/gtBxY/MRLuueoddd5psd3kLx32I1ryjQp1mMmkMpeCczxlaBm1gkRvE667BQGkUwr8c8aaM+sL6cRoB37r52Ey6tVAGpaI12X0HZR1ZB19Oi4VPETEqBoIOvdsFU7yAN9zyUQRl35yD50HVILZERE/R+5UJKEcyDLdd91FrZaWiSIie6IUycuQDZxAA8pH1/Qq1GmXAukHcA9o9/OhN+BWm3V065gQI7wu3PFQ/IJw9/WXv65XXEjRzAnuXbfiofkE4e/rL39crrRhvEbMD5j6G0kRFtPVCIiAIiIAiIgCIiAIiIAiIgCIiA5s8Znwacc8XcfUMT4bwB2IWjLJtI1Rd0KcPDiYio9p9S1cfAV4WNQOEKkTp/GNp/7q7kRcJYeMndmWpg4VJOTbOGfvFeFmf8AI6qe/wCMrQf/ALVUeArwsxrwc8ydf4xtP/dXcqKO7R5lO4U+b+exw0/wFeFoyRwfUnvxG037fxq81x4EvCpQbmq8KOaBpHxjaHTl/nfOu7l4L+3FVpBEp3aPMlYGmuL+exwhW8FXhAoOzVOHXMg6/wCG257eyovBfeD3jR1OvRpcOX1ao5okUQ2oBrvLSQOei7hvMIp1AeoIXyhhVXD7xt5aACo3cObLXDsI5hSsPFEPA03xfz2OIvvZcfn/AOUcV1n/ADW0z396p97TwhSSeD8VMmfxY9q/QnDrrDbugHfBaNOoNH0ywS0/WO9emMP/ANxR+bCv2SI+n0ub+ex+e1Hwf+EqjautqXC2LMouJLmCiMriYmROuw37AvQODfCsKtWt9z+MufWGWqXUwTUHLNO+gjXlpsuz+OeLrThnjHhmxuKeF0MGxCjf1cQua9LrUhQpMe3IQYEl0EEEnQCCrFHj/h+nimK3d/cYZb8PWlhaXdOo+xuKdy0V3lgdUY+mBlccsRrrJ0Kdkh9Pp8389jib72XhC0/xRxQnmeiHtT72XhAkzwjip/sh7V3dhfHXAGJYdiWIWuKWXwXDGtfeVK1B1Homu+SYe0Eh3IiZ2CwW48KdS6vceq4JYYVXw2yxTCbSzqV7GrTqVKdzpVL2uLTIM5TlAiDDhqnZIfT6XN/j+jlXDvBxx7Rqlz+FMUaMhAPQzrI7/KvZU8H3HMyzhXFDz/E+gLt6txlwPQ4pbwzVxGzbirqjaIpdA7L0jhLaZqZcgeRswuzHsXtxjHeGMIrU6OI17ehUqNzBvQl0NmMzsoOVs6SYCo8PFu5KwFNcX89jhL73vHUacK4oCOfQ+X7FU+D7jgvM8KYrlIgTS299F2zxrxRgmB4ddttnWVTFKdDpaNE27qjddi7IOqD3kcl47ni60w+3uq19ZWVfJfU7amy2o1JaHNY4l5LCJAdIAmdhqo7tEnuNPm/nscZu4A4zp02udwzibXNLiJpRyketQHA/FuUj7nr87iAwaSD3949C7ho47hXxlfuuThtHDLezo3LXvoPp1Wh5Orw9oEGBAGvdqpUuIeDq2HXV+y5tm0LUsFcutnMdTzEBpLS0OgkiDEJ3aPMjuFPm/nscNVOCuLGMc52AX7IB/mjT1rsLxXbS5sfAbgFreUXUa7Kl5mY4QRN3WI9RC+6ytw7jlpXqYbVpVhSdkqDoiwtJEiQ4AwRsdjyX1uC6LLfhu3o04ytfViO+o4q8KUYO6OtHDQpO8WfZREXU0BERAEREAREQBERAEREAREQBERAEREAREQBW3jVXEQHndSaV561qHAiAvoQOxUyjsQGO3OG1Gv6SlLXjmF8y5rX1vUyPpP7QQNCs1yN7Fbq29GoIezzgkH0hAaV8JnCl9xniOAVWV2WjML+GVOkezOW1XtpGichaQ9uen1gY6vavDxVwxxPxJZcQ1r1mG0cQxfDcOt3Np1nupirQuekqGSyQ0tEgamTHKVumpgzXOkYjfs7m1G/sqnxIP6UxH5xv7KA1NxtwtiPEOO8QX9Kvb0BfULH4J0zXPaatvWdUy1WgfizLRoSe7SF4cV4Z4pxR/EmKXLMIo4liuIYXeUaFO4qvot+CANIc80gRmiRDTHPtW5viQf0piXzjf2VX4kH9KYj8439lAaYHBV6zim9valnZ4hYXuNDF/wANi17RdbVC5rngUaY6KoQQcjjB2zaaLJsZw24v8WqX4oU67a9oLatQrXVe3BgkgzSnMIMFpWwPiQf0piPzjf2VX4lGn8aYj8439lAa7vMNxJtli9jhrbMW2J0abHCs+q11EtphkA5XZ2wNJgifTdusOvHW2I06JpZ6+IULyjnLg0imGaOgSCcp2lZ/8SD+lMR+cb+ynxKP6UxH5xv7KAwDFsPvsSr3tzVNCnXuKFrkjO+mKtJ5eQ4EAlhkDt7lZx7DsUxpuJXF38Fp3V1a0bWlTpPe6m1rK7arnPcWgkmCBA0ELYvxKJ/lPEfnG/sp8SD+lMR+cb+ygMLqfCqWMY7iQbLMQfQdTAnMBTpZDOnb5VlvAb3P4VtXPBDi+rIP9a9XX4E17S04piUH8439le3CbFmHWFOzp1a1VrC4h9UguMuLtYA7UB6kREAREQBERAEREB//2Q==\\n\", \"height\": 300, \"channels\": 3, \"width\": 300, \"type\": \"image\", \"id\": 4856118800}], \"selected_variable\": {\"name\": [\"<SArray>\"], \"dtype\": \"Image\", \"view_component\": \"Images\", \"view_file\": \"sarray\", \"descriptives\": {\"rows\": 1}, \"type\": \"SArray\", \"view_components\": [\"Images\"]}}, e);\n",
       "                });\n",
       "            })();\n",
       "        "
      ]
     },
     "metadata": {},
     "output_type": "display_data"
    }
   ],
   "source": [
    "gl.canvas.set_target('ipynb')\n",
    "sample['prodImg'].show()"
   ]
  },
  {
   "cell_type": "code",
   "execution_count": 24,
   "metadata": {
    "collapsed": false
   },
   "outputs": [
    {
     "data": {
      "text/plain": [
       "dtype: str\n",
       "Rows: 1\n",
       "['Conrad is regarded as one of the great novelists in English, though he did not speak the language fluently until he was in his twenties (and then always with a marked Polish accent). He wrote stories and novels, predominantly with a nautical setting, that depict trials of the human spirit by the demands of duty and honour. Conrad was a master prose stylist who brought a distinctly non-English tragic sensibility into English literature. While some of his works have a strain of romanticism, he is viewed as a precursor of modernist literature. His narrative style and anti-heroic characters have influenced many authors.']"
      ]
     },
     "execution_count": 24,
     "metadata": {},
     "output_type": "execute_result"
    }
   ],
   "source": [
    "sample['description']"
   ]
  },
  {
   "cell_type": "code",
   "execution_count": 25,
   "metadata": {
    "collapsed": false
   },
   "outputs": [],
   "source": [
    "similar_items = sm.get_similar_items(sample['asin'])"
   ]
  },
  {
   "cell_type": "code",
   "execution_count": 26,
   "metadata": {
    "collapsed": false
   },
   "outputs": [
    {
     "data": {
      "text/plain": [
       "dtype: str\n",
       "Rows: 10\n",
       "['B004TPFMI2', 'B004TPFMI2', 'B004TPFMI2', 'B004TPFMI2', 'B004TPFMI2', 'B004TPFMI2', 'B004TPFMI2', 'B004TPFMI2', 'B004TPFMI2', 'B004TPFMI2']"
      ]
     },
     "execution_count": 26,
     "metadata": {},
     "output_type": "execute_result"
    }
   ],
   "source": [
    "similar_items['asin']"
   ]
  },
  {
   "cell_type": "code",
   "execution_count": 27,
   "metadata": {
    "collapsed": false
   },
   "outputs": [],
   "source": [
    "related_items = getAsinRows(similar_items['asin'])"
   ]
  },
  {
   "cell_type": "code",
   "execution_count": 28,
   "metadata": {
    "collapsed": false
   },
   "outputs": [
    {
     "data": {
      "application/javascript": [
       "$(\"head\").append($(\"<link/>\").attr({\n",
       "  rel:  \"stylesheet\",\n",
       "  type: \"text/css\",\n",
       "  href: \"//cdnjs.cloudflare.com/ajax/libs/font-awesome/4.1.0/css/font-awesome.min.css\"\n",
       "}));\n",
       "$(\"head\").append($(\"<link/>\").attr({\n",
       "  rel:  \"stylesheet\",\n",
       "  type: \"text/css\",\n",
       "  href: \"https://static.turi.com/products/graphlab-create/2.1/canvas/css/canvas.css\"\n",
       "}));\n",
       "\n",
       "            (function(){\n",
       "\n",
       "                var e = null;\n",
       "                if (typeof element == 'undefined') {\n",
       "                    var scripts = document.getElementsByTagName('script');\n",
       "                    var thisScriptTag = scripts[scripts.length-1];\n",
       "                    var parentDiv = thisScriptTag.parentNode;\n",
       "                    e = document.createElement('div');\n",
       "                    parentDiv.appendChild(e);\n",
       "                } else {\n",
       "                    e = element[0];\n",
       "                }\n",
       "\n",
       "                if (typeof requirejs !== 'undefined') {\n",
       "                    // disable load timeout; ipython_app.js is large and can take a while to load.\n",
       "                    requirejs.config({waitSeconds: 0});\n",
       "                }\n",
       "\n",
       "                require(['https://static.turi.com/products/graphlab-create/2.1/canvas/js/ipython_app.js'], function(IPythonApp){\n",
       "                    var app = new IPythonApp();\n",
       "                    app.attachView('sarray','Images', {\"ipython\": true, \"rows\": [{\"format\": \"jpeg\", \"value\": \"image/jpeg;base64,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\\n\", \"height\": 300, \"channels\": 3, \"width\": 300, \"type\": \"image\", \"id\": 4856118416}], \"selected_variable\": {\"name\": [\"<SArray>\"], \"dtype\": \"Image\", \"view_component\": \"Images\", \"view_file\": \"sarray\", \"descriptives\": {\"rows\": 1}, \"type\": \"SArray\", \"view_components\": [\"Images\"]}}, e);\n",
       "                });\n",
       "            })();\n",
       "        "
      ]
     },
     "metadata": {},
     "output_type": "display_data"
    }
   ],
   "source": [
    "related_items['prodImg'].show()"
   ]
  },
  {
   "cell_type": "code",
   "execution_count": null,
   "metadata": {
    "collapsed": true
   },
   "outputs": [],
   "source": []
  }
 ],
 "metadata": {
  "kernelspec": {
   "display_name": "Python 2",
   "language": "python",
   "name": "python2"
  },
  "language_info": {
   "codemirror_mode": {
    "name": "ipython",
    "version": 2
   },
   "file_extension": ".py",
   "mimetype": "text/x-python",
   "name": "python",
   "nbconvert_exporter": "python",
   "pygments_lexer": "ipython2",
   "version": "2.7.11"
  }
 },
 "nbformat": 4,
 "nbformat_minor": 2
}
